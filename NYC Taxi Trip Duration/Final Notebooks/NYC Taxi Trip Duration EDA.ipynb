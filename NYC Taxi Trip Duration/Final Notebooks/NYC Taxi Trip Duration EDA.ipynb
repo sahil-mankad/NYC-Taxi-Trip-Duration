{
 "cells": [
  {
   "cell_type": "markdown",
   "metadata": {
    "id": "ztaAaNwiSISi"
   },
   "source": [
    "Here is the description of all the variables / features available in the dataset which will help you to perform EDA:\n",
    "\n",
    "* id - a unique identifier for each trip\n",
    "* vendor_id - a code indicating the provider associated with the trip record\n",
    "* pickup_datetime - date and time when the meter was engaged\n",
    "* dropoff_datetime - date and time when the meter was disengaged\n",
    "* passenger_count - the number of passengers in the vehicle (driver entered value)\n",
    "* pickup_longitude - the longitude where the meter was engaged\n",
    "* pickup_latitude - the latitude where the meter was engaged\n",
    "* dropoff_longitude - the longitude where the meter was disengaged\n",
    "* dropoff_latitude - the latitude where the meter was disengaged\n",
    "* store_and_fwd_flag - This flag indicates whether the trip record was held in vehicle memory before sending to the vendor because the vehicle did not have a connection to the server (Y=store and forward; N=not a store and forward trip)\n",
    "* trip_duration - (target) duration of the trip in seconds"
   ]
  },
  {
   "cell_type": "markdown",
   "metadata": {
    "id": "_f3BUhy7PyB2"
   },
   "source": [
    "# Setup"
   ]
  },
  {
   "cell_type": "code",
   "execution_count": null,
   "metadata": {
    "id": "eqFpwxFVbS9k"
   },
   "outputs": [],
   "source": [
    "! pip install geopy"
   ]
  },
  {
   "cell_type": "code",
   "execution_count": null,
   "metadata": {
    "id": "AGzngAl9al32"
   },
   "outputs": [],
   "source": [
    "import numpy as np\n",
    "import pandas as pd\n",
    "\n",
    "import matplotlib.pyplot as plt\n",
    "import seaborn as sns\n",
    "sns.set()\n",
    "sns.set(style=\"darkgrid\")\n",
    "\n",
    "import warnings\n",
    "warnings.filterwarnings('ignore')\n",
    "\n",
    "import os"
   ]
  },
  {
   "cell_type": "code",
   "execution_count": null,
   "metadata": {
    "colab": {
     "base_uri": "https://localhost:8080/",
     "height": 122
    },
    "executionInfo": {
     "elapsed": 37069,
     "status": "ok",
     "timestamp": 1579586061753,
     "user": {
      "displayName": "SAHIL MANKAD",
      "photoUrl": "",
      "userId": "01524592176474520459"
     },
     "user_tz": -330
    },
    "id": "GoYk1PIKbThb",
    "outputId": "97d5e33f-c3b5-42e1-fa50-689f84bca56e"
   },
   "outputs": [
    {
     "name": "stdout",
     "output_type": "stream",
     "text": [
      "Go to this URL in a browser: https://accounts.google.com/o/oauth2/auth?client_id=947318989803-6bn6qk8qdgf4n4g3pfee6491hc0brc4i.apps.googleusercontent.com&redirect_uri=urn%3aietf%3awg%3aoauth%3a2.0%3aoob&response_type=code&scope=email%20https%3a%2f%2fwww.googleapis.com%2fauth%2fdocs.test%20https%3a%2f%2fwww.googleapis.com%2fauth%2fdrive%20https%3a%2f%2fwww.googleapis.com%2fauth%2fdrive.photos.readonly%20https%3a%2f%2fwww.googleapis.com%2fauth%2fpeopleapi.readonly\n",
      "\n",
      "Enter your authorization code:\n",
      "··········\n",
      "Mounted at /content/drive/\n"
     ]
    }
   ],
   "source": [
    "from google.colab import drive\n",
    "drive.mount('/content/drive/')"
   ]
  },
  {
   "cell_type": "markdown",
   "metadata": {
    "id": "lZ8UhBDPal37"
   },
   "source": [
    "## Loading Data\n",
    "Loading the csv as a dataframe and checking structure of the dataset"
   ]
  },
  {
   "cell_type": "code",
   "execution_count": null,
   "metadata": {
    "id": "JbgHPmsXRkRf"
   },
   "outputs": [],
   "source": [
    "path = input(\"Enter the path:\") \n",
    "os.chdir(path)"
   ]
  },
  {
   "cell_type": "code",
   "execution_count": null,
   "metadata": {
    "id": "VRod9WLUal38"
   },
   "outputs": [],
   "source": [
    "df = pd.read_csv(\"nyc_taxi_trip_duration.csv\")"
   ]
  },
  {
   "cell_type": "markdown",
   "metadata": {
    "id": "lMslpOsgSmnY"
   },
   "source": [
    "# Peeking at the data"
   ]
  },
  {
   "cell_type": "code",
   "execution_count": null,
   "metadata": {
    "colab": {
     "base_uri": "https://localhost:8080/",
     "height": 34
    },
    "executionInfo": {
     "elapsed": 1298,
     "status": "ok",
     "timestamp": 1578388415711,
     "user": {
      "displayName": "SAHIL MANKAD",
      "photoUrl": "",
      "userId": "01524592176474520459"
     },
     "user_tz": -330
    },
    "id": "3FP4janER7PX",
    "outputId": "5c5a4f17-a89a-4913-c6e5-1560269b02b0"
   },
   "outputs": [
    {
     "data": {
      "text/plain": [
       "(729322, 11)"
      ]
     },
     "execution_count": 5,
     "metadata": {
      "tags": []
     },
     "output_type": "execute_result"
    }
   ],
   "source": [
    "df.shape"
   ]
  },
  {
   "cell_type": "code",
   "execution_count": null,
   "metadata": {
    "colab": {
     "base_uri": "https://localhost:8080/",
     "height": 309
    },
    "executionInfo": {
     "elapsed": 1571,
     "status": "ok",
     "timestamp": 1578388688915,
     "user": {
      "displayName": "SAHIL MANKAD",
      "photoUrl": "",
      "userId": "01524592176474520459"
     },
     "user_tz": -330
    },
    "id": "bXSaVj-tS_hR",
    "outputId": "8b7b6099-ae46-48d9-eb6e-a475a38f037d"
   },
   "outputs": [
    {
     "data": {
      "text/html": [
       "<div>\n",
       "<style scoped>\n",
       "    .dataframe tbody tr th:only-of-type {\n",
       "        vertical-align: middle;\n",
       "    }\n",
       "\n",
       "    .dataframe tbody tr th {\n",
       "        vertical-align: top;\n",
       "    }\n",
       "\n",
       "    .dataframe thead th {\n",
       "        text-align: right;\n",
       "    }\n",
       "</style>\n",
       "<table border=\"1\" class=\"dataframe\">\n",
       "  <thead>\n",
       "    <tr style=\"text-align: right;\">\n",
       "      <th></th>\n",
       "      <th>id</th>\n",
       "      <th>vendor_id</th>\n",
       "      <th>pickup_datetime</th>\n",
       "      <th>dropoff_datetime</th>\n",
       "      <th>passenger_count</th>\n",
       "      <th>pickup_longitude</th>\n",
       "      <th>pickup_latitude</th>\n",
       "      <th>dropoff_longitude</th>\n",
       "      <th>dropoff_latitude</th>\n",
       "      <th>store_and_fwd_flag</th>\n",
       "      <th>trip_duration</th>\n",
       "    </tr>\n",
       "  </thead>\n",
       "  <tbody>\n",
       "    <tr>\n",
       "      <th>0</th>\n",
       "      <td>id1080784</td>\n",
       "      <td>2</td>\n",
       "      <td>2016-02-29 16:40:21</td>\n",
       "      <td>2016-02-29 16:47:01</td>\n",
       "      <td>1</td>\n",
       "      <td>-73.953918</td>\n",
       "      <td>40.778873</td>\n",
       "      <td>-73.963875</td>\n",
       "      <td>40.771164</td>\n",
       "      <td>N</td>\n",
       "      <td>400</td>\n",
       "    </tr>\n",
       "    <tr>\n",
       "      <th>1</th>\n",
       "      <td>id0889885</td>\n",
       "      <td>1</td>\n",
       "      <td>2016-03-11 23:35:37</td>\n",
       "      <td>2016-03-11 23:53:57</td>\n",
       "      <td>2</td>\n",
       "      <td>-73.988312</td>\n",
       "      <td>40.731743</td>\n",
       "      <td>-73.994751</td>\n",
       "      <td>40.694931</td>\n",
       "      <td>N</td>\n",
       "      <td>1100</td>\n",
       "    </tr>\n",
       "    <tr>\n",
       "      <th>2</th>\n",
       "      <td>id0857912</td>\n",
       "      <td>2</td>\n",
       "      <td>2016-02-21 17:59:33</td>\n",
       "      <td>2016-02-21 18:26:48</td>\n",
       "      <td>2</td>\n",
       "      <td>-73.997314</td>\n",
       "      <td>40.721458</td>\n",
       "      <td>-73.948029</td>\n",
       "      <td>40.774918</td>\n",
       "      <td>N</td>\n",
       "      <td>1635</td>\n",
       "    </tr>\n",
       "    <tr>\n",
       "      <th>3</th>\n",
       "      <td>id3744273</td>\n",
       "      <td>2</td>\n",
       "      <td>2016-01-05 09:44:31</td>\n",
       "      <td>2016-01-05 10:03:32</td>\n",
       "      <td>6</td>\n",
       "      <td>-73.961670</td>\n",
       "      <td>40.759720</td>\n",
       "      <td>-73.956779</td>\n",
       "      <td>40.780628</td>\n",
       "      <td>N</td>\n",
       "      <td>1141</td>\n",
       "    </tr>\n",
       "    <tr>\n",
       "      <th>4</th>\n",
       "      <td>id0232939</td>\n",
       "      <td>1</td>\n",
       "      <td>2016-02-17 06:42:23</td>\n",
       "      <td>2016-02-17 06:56:31</td>\n",
       "      <td>1</td>\n",
       "      <td>-74.017120</td>\n",
       "      <td>40.708469</td>\n",
       "      <td>-73.988182</td>\n",
       "      <td>40.740631</td>\n",
       "      <td>N</td>\n",
       "      <td>848</td>\n",
       "    </tr>\n",
       "  </tbody>\n",
       "</table>\n",
       "</div>"
      ],
      "text/plain": [
       "          id  vendor_id  ... store_and_fwd_flag trip_duration\n",
       "0  id1080784          2  ...                  N           400\n",
       "1  id0889885          1  ...                  N          1100\n",
       "2  id0857912          2  ...                  N          1635\n",
       "3  id3744273          2  ...                  N          1141\n",
       "4  id0232939          1  ...                  N           848\n",
       "\n",
       "[5 rows x 11 columns]"
      ]
     },
     "execution_count": 8,
     "metadata": {
      "tags": []
     },
     "output_type": "execute_result"
    }
   ],
   "source": [
    "df.head()"
   ]
  },
  {
   "cell_type": "code",
   "execution_count": null,
   "metadata": {
    "colab": {
     "base_uri": "https://localhost:8080/",
     "height": 221
    },
    "executionInfo": {
     "elapsed": 1117,
     "status": "ok",
     "timestamp": 1578388751004,
     "user": {
      "displayName": "SAHIL MANKAD",
      "photoUrl": "",
      "userId": "01524592176474520459"
     },
     "user_tz": -330
    },
    "id": "HM0bNgXkR9xg",
    "outputId": "99eba9c2-9353-4b06-86a4-b33f6d8db326"
   },
   "outputs": [
    {
     "data": {
      "text/plain": [
       "id                     object\n",
       "vendor_id               int64\n",
       "pickup_datetime        object\n",
       "dropoff_datetime       object\n",
       "passenger_count         int64\n",
       "pickup_longitude      float64\n",
       "pickup_latitude       float64\n",
       "dropoff_longitude     float64\n",
       "dropoff_latitude      float64\n",
       "store_and_fwd_flag     object\n",
       "trip_duration           int64\n",
       "dtype: object"
      ]
     },
     "execution_count": 9,
     "metadata": {
      "tags": []
     },
     "output_type": "execute_result"
    }
   ],
   "source": [
    "# checking data-types of variables to identify the numerical and categorical variables\n",
    "df.dtypes"
   ]
  },
  {
   "cell_type": "markdown",
   "metadata": {
    "id": "N3XW1IjKSj4G"
   },
   "source": [
    "Let us see the number of vendors in the dataset."
   ]
  },
  {
   "cell_type": "code",
   "execution_count": null,
   "metadata": {
    "colab": {
     "base_uri": "https://localhost:8080/",
     "height": 68
    },
    "executionInfo": {
     "elapsed": 711,
     "status": "ok",
     "timestamp": 1578388559651,
     "user": {
      "displayName": "SAHIL MANKAD",
      "photoUrl": "",
      "userId": "01524592176474520459"
     },
     "user_tz": -330
    },
    "id": "23KL-TsGSa3D",
    "outputId": "ae9db662-d23f-459e-cb56-52f1a0a313fc"
   },
   "outputs": [
    {
     "data": {
      "text/plain": [
       "2    390481\n",
       "1    338841\n",
       "Name: vendor_id, dtype: int64"
      ]
     },
     "execution_count": 7,
     "metadata": {
      "tags": []
     },
     "output_type": "execute_result"
    }
   ],
   "source": [
    "df['vendor_id'].value_counts()"
   ]
  },
  {
   "cell_type": "markdown",
   "metadata": {
    "id": "I-NKvZlwSwTS"
   },
   "source": [
    "There are 2 vendors: thus, we can consider vendor_id as categorical variable even though it is of integer type."
   ]
  },
  {
   "cell_type": "markdown",
   "metadata": {
    "id": "yCmSiAIaSKQ9"
   },
   "source": [
    "# Categorizing the features :\n"
   ]
  },
  {
   "cell_type": "markdown",
   "metadata": {
    "id": "yD2t0r6xztJg"
   },
   "source": [
    "Let's divide features into categories:\n",
    "\n",
    "Geographical: pickup_longitude , pickup_latitude , dropoff_longitude , dropoff_latitude   \n",
    "\n",
    "Time related: pickup_datetime, dropoff_datetime\n",
    "\n",
    "Identifier: id(not useful for analysis)\n",
    "\n",
    "Others: vendor_id, passenger_count, store_and_fwd_flag\n",
    "\n",
    "Target: trip_duration"
   ]
  },
  {
   "cell_type": "markdown",
   "metadata": {
    "id": "QvI5babUmZQ_"
   },
   "source": [
    "# Peeking into  numerical features"
   ]
  },
  {
   "cell_type": "markdown",
   "metadata": {
    "id": "P8eqGOmdo7ml"
   },
   "source": [
    "Let us check the distribution of the non -target numerical variables"
   ]
  },
  {
   "cell_type": "code",
   "execution_count": null,
   "metadata": {
    "colab": {
     "base_uri": "https://localhost:8080/",
     "height": 297
    },
    "executionInfo": {
     "elapsed": 1433,
     "status": "ok",
     "timestamp": 1578394463853,
     "user": {
      "displayName": "SAHIL MANKAD",
      "photoUrl": "",
      "userId": "01524592176474520459"
     },
     "user_tz": -330
    },
    "id": "tTetiElIm1nv",
    "outputId": "34b807cc-7003-4ee6-a257-11fcc0027313"
   },
   "outputs": [
    {
     "data": {
      "text/html": [
       "<div>\n",
       "<style scoped>\n",
       "    .dataframe tbody tr th:only-of-type {\n",
       "        vertical-align: middle;\n",
       "    }\n",
       "\n",
       "    .dataframe tbody tr th {\n",
       "        vertical-align: top;\n",
       "    }\n",
       "\n",
       "    .dataframe thead th {\n",
       "        text-align: right;\n",
       "    }\n",
       "</style>\n",
       "<table border=\"1\" class=\"dataframe\">\n",
       "  <thead>\n",
       "    <tr style=\"text-align: right;\">\n",
       "      <th></th>\n",
       "      <th>passenger_count</th>\n",
       "      <th>pickup_longitude</th>\n",
       "      <th>pickup_latitude</th>\n",
       "      <th>dropoff_longitude</th>\n",
       "      <th>dropoff_latitude</th>\n",
       "    </tr>\n",
       "  </thead>\n",
       "  <tbody>\n",
       "    <tr>\n",
       "      <th>count</th>\n",
       "      <td>729322.000000</td>\n",
       "      <td>729322.000000</td>\n",
       "      <td>729322.000000</td>\n",
       "      <td>729322.000000</td>\n",
       "      <td>729322.000000</td>\n",
       "    </tr>\n",
       "    <tr>\n",
       "      <th>mean</th>\n",
       "      <td>1.662055</td>\n",
       "      <td>-73.973513</td>\n",
       "      <td>40.750919</td>\n",
       "      <td>-73.973422</td>\n",
       "      <td>40.751775</td>\n",
       "    </tr>\n",
       "    <tr>\n",
       "      <th>std</th>\n",
       "      <td>1.312446</td>\n",
       "      <td>0.069754</td>\n",
       "      <td>0.033594</td>\n",
       "      <td>0.069588</td>\n",
       "      <td>0.036037</td>\n",
       "    </tr>\n",
       "    <tr>\n",
       "      <th>min</th>\n",
       "      <td>0.000000</td>\n",
       "      <td>-121.933342</td>\n",
       "      <td>34.712234</td>\n",
       "      <td>-121.933304</td>\n",
       "      <td>32.181141</td>\n",
       "    </tr>\n",
       "    <tr>\n",
       "      <th>25%</th>\n",
       "      <td>1.000000</td>\n",
       "      <td>-73.991859</td>\n",
       "      <td>40.737335</td>\n",
       "      <td>-73.991318</td>\n",
       "      <td>40.735931</td>\n",
       "    </tr>\n",
       "    <tr>\n",
       "      <th>50%</th>\n",
       "      <td>1.000000</td>\n",
       "      <td>-73.981758</td>\n",
       "      <td>40.754070</td>\n",
       "      <td>-73.979759</td>\n",
       "      <td>40.754509</td>\n",
       "    </tr>\n",
       "    <tr>\n",
       "      <th>75%</th>\n",
       "      <td>2.000000</td>\n",
       "      <td>-73.967361</td>\n",
       "      <td>40.768314</td>\n",
       "      <td>-73.963036</td>\n",
       "      <td>40.769741</td>\n",
       "    </tr>\n",
       "    <tr>\n",
       "      <th>max</th>\n",
       "      <td>9.000000</td>\n",
       "      <td>-65.897385</td>\n",
       "      <td>51.881084</td>\n",
       "      <td>-65.897385</td>\n",
       "      <td>43.921028</td>\n",
       "    </tr>\n",
       "  </tbody>\n",
       "</table>\n",
       "</div>"
      ],
      "text/plain": [
       "       passenger_count  pickup_longitude  ...  dropoff_longitude  dropoff_latitude\n",
       "count    729322.000000     729322.000000  ...      729322.000000     729322.000000\n",
       "mean          1.662055        -73.973513  ...         -73.973422         40.751775\n",
       "std           1.312446          0.069754  ...           0.069588          0.036037\n",
       "min           0.000000       -121.933342  ...        -121.933304         32.181141\n",
       "25%           1.000000        -73.991859  ...         -73.991318         40.735931\n",
       "50%           1.000000        -73.981758  ...         -73.979759         40.754509\n",
       "75%           2.000000        -73.967361  ...         -73.963036         40.769741\n",
       "max           9.000000        -65.897385  ...         -65.897385         43.921028\n",
       "\n",
       "[8 rows x 5 columns]"
      ]
     },
     "execution_count": 31,
     "metadata": {
      "tags": []
     },
     "output_type": "execute_result"
    }
   ],
   "source": [
    "numerical_cols = ['passenger_count','pickup_longitude' , 'pickup_latitude' , 'dropoff_longitude' , 'dropoff_latitude']\n",
    "df[numerical_cols].describe()"
   ]
  },
  {
   "cell_type": "markdown",
   "metadata": {
    "id": "k3d65SKnpJYq"
   },
   "source": [
    "From the above table we do not see many outliers, with the exception of higher values of pickup and dropoff longitudes.\n"
   ]
  },
  {
   "cell_type": "markdown",
   "metadata": {
    "id": "tX6SNsH5Ux2p"
   },
   "source": [
    "# Target variable exploration"
   ]
  },
  {
   "cell_type": "code",
   "execution_count": null,
   "metadata": {
    "colab": {
     "base_uri": "https://localhost:8080/",
     "height": 34
    },
    "executionInfo": {
     "elapsed": 1040,
     "status": "ok",
     "timestamp": 1578389820128,
     "user": {
      "displayName": "SAHIL MANKAD",
      "photoUrl": "",
      "userId": "01524592176474520459"
     },
     "user_tz": -330
    },
    "id": "_R-zbAhRXSur",
    "outputId": "7cfb9e99-7a12-4706-8d9b-0269cad0d92a"
   },
   "outputs": [
    {
     "data": {
      "text/plain": [
       "1"
      ]
     },
     "execution_count": 14,
     "metadata": {
      "tags": []
     },
     "output_type": "execute_result"
    }
   ],
   "source": [
    "# Checking minimum trip time\n",
    "df['trip_duration'].min()"
   ]
  },
  {
   "cell_type": "code",
   "execution_count": null,
   "metadata": {
    "colab": {
     "base_uri": "https://localhost:8080/",
     "height": 34
    },
    "executionInfo": {
     "elapsed": 1091,
     "status": "ok",
     "timestamp": 1578389837356,
     "user": {
      "displayName": "SAHIL MANKAD",
      "photoUrl": "",
      "userId": "01524592176474520459"
     },
     "user_tz": -330
    },
    "id": "DMKrXxgaXVw_",
    "outputId": "1b160124-4f39-456c-89a3-7db975fcf583"
   },
   "outputs": [
    {
     "data": {
      "text/plain": [
       "1939736"
      ]
     },
     "execution_count": 15,
     "metadata": {
      "tags": []
     },
     "output_type": "execute_result"
    }
   ],
   "source": [
    "# Checking maximum trip time\n",
    "df['trip_duration'].max()"
   ]
  },
  {
   "cell_type": "code",
   "execution_count": null,
   "metadata": {
    "colab": {
     "base_uri": "https://localhost:8080/",
     "height": 170
    },
    "executionInfo": {
     "elapsed": 1038,
     "status": "ok",
     "timestamp": 1578390040290,
     "user": {
      "displayName": "SAHIL MANKAD",
      "photoUrl": "",
      "userId": "01524592176474520459"
     },
     "user_tz": -330
    },
    "id": "z8A-D_cxXc7s",
    "outputId": "8e887f81-6a05-4735-ae52-e2309e4ad7ca"
   },
   "outputs": [
    {
     "data": {
      "text/plain": [
       "count     729322.000000\n",
       "mean         952.229133\n",
       "std         3864.626197\n",
       "min            1.000000\n",
       "25%          397.000000\n",
       "50%          663.000000\n",
       "75%         1075.000000\n",
       "max      1939736.000000\n",
       "Name: trip_duration, dtype: object"
      ]
     },
     "execution_count": 19,
     "metadata": {
      "tags": []
     },
     "output_type": "execute_result"
    }
   ],
   "source": [
    "# Checking distribution for trip time\n",
    "df['trip_duration'].describe().apply(lambda x: format(x, 'f')) #ensuring we get values in float and not in scientific notation "
   ]
  },
  {
   "cell_type": "code",
   "execution_count": null,
   "metadata": {
    "colab": {
     "base_uri": "https://localhost:8080/",
     "height": 266
    },
    "executionInfo": {
     "elapsed": 1118,
     "status": "ok",
     "timestamp": 1578394754837,
     "user": {
      "displayName": "SAHIL MANKAD",
      "photoUrl": "",
      "userId": "01524592176474520459"
     },
     "user_tz": -330
    },
    "id": "P6BwFI30kB2p",
    "outputId": "b4cc833b-ee5b-462b-d639-1b5d76b8ac52"
   },
   "outputs": [
    {
     "data": {
      "text/plain": [
       "<matplotlib.axes._subplots.AxesSubplot at 0x7f9d6f2f8908>"
      ]
     },
     "execution_count": 32,
     "metadata": {
      "tags": []
     },
     "output_type": "execute_result"
    },
    {
     "data": {
      "image/png": "[encoded data removed]",
      "text/plain": [
       "<Figure size 432x288 with 1 Axes>"
      ]
     },
     "metadata": {
      "tags": []
     },
     "output_type": "display_data"
    }
   ],
   "source": [
    "sns.boxplot(df['trip_duration'], orient='vertical')"
   ]
  },
  {
   "cell_type": "markdown",
   "metadata": {
    "id": "9XgY9n16qSY4"
   },
   "source": [
    "Let us set a limit to y axis, so that we can visualize the distribution better, we'll miss out on a few outliers in this case "
   ]
  },
  {
   "cell_type": "code",
   "execution_count": null,
   "metadata": {
    "colab": {
     "base_uri": "https://localhost:8080/",
     "height": 275
    },
    "executionInfo": {
     "elapsed": 1217,
     "status": "ok",
     "timestamp": 1578394883553,
     "user": {
      "displayName": "SAHIL MANKAD",
      "photoUrl": "",
      "userId": "01524592176474520459"
     },
     "user_tz": -330
    },
    "id": "0AGbhtG-qfpi",
    "outputId": "4376cc31-16ac-493f-9162-aa19568a7694"
   },
   "outputs": [
    {
     "data": {
      "text/plain": [
       "<matplotlib.axes._subplots.AxesSubplot at 0x7f9d6f298160>"
      ]
     },
     "execution_count": 34,
     "metadata": {
      "tags": []
     },
     "output_type": "execute_result"
    },
    {
     "data": {
      "image/png": "[encoded data removed]",
      "text/plain": [
       "<Figure size 432x288 with 1 Axes>"
      ]
     },
     "metadata": {
      "tags": []
     },
     "output_type": "display_data"
    }
   ],
   "source": [
    "plt.ylim(0, 20000)\n",
    "sns.boxplot(df['trip_duration'], orient='vertical')"
   ]
  },
  {
   "cell_type": "markdown",
   "metadata": {
    "id": "ZVmzvdfGppf0"
   },
   "source": [
    "From the above boxplots, we can infer that most trips complete within 2500 seconds, but few last longer, as long as 2000000 seconds. Below is the histogram after applying log transform on trip_duration variable, which helps us visualize the distribution in a clear manner"
   ]
  },
  {
   "cell_type": "code",
   "execution_count": null,
   "metadata": {
    "colab": {
     "base_uri": "https://localhost:8080/",
     "height": 302
    },
    "executionInfo": {
     "elapsed": 1998,
     "status": "ok",
     "timestamp": 1578401970707,
     "user": {
      "displayName": "SAHIL MANKAD",
      "photoUrl": "",
      "userId": "01524592176474520459"
     },
     "user_tz": -330
    },
    "id": "hT0kmPnTFdc2",
    "outputId": "fc5c08c9-1ef6-4a93-81bd-71184be71ece"
   },
   "outputs": [
    {
     "data": {
      "text/plain": [
       "<matplotlib.axes._subplots.AxesSubplot at 0x7f9d6d478dd8>"
      ]
     },
     "execution_count": 50,
     "metadata": {
      "tags": []
     },
     "output_type": "execute_result"
    },
    {
     "data": {
      "image/png": "[encoded data removed]",
      "text/plain": [
       "<Figure size 432x288 with 1 Axes>"
      ]
     },
     "metadata": {
      "tags": []
     },
     "output_type": "display_data"
    }
   ],
   "source": [
    "temp = np.log(df['trip_duration'])\n",
    "sns.distplot(temp,kde=False)"
   ]
  },
  {
   "cell_type": "markdown",
   "metadata": {
    "id": "o8jQmtkKsEdu"
   },
   "source": [
    "# Exploring geographical variables "
   ]
  },
  {
   "cell_type": "markdown",
   "metadata": {
    "id": "1x-JLdgOixPi"
   },
   "source": [
    "## Exploring Lat-Long attributes"
   ]
  },
  {
   "cell_type": "markdown",
   "metadata": {
    "id": "bxT0JZVdJahn"
   },
   "source": [
    "Let's plot and see if we find any similarities between latitudes and longitudes. We will use log transforms for better visualization and add a contant to dataframe values as logs can't process negative values."
   ]
  },
  {
   "cell_type": "code",
   "execution_count": null,
   "metadata": {
    "colab": {
     "base_uri": "https://localhost:8080/",
     "height": 450
    },
    "executionInfo": {
     "elapsed": 3831,
     "status": "ok",
     "timestamp": 1578552489455,
     "user": {
      "displayName": "SAHIL MANKAD",
      "photoUrl": "",
      "userId": "01524592176474520459"
     },
     "user_tz": -330
    },
    "id": "BqW8NBi7JgSs",
    "outputId": "30cc36ff-b9b6-4bf6-9d80-59313c7df233"
   },
   "outputs": [
    {
     "data": {
      "image/png": "[encoded data removed]",
      "text/plain": [
       "<Figure size 864x432 with 4 Axes>"
      ]
     },
     "metadata": {
      "tags": []
     },
     "output_type": "display_data"
    }
   ],
   "source": [
    "fig, axes = plt.subplots(nrows =2 , ncols=2, figsize=(12, 6))\n",
    "fig.tight_layout()\n",
    "ax1,ax2,ax3,ax4 = axes[0][0] , axes[0][1] , axes[1][0] , axes[1][1] \n",
    "\n",
    "\n",
    "temp = np.log(df['pickup_longitude'] + 150) \n",
    "sns.distplot(temp, kde = False, bins = 100, ax = ax1)\n",
    "\n",
    "temp = np.log(df['pickup_latitude'] + 150) \n",
    "sns.distplot(temp, kde = False, bins = 100, ax = ax2)\n",
    "\n",
    "temp = np.log(df['dropoff_longitude'] + 150) \n",
    "sns.distplot(temp, kde = False, bins = 100, ax = ax3)\n",
    "\n",
    "temp = np.log(df['dropoff_latitude'] + 150) \n",
    "sns.distplot(temp, kde = False, bins = 100, ax = ax4)\n",
    "\n",
    "plt.show()"
   ]
  },
  {
   "cell_type": "code",
   "execution_count": null,
   "metadata": {
    "id": "WtOaFddK8EY6"
   },
   "outputs": [],
   "source": [
    "sns.set(style=\"white\", palette=\"muted\", color_codes=True)\n",
    "f, axes = plt.subplots(2,2,figsize=(10, 10), sharex=False, sharey = False)\n",
    "sns.despine(left=True)\n",
    "sns.distplot(df['pickup_latitude'].values, label = 'pickup_latitude',color=\"b\",bins = 100, ax=axes[0,0])\n",
    "sns.distplot(df['pickup_longitude'].values, label = 'pickup_longitude',color=\"r\",bins =100, ax=axes[1,0])\n",
    "sns.distplot(df['dropoff_latitude'].values, label = 'dropoff_latitude',color=\"b\",bins =100, ax=axes[0,1])\n",
    "sns.distplot(df['dropoff_longitude'].values, label = 'dropoff_longitude',color=\"r\",bins =100, ax=axes[1,1])\n",
    "plt.setp(axes, yticks=[])\n",
    "plt.tight_layout()\n",
    "plt.show()"
   ]
  },
  {
   "cell_type": "markdown",
   "metadata": {
    "id": "ItCLj9maPXcO"
   },
   "source": [
    "From the above plots we can infer that there's no difference between pickup and dropoff longitudes, but some difference between latitudes. Let us now see the corelation between variables."
   ]
  },
  {
   "cell_type": "code",
   "execution_count": null,
   "metadata": {
    "colab": {
     "base_uri": "https://localhost:8080/",
     "height": 204
    },
    "executionInfo": {
     "elapsed": 1081,
     "status": "ok",
     "timestamp": 1578552813350,
     "user": {
      "displayName": "SAHIL MANKAD",
      "photoUrl": "",
      "userId": "01524592176474520459"
     },
     "user_tz": -330
    },
    "id": "c1HGiVoORp9Q",
    "outputId": "26ddca9a-dca1-439f-e586-87ae39e7b1dc"
   },
   "outputs": [
    {
     "data": {
      "text/html": [
       "<div>\n",
       "<style scoped>\n",
       "    .dataframe tbody tr th:only-of-type {\n",
       "        vertical-align: middle;\n",
       "    }\n",
       "\n",
       "    .dataframe tbody tr th {\n",
       "        vertical-align: top;\n",
       "    }\n",
       "\n",
       "    .dataframe thead th {\n",
       "        text-align: right;\n",
       "    }\n",
       "</style>\n",
       "<table border=\"1\" class=\"dataframe\">\n",
       "  <thead>\n",
       "    <tr style=\"text-align: right;\">\n",
       "      <th></th>\n",
       "      <th>pickup_longitude</th>\n",
       "      <th>pickup_latitude</th>\n",
       "      <th>dropoff_longitude</th>\n",
       "      <th>dropoff_latitude</th>\n",
       "      <th>trip_duration</th>\n",
       "    </tr>\n",
       "  </thead>\n",
       "  <tbody>\n",
       "    <tr>\n",
       "      <th>pickup_longitude</th>\n",
       "      <td>1.000000</td>\n",
       "      <td>0.047635</td>\n",
       "      <td>0.780647</td>\n",
       "      <td>0.118473</td>\n",
       "      <td>0.035447</td>\n",
       "    </tr>\n",
       "    <tr>\n",
       "      <th>pickup_latitude</th>\n",
       "      <td>0.047635</td>\n",
       "      <td>1.000000</td>\n",
       "      <td>0.119970</td>\n",
       "      <td>0.479352</td>\n",
       "      <td>-0.038163</td>\n",
       "    </tr>\n",
       "    <tr>\n",
       "      <th>dropoff_longitude</th>\n",
       "      <td>0.780647</td>\n",
       "      <td>0.119970</td>\n",
       "      <td>1.000000</td>\n",
       "      <td>0.149598</td>\n",
       "      <td>0.020664</td>\n",
       "    </tr>\n",
       "    <tr>\n",
       "      <th>dropoff_latitude</th>\n",
       "      <td>0.118473</td>\n",
       "      <td>0.479352</td>\n",
       "      <td>0.149598</td>\n",
       "      <td>1.000000</td>\n",
       "      <td>-0.028283</td>\n",
       "    </tr>\n",
       "    <tr>\n",
       "      <th>trip_duration</th>\n",
       "      <td>0.035447</td>\n",
       "      <td>-0.038163</td>\n",
       "      <td>0.020664</td>\n",
       "      <td>-0.028283</td>\n",
       "      <td>1.000000</td>\n",
       "    </tr>\n",
       "  </tbody>\n",
       "</table>\n",
       "</div>"
      ],
      "text/plain": [
       "                   pickup_longitude  ...  trip_duration\n",
       "pickup_longitude           1.000000  ...       0.035447\n",
       "pickup_latitude            0.047635  ...      -0.038163\n",
       "dropoff_longitude          0.780647  ...       0.020664\n",
       "dropoff_latitude           0.118473  ...      -0.028283\n",
       "trip_duration              0.035447  ...       1.000000\n",
       "\n",
       "[5 rows x 5 columns]"
      ]
     },
     "execution_count": 26,
     "metadata": {
      "tags": []
     },
     "output_type": "execute_result"
    }
   ],
   "source": [
    "df1 = df[['pickup_longitude' , 'pickup_latitude' , 'dropoff_longitude' , 'dropoff_latitude','trip_duration']]\n",
    "df1.corr()"
   ]
  },
  {
   "cell_type": "code",
   "execution_count": null,
   "metadata": {
    "colab": {
     "base_uri": "https://localhost:8080/",
     "height": 360
    },
    "executionInfo": {
     "elapsed": 1394,
     "status": "ok",
     "timestamp": 1578554054865,
     "user": {
      "displayName": "SAHIL MANKAD",
      "photoUrl": "",
      "userId": "01524592176474520459"
     },
     "user_tz": -330
    },
    "id": "8pxxXHgPEPoM",
    "outputId": "7dc5cb02-66c6-4584-ee16-0903f7033250"
   },
   "outputs": [
    {
     "data": {
      "image/png": "[encoded data removed]",
      "text/plain": [
       "<Figure size 432x288 with 2 Axes>"
      ]
     },
     "metadata": {
      "tags": []
     },
     "output_type": "display_data"
    }
   ],
   "source": [
    "corr = df1.apply(lambda x: pd.factorize(x)[0]).corr()\n",
    "ax = sns.heatmap(corr, xticklabels=corr.columns, yticklabels=corr.columns, \n",
    "                 linewidths=.2, cmap=\"YlGnBu\")"
   ]
  },
  {
   "cell_type": "markdown",
   "metadata": {
    "id": "O6WoEGBdLEdp"
   },
   "source": [
    "As seen above, there is no strong co-relation of trip_duration with any of these variables, though there is a strong positive co-relation between pickup_longitude and dropoff_longitude & between pickup_latitude and dropoff_latitude. We will have to calculate the distance in order to get more information"
   ]
  },
  {
   "cell_type": "markdown",
   "metadata": {
    "id": "CK9hBRIvfA6H"
   },
   "source": [
    "## Distance\n",
    "Let us calculate the distance between pickup and drop locations and check if it can help us provide some insights\n",
    "\n",
    "Reference: https://stackoverflow.com/questions/19412462/getting-distance-between-two-points-based-on-latitude-longitude "
   ]
  },
  {
   "cell_type": "code",
   "execution_count": null,
   "metadata": {
    "id": "_5W9Szw4agzu"
   },
   "outputs": [],
   "source": [
    "df1 = df[['pickup_longitude' , 'pickup_latitude' , 'dropoff_longitude' , 'dropoff_latitude','trip_duration']]"
   ]
  },
  {
   "cell_type": "code",
   "execution_count": null,
   "metadata": {
    "id": "-PnXoSshbfSi"
   },
   "outputs": [],
   "source": [
    "import geopy.distance\n",
    "\n",
    "temp = []\n",
    "\n",
    "for i in range(0,df1.shape[0]):\n",
    "  temp.append(geopy.distance.distance((df1['pickup_latitude'][i],df1['pickup_longitude'][i]),(df1['dropoff_latitude'][i],df1['dropoff_longitude'][i])).km)\n"
   ]
  },
  {
   "cell_type": "code",
   "execution_count": null,
   "metadata": {
    "id": "C8LzRkUmdgWs"
   },
   "outputs": [],
   "source": [
    "df1['distance_km'] = temp\n",
    "df1['distance_km'] = df1['distance_km'].apply(lambda x:round(x,2))"
   ]
  },
  {
   "cell_type": "code",
   "execution_count": null,
   "metadata": {
    "colab": {
     "base_uri": "https://localhost:8080/",
     "height": 34
    },
    "executionInfo": {
     "elapsed": 152837,
     "status": "ok",
     "timestamp": 1579671242597,
     "user": {
      "displayName": "SAHIL MANKAD",
      "photoUrl": "",
      "userId": "01524592176474520459"
     },
     "user_tz": -330
    },
    "id": "POrvfLyUdhAM",
    "outputId": "47ea9e6b-ebcd-496f-c881-7ff241fa1c31"
   },
   "outputs": [
    {
     "data": {
      "text/plain": [
       "(729322,)"
      ]
     },
     "execution_count": 44,
     "metadata": {
      "tags": []
     },
     "output_type": "execute_result"
    }
   ],
   "source": [
    "df1['distance_km'].shape"
   ]
  },
  {
   "cell_type": "code",
   "execution_count": null,
   "metadata": {
    "colab": {
     "base_uri": "https://localhost:8080/",
     "height": 170
    },
    "executionInfo": {
     "elapsed": 151460,
     "status": "ok",
     "timestamp": 1579671242600,
     "user": {
      "displayName": "SAHIL MANKAD",
      "photoUrl": "",
      "userId": "01524592176474520459"
     },
     "user_tz": -330
    },
    "id": "ji5BCzi-di1G",
    "outputId": "bd83a7c2-20ad-4733-9eaa-bd9e172b34c5"
   },
   "outputs": [
    {
     "data": {
      "text/plain": [
       "count    729322.000000\n",
       "mean          3.442463\n",
       "std           4.356670\n",
       "min           0.000000\n",
       "25%           1.230000\n",
       "50%           2.100000\n",
       "75%           3.880000\n",
       "max        1240.510000\n",
       "Name: distance_km, dtype: float64"
      ]
     },
     "execution_count": 45,
     "metadata": {
      "tags": []
     },
     "output_type": "execute_result"
    }
   ],
   "source": [
    "df1['distance_km'].describe()"
   ]
  },
  {
   "cell_type": "code",
   "execution_count": null,
   "metadata": {
    "colab": {
     "base_uri": "https://localhost:8080/",
     "height": 111
    },
    "executionInfo": {
     "elapsed": 149051,
     "status": "ok",
     "timestamp": 1579671242604,
     "user": {
      "displayName": "SAHIL MANKAD",
      "photoUrl": "",
      "userId": "01524592176474520459"
     },
     "user_tz": -330
    },
    "id": "gbr85uYPic5C",
    "outputId": "bedaf4ae-6086-4d53-9707-b8545f268631"
   },
   "outputs": [
    {
     "data": {
      "text/html": [
       "<div>\n",
       "<style scoped>\n",
       "    .dataframe tbody tr th:only-of-type {\n",
       "        vertical-align: middle;\n",
       "    }\n",
       "\n",
       "    .dataframe tbody tr th {\n",
       "        vertical-align: top;\n",
       "    }\n",
       "\n",
       "    .dataframe thead th {\n",
       "        text-align: right;\n",
       "    }\n",
       "</style>\n",
       "<table border=\"1\" class=\"dataframe\">\n",
       "  <thead>\n",
       "    <tr style=\"text-align: right;\">\n",
       "      <th></th>\n",
       "      <th>distance_km</th>\n",
       "      <th>trip_duration</th>\n",
       "    </tr>\n",
       "  </thead>\n",
       "  <tbody>\n",
       "    <tr>\n",
       "      <th>distance_km</th>\n",
       "      <td>1.00000</td>\n",
       "      <td>0.12579</td>\n",
       "    </tr>\n",
       "    <tr>\n",
       "      <th>trip_duration</th>\n",
       "      <td>0.12579</td>\n",
       "      <td>1.00000</td>\n",
       "    </tr>\n",
       "  </tbody>\n",
       "</table>\n",
       "</div>"
      ],
      "text/plain": [
       "               distance_km  trip_duration\n",
       "distance_km        1.00000        0.12579\n",
       "trip_duration      0.12579        1.00000"
      ]
     },
     "execution_count": 46,
     "metadata": {
      "tags": []
     },
     "output_type": "execute_result"
    }
   ],
   "source": [
    "df1[['distance_km','trip_duration']].corr()"
   ]
  },
  {
   "cell_type": "code",
   "execution_count": null,
   "metadata": {
    "colab": {
     "base_uri": "https://localhost:8080/",
     "height": 382
    },
    "executionInfo": {
     "elapsed": 153241,
     "status": "ok",
     "timestamp": 1579671248637,
     "user": {
      "displayName": "SAHIL MANKAD",
      "photoUrl": "",
      "userId": "01524592176474520459"
     },
     "user_tz": -330
    },
    "id": "H9de-0sbhzWt",
    "outputId": "da8f4c54-d361-4118-fb79-91233d72368d"
   },
   "outputs": [
    {
     "data": {
      "text/plain": [
       "<seaborn.axisgrid.FacetGrid at 0x7f393da3d128>"
      ]
     },
     "execution_count": 47,
     "metadata": {
      "tags": []
     },
     "output_type": "execute_result"
    },
    {
     "data": {
      "image/png": "[encoded data removed]",
      "text/plain": [
       "<Figure size 360x360 with 1 Axes>"
      ]
     },
     "metadata": {
      "tags": []
     },
     "output_type": "display_data"
    }
   ],
   "source": [
    "sns.relplot(x=\"distance_km\", y=\"trip_duration\", data=df1, kind=\"scatter\") #height,aspect"
   ]
  },
  {
   "cell_type": "markdown",
   "metadata": {
    "id": "OHJ9f7rhmj1K"
   },
   "source": [
    "Let's see distribution minus outliers for trip duration "
   ]
  },
  {
   "cell_type": "code",
   "execution_count": null,
   "metadata": {
    "colab": {
     "base_uri": "https://localhost:8080/",
     "height": 854
    },
    "executionInfo": {
     "elapsed": 155366,
     "status": "ok",
     "timestamp": 1579671254824,
     "user": {
      "displayName": "SAHIL MANKAD",
      "photoUrl": "",
      "userId": "01524592176474520459"
     },
     "user_tz": -330
    },
    "id": "kTnp3wvEmja_",
    "outputId": "b7b5f190-0064-4ec1-c9eb-d74553e9e3f8"
   },
   "outputs": [
    {
     "data": {
      "image/png": "[encoded data removed]",
      "text/plain": [
       "<Figure size 576x576 with 1 Axes>"
      ]
     },
     "metadata": {
      "tags": []
     },
     "output_type": "display_data"
    },
    {
     "data": {
      "image/png": "[encoded data removed]",
      "text/plain": [
       "<Figure size 360x360 with 1 Axes>"
      ]
     },
     "metadata": {
      "tags": []
     },
     "output_type": "display_data"
    }
   ],
   "source": [
    "fig, ax = plt.subplots()\n",
    "\n",
    "fig.set_size_inches(8, 8)\n",
    "plt.ylim(0, 20000)\n",
    "sns.relplot(x=\"distance_km\", y=\"trip_duration\", data=df1, kind=\"scatter\",ax=ax) #height,aspect\n",
    "plt.show()"
   ]
  },
  {
   "cell_type": "markdown",
   "metadata": {
    "id": "Y2SkJh1Yp-Au"
   },
   "source": [
    "As evident from corelation and the plots above, Distance does not have a strong bearing on Trip Duration "
   ]
  },
  {
   "cell_type": "code",
   "execution_count": null,
   "metadata": {
    "id": "ixG3iFWJeREp"
   },
   "outputs": [],
   "source": [
    "df['distance_km'] = df1['distance_km']"
   ]
  },
  {
   "cell_type": "markdown",
   "metadata": {
    "id": "du2whAh8g5Bt"
   },
   "source": [
    "# Exploring time related features"
   ]
  },
  {
   "cell_type": "code",
   "execution_count": null,
   "metadata": {
    "colab": {
     "base_uri": "https://localhost:8080/",
     "height": 51
    },
    "executionInfo": {
     "elapsed": 1152,
     "status": "ok",
     "timestamp": 1579503023725,
     "user": {
      "displayName": "SAHIL MANKAD",
      "photoUrl": "",
      "userId": "01524592176474520459"
     },
     "user_tz": -330
    },
    "id": "RtPo4sQrg8l-",
    "outputId": "a959594a-620a-4a34-e897-fdc3d9b04567"
   },
   "outputs": [
    {
     "name": "stdout",
     "output_type": "stream",
     "text": [
      "object\n",
      "object\n"
     ]
    }
   ],
   "source": [
    "print(df['pickup_datetime'].dtypes)\n",
    "print(df['dropoff_datetime'].dtypes)"
   ]
  },
  {
   "cell_type": "markdown",
   "metadata": {
    "id": "M_EPX23ihV3i"
   },
   "source": [
    "Both of these are categorical features \n",
    "\n",
    "Let us see the number of unique values for each"
   ]
  },
  {
   "cell_type": "code",
   "execution_count": null,
   "metadata": {
    "colab": {
     "base_uri": "https://localhost:8080/",
     "height": 51
    },
    "executionInfo": {
     "elapsed": 1624,
     "status": "ok",
     "timestamp": 1579503027623,
     "user": {
      "displayName": "SAHIL MANKAD",
      "photoUrl": "",
      "userId": "01524592176474520459"
     },
     "user_tz": -330
    },
    "id": "E66RkJA7hUv7",
    "outputId": "7a778dd8-e7f8-46ca-f4ef-50278d6aea58"
   },
   "outputs": [
    {
     "name": "stdout",
     "output_type": "stream",
     "text": [
      "pickup_datetime - Number of Unique Values: 709359\n",
      "dropoff_datetime - Number of Unique Values: 709308\n"
     ]
    }
   ],
   "source": [
    "cat_cols = ['pickup_datetime', 'dropoff_datetime']\n",
    "\n",
    "for i in range(0,len(cat_cols)):\n",
    "    print(str(cat_cols[i]) + \" - Number of Unique Values: \" + str(df[cat_cols[i]].nunique()))"
   ]
  },
  {
   "cell_type": "markdown",
   "metadata": {
    "id": "23UFnZIIiSf1"
   },
   "source": [
    "There are plenty of unique values for both pickup and dropoff datetime. Let us have a look at some frequent ones"
   ]
  },
  {
   "cell_type": "code",
   "execution_count": null,
   "metadata": {
    "colab": {
     "base_uri": "https://localhost:8080/",
     "height": 374
    },
    "executionInfo": {
     "elapsed": 1628,
     "status": "ok",
     "timestamp": 1579503031422,
     "user": {
      "displayName": "SAHIL MANKAD",
      "photoUrl": "",
      "userId": "01524592176474520459"
     },
     "user_tz": -330
    },
    "id": "sBpFfiwpiLL-",
    "outputId": "9d5f93fb-a75c-4089-92ab-b3782db65e50"
   },
   "outputs": [
    {
     "data": {
      "text/plain": [
       "2016-06-11 20:17:45    4\n",
       "2016-03-12 12:18:11    4\n",
       "2016-01-06 09:06:01    4\n",
       "2016-05-20 09:03:18    4\n",
       "2016-03-03 10:48:41    4\n",
       "2016-02-24 12:04:42    4\n",
       "2016-01-31 12:12:58    3\n",
       "2016-04-02 02:50:18    3\n",
       "2016-02-16 11:19:47    3\n",
       "2016-04-11 06:54:42    3\n",
       "2016-06-29 22:55:46    3\n",
       "2016-02-18 12:59:58    3\n",
       "2016-01-21 09:35:03    3\n",
       "2016-02-06 01:11:32    3\n",
       "2016-02-13 12:46:32    3\n",
       "2016-03-07 20:33:06    3\n",
       "2016-06-03 22:45:45    3\n",
       "2016-03-18 17:42:53    3\n",
       "2016-04-04 07:09:41    3\n",
       "2016-02-26 14:31:55    3\n",
       "Name: pickup_datetime, dtype: int64"
      ]
     },
     "execution_count": 7,
     "metadata": {
      "tags": []
     },
     "output_type": "execute_result"
    }
   ],
   "source": [
    "df['pickup_datetime'].value_counts().head(20)"
   ]
  },
  {
   "cell_type": "code",
   "execution_count": null,
   "metadata": {
    "colab": {
     "base_uri": "https://localhost:8080/",
     "height": 374
    },
    "executionInfo": {
     "elapsed": 1925,
     "status": "ok",
     "timestamp": 1579503032600,
     "user": {
      "displayName": "SAHIL MANKAD",
      "photoUrl": "",
      "userId": "01524592176474520459"
     },
     "user_tz": -330
    },
    "id": "KhJ91dzQil3N",
    "outputId": "d7255fdd-2c57-43b3-e314-cc3059a07870"
   },
   "outputs": [
    {
     "data": {
      "text/plain": [
       "2016-05-10 15:56:21    4\n",
       "2016-02-19 19:25:04    4\n",
       "2016-02-26 22:08:57    4\n",
       "2016-02-17 22:26:14    4\n",
       "2016-02-27 19:23:54    4\n",
       "2016-01-15 20:27:47    4\n",
       "2016-04-15 22:17:11    4\n",
       "2016-06-22 12:06:24    4\n",
       "2016-06-15 23:11:46    3\n",
       "2016-06-23 12:30:11    3\n",
       "2016-03-20 00:23:38    3\n",
       "2016-03-26 19:28:38    3\n",
       "2016-05-13 13:09:04    3\n",
       "2016-02-19 20:54:31    3\n",
       "2016-06-02 22:28:47    3\n",
       "2016-04-27 01:14:03    3\n",
       "2016-04-09 23:28:11    3\n",
       "2016-01-09 16:25:54    3\n",
       "2016-04-02 00:37:48    3\n",
       "2016-02-06 23:31:58    3\n",
       "Name: dropoff_datetime, dtype: int64"
      ]
     },
     "execution_count": 8,
     "metadata": {
      "tags": []
     },
     "output_type": "execute_result"
    }
   ],
   "source": [
    "df['dropoff_datetime'].value_counts().head(20)"
   ]
  },
  {
   "cell_type": "markdown",
   "metadata": {
    "id": "JH65PXerjFIR"
   },
   "source": [
    "Each timestamp occurs a maximum of 4 times, which cannot provide us any insights. Let's try seperating timestamp into year, month, day and hour to check for insights.\n",
    "\n",
    "While calculating the trip duration, the pickup time plays a significant role, but the dropoff time does not, as dropoff time is dependent on the time taken to complete the trip and not vice-versa. However, factors such as traffic can influence the trip duration, depending on the pickup time.\n",
    "\n",
    "Starting with a single value first, we'll devise a method to seperate out the timestamp"
   ]
  },
  {
   "cell_type": "code",
   "execution_count": null,
   "metadata": {
    "colab": {
     "base_uri": "https://localhost:8080/",
     "height": 34
    },
    "executionInfo": {
     "elapsed": 1097,
     "status": "ok",
     "timestamp": 1579503033088,
     "user": {
      "displayName": "SAHIL MANKAD",
      "photoUrl": "",
      "userId": "01524592176474520459"
     },
     "user_tz": -330
    },
    "id": "8Xj3dzFRiqIM",
    "outputId": "c0fd86e7-086a-4efc-ac88-bdb570f7307c"
   },
   "outputs": [
    {
     "data": {
      "text/plain": [
       "'2016-02-29 16:40:21'"
      ]
     },
     "execution_count": 9,
     "metadata": {
      "tags": []
     },
     "output_type": "execute_result"
    }
   ],
   "source": [
    "df['pickup_datetime'][0]"
   ]
  },
  {
   "cell_type": "code",
   "execution_count": null,
   "metadata": {
    "colab": {
     "base_uri": "https://localhost:8080/",
     "height": 34
    },
    "executionInfo": {
     "elapsed": 1159,
     "status": "ok",
     "timestamp": 1579503033867,
     "user": {
      "displayName": "SAHIL MANKAD",
      "photoUrl": "",
      "userId": "01524592176474520459"
     },
     "user_tz": -330
    },
    "id": "K9IwqCs4kBGw",
    "outputId": "f1a1d4e4-b925-4764-ef76-f48fab91c508"
   },
   "outputs": [
    {
     "data": {
      "text/plain": [
       "19"
      ]
     },
     "execution_count": 10,
     "metadata": {
      "tags": []
     },
     "output_type": "execute_result"
    }
   ],
   "source": [
    "len(df['pickup_datetime'][0])"
   ]
  },
  {
   "cell_type": "code",
   "execution_count": null,
   "metadata": {
    "colab": {
     "base_uri": "https://localhost:8080/",
     "height": 34
    },
    "executionInfo": {
     "elapsed": 1046,
     "status": "ok",
     "timestamp": 1579503034340,
     "user": {
      "displayName": "SAHIL MANKAD",
      "photoUrl": "",
      "userId": "01524592176474520459"
     },
     "user_tz": -330
    },
    "id": "ECB7FHujnwI1",
    "outputId": "d256f274-58bb-436f-ead9-78dece9c9053"
   },
   "outputs": [
    {
     "data": {
      "text/plain": [
       "str"
      ]
     },
     "execution_count": 11,
     "metadata": {
      "tags": []
     },
     "output_type": "execute_result"
    }
   ],
   "source": [
    "type(df['pickup_datetime'][0])"
   ]
  },
  {
   "cell_type": "markdown",
   "metadata": {
    "id": "KSdYMK-tyjdB"
   },
   "source": [
    "## Creating new time related features "
   ]
  },
  {
   "cell_type": "markdown",
   "metadata": {
    "id": "dpf2Q3Tsnqbt"
   },
   "source": [
    "Based on the length, datatype and value of the pickup timestamp, we can deduce year, month, day and hour as follows"
   ]
  },
  {
   "cell_type": "code",
   "execution_count": null,
   "metadata": {
    "id": "IsY4WoGuki-O"
   },
   "outputs": [],
   "source": [
    "df['pickup_timestamp'] = df['pickup_datetime'].copy()\n",
    "\n",
    "df['pickup_year'] = df['pickup_timestamp'].apply(lambda x:x[0:4])\n",
    "df['pickup_month'] = df['pickup_timestamp'].apply(lambda x:x[5:7])\n",
    "df['pickup_day'] = df['pickup_timestamp'].apply(lambda x:x[8:11])\n",
    "df['pickup_hour'] = df['pickup_timestamp'].apply(lambda x:x[11:13])\n"
   ]
  },
  {
   "cell_type": "markdown",
   "metadata": {
    "id": "exwL4r9Nq3mV"
   },
   "source": [
    "### Peeking into our newly created data"
   ]
  },
  {
   "cell_type": "code",
   "execution_count": null,
   "metadata": {
    "colab": {
     "base_uri": "https://localhost:8080/",
     "height": 136
    },
    "executionInfo": {
     "elapsed": 1498,
     "status": "ok",
     "timestamp": 1579503037475,
     "user": {
      "displayName": "SAHIL MANKAD",
      "photoUrl": "",
      "userId": "01524592176474520459"
     },
     "user_tz": -330
    },
    "id": "AHl-ZzULp8OL",
    "outputId": "b3bad6e6-2a11-4f11-d750-b52ca225ce90"
   },
   "outputs": [
    {
     "data": {
      "text/plain": [
       "03    128316\n",
       "04    125634\n",
       "05    124201\n",
       "02    119364\n",
       "06    117406\n",
       "01    114401\n",
       "Name: pickup_month, dtype: int64"
      ]
     },
     "execution_count": 13,
     "metadata": {
      "tags": []
     },
     "output_type": "execute_result"
    }
   ],
   "source": [
    "df['pickup_month'].value_counts()"
   ]
  },
  {
   "cell_type": "code",
   "execution_count": null,
   "metadata": {
    "colab": {
     "base_uri": "https://localhost:8080/",
     "height": 51
    },
    "executionInfo": {
     "elapsed": 841,
     "status": "ok",
     "timestamp": 1579503037479,
     "user": {
      "displayName": "SAHIL MANKAD",
      "photoUrl": "",
      "userId": "01524592176474520459"
     },
     "user_tz": -330
    },
    "id": "4cQEXAYeqAcA",
    "outputId": "ac44560c-66d3-4ae5-be2b-603886d2d956"
   },
   "outputs": [
    {
     "data": {
      "text/plain": [
       "2016    729322\n",
       "Name: pickup_year, dtype: int64"
      ]
     },
     "execution_count": 14,
     "metadata": {
      "tags": []
     },
     "output_type": "execute_result"
    }
   ],
   "source": [
    "df['pickup_year'].value_counts()"
   ]
  },
  {
   "cell_type": "code",
   "execution_count": null,
   "metadata": {
    "colab": {
     "base_uri": "https://localhost:8080/",
     "height": 561
    },
    "executionInfo": {
     "elapsed": 1928,
     "status": "ok",
     "timestamp": 1579503039181,
     "user": {
      "displayName": "SAHIL MANKAD",
      "photoUrl": "",
      "userId": "01524592176474520459"
     },
     "user_tz": -330
    },
    "id": "CuUIXAt5q0aZ",
    "outputId": "9ddb5354-0c85-44b3-f507-cbb3a9402e59"
   },
   "outputs": [
    {
     "data": {
      "text/plain": [
       "16     25519\n",
       "14     25206\n",
       "12     25156\n",
       "15     25037\n",
       "05     25030\n",
       "04     24958\n",
       "06     24757\n",
       "09     24729\n",
       "13     24649\n",
       "19     24646\n",
       "20     24584\n",
       "10     24575\n",
       "11     24361\n",
       "17     24338\n",
       "21     24260\n",
       "07     24254\n",
       "18     24128\n",
       "08     24113\n",
       "02     23899\n",
       "03     23858\n",
       "26     23709\n",
       "22     23627\n",
       "29     23391\n",
       "27     23376\n",
       "01     23293\n",
       "25     23288\n",
       "28     22916\n",
       "24     21877\n",
       "23     20757\n",
       "30     19642\n",
       "31     11389\n",
       "Name: pickup_day, dtype: int64"
      ]
     },
     "execution_count": 15,
     "metadata": {
      "tags": []
     },
     "output_type": "execute_result"
    }
   ],
   "source": [
    "df['pickup_day'].value_counts()"
   ]
  },
  {
   "cell_type": "code",
   "execution_count": null,
   "metadata": {
    "colab": {
     "base_uri": "https://localhost:8080/",
     "height": 442
    },
    "executionInfo": {
     "elapsed": 1255,
     "status": "ok",
     "timestamp": 1579503039183,
     "user": {
      "displayName": "SAHIL MANKAD",
      "photoUrl": "",
      "userId": "01524592176474520459"
     },
     "user_tz": -330
    },
    "id": "FTv1C5h6rKQE",
    "outputId": "06571231-8ec5-4958-9814-fe71e77e58ce"
   },
   "outputs": [
    {
     "data": {
      "text/plain": [
       "18    45404\n",
       "19    45262\n",
       "20    42165\n",
       "21    42045\n",
       "22    40293\n",
       "17    38313\n",
       "14    37120\n",
       "12    35820\n",
       "15    35687\n",
       "13    35630\n",
       "23    35069\n",
       "11    34061\n",
       "09    33821\n",
       "08    33612\n",
       "10    32713\n",
       "16    32147\n",
       "07    27907\n",
       "00    26726\n",
       "01    19243\n",
       "06    16552\n",
       "02    13960\n",
       "03    10424\n",
       "04     7827\n",
       "05     7521\n",
       "Name: pickup_hour, dtype: int64"
      ]
     },
     "execution_count": 16,
     "metadata": {
      "tags": []
     },
     "output_type": "execute_result"
    }
   ],
   "source": [
    "df['pickup_hour'].value_counts()"
   ]
  },
  {
   "cell_type": "markdown",
   "metadata": {
    "id": "ogY__80TrOiG"
   },
   "source": [
    "It is now clear that we do not need to use year for further analysis as all data is from a single year, i.e 2016. Also, knowing the day of the week might provide some answers, let's extract the same"
   ]
  },
  {
   "cell_type": "markdown",
   "metadata": {
    "id": "x0VyT51Ay3ii"
   },
   "source": [
    "### Creating day of week feature"
   ]
  },
  {
   "cell_type": "code",
   "execution_count": null,
   "metadata": {
    "id": "vjWsKMVSMqZ9"
   },
   "outputs": [],
   "source": [
    "import datetime,calendar "
   ]
  },
  {
   "cell_type": "code",
   "execution_count": null,
   "metadata": {
    "id": "Brm5k0NDPb7J"
   },
   "outputs": [],
   "source": [
    "def get_weekday(date):\n",
    "  date = date[:10].replace('-',' ')[:10]\n",
    "  day = datetime.datetime.strptime(date, '%Y %m %d').weekday() \n",
    "  return calendar.day_name[day]"
   ]
  },
  {
   "cell_type": "code",
   "execution_count": null,
   "metadata": {
    "id": "7KJI8YCMPdx4"
   },
   "outputs": [],
   "source": [
    "df['pickup_day_of_week'] = df['pickup_timestamp'].apply(lambda date:get_weekday(date))"
   ]
  },
  {
   "cell_type": "code",
   "execution_count": null,
   "metadata": {
    "colab": {
     "base_uri": "https://localhost:8080/",
     "height": 153
    },
    "executionInfo": {
     "elapsed": 8912,
     "status": "ok",
     "timestamp": 1579503050400,
     "user": {
      "displayName": "SAHIL MANKAD",
      "photoUrl": "",
      "userId": "01524592176474520459"
     },
     "user_tz": -330
    },
    "id": "rN_pZaAgNf-X",
    "outputId": "50d5660e-b088-4300-ad62-110db20226f2"
   },
   "outputs": [
    {
     "data": {
      "text/plain": [
       "Friday       111744\n",
       "Saturday     110252\n",
       "Thursday     109344\n",
       "Wednesday    105074\n",
       "Tuesday      101254\n",
       "Sunday        97682\n",
       "Monday        93972\n",
       "Name: pickup_day_of_week, dtype: int64"
      ]
     },
     "execution_count": 20,
     "metadata": {
      "tags": []
     },
     "output_type": "execute_result"
    }
   ],
   "source": [
    "df['pickup_day_of_week'].value_counts()"
   ]
  },
  {
   "cell_type": "markdown",
   "metadata": {
    "id": "DMOBM6Stq8-h"
   },
   "source": [
    "## Insights from time variables"
   ]
  },
  {
   "cell_type": "code",
   "execution_count": null,
   "metadata": {
    "colab": {
     "base_uri": "https://localhost:8080/",
     "height": 119
    },
    "executionInfo": {
     "elapsed": 7417,
     "status": "ok",
     "timestamp": 1579503050403,
     "user": {
      "displayName": "SAHIL MANKAD",
      "photoUrl": "",
      "userId": "01524592176474520459"
     },
     "user_tz": -330
    },
    "id": "hTu9rOSgQ9SU",
    "outputId": "4eac63f8-4217-43a2-859c-7f2aeefeaf39"
   },
   "outputs": [
    {
     "data": {
      "text/plain": [
       "Index(['id', 'vendor_id', 'pickup_datetime', 'dropoff_datetime',\n",
       "       'passenger_count', 'pickup_longitude', 'pickup_latitude',\n",
       "       'dropoff_longitude', 'dropoff_latitude', 'store_and_fwd_flag',\n",
       "       'trip_duration', 'pickup_timestamp', 'pickup_year', 'pickup_month',\n",
       "       'pickup_day', 'pickup_hour', 'pickup_day_of_week'],\n",
       "      dtype='object')"
      ]
     },
     "execution_count": 21,
     "metadata": {
      "tags": []
     },
     "output_type": "execute_result"
    }
   ],
   "source": [
    "df.columns"
   ]
  },
  {
   "cell_type": "code",
   "execution_count": null,
   "metadata": {
    "colab": {
     "base_uri": "https://localhost:8080/",
     "height": 119
    },
    "executionInfo": {
     "elapsed": 6616,
     "status": "ok",
     "timestamp": 1579503050406,
     "user": {
      "displayName": "SAHIL MANKAD",
      "photoUrl": "",
      "userId": "01524592176474520459"
     },
     "user_tz": -330
    },
    "id": "i9sOBd93rApz",
    "outputId": "207f6164-c7f9-44c4-f372-50b74e84925b"
   },
   "outputs": [
    {
     "data": {
      "text/plain": [
       "pickup_month          object\n",
       "pickup_day            object\n",
       "pickup_hour           object\n",
       "pickup_day_of_week    object\n",
       "trip_duration          int64\n",
       "dtype: object"
      ]
     },
     "execution_count": 22,
     "metadata": {
      "tags": []
     },
     "output_type": "execute_result"
    }
   ],
   "source": [
    "#time_cols = ['pickup_month','pickup_day','pickup_hour','pickup_day_of_week']\n",
    "df1 = df[['pickup_month','pickup_day','pickup_hour','pickup_day_of_week','trip_duration']]\n",
    "df1.dtypes"
   ]
  },
  {
   "cell_type": "code",
   "execution_count": null,
   "metadata": {
    "colab": {
     "base_uri": "https://localhost:8080/",
     "height": 310
    },
    "executionInfo": {
     "elapsed": 12066,
     "status": "ok",
     "timestamp": 1579503060623,
     "user": {
      "displayName": "SAHIL MANKAD",
      "photoUrl": "",
      "userId": "01524592176474520459"
     },
     "user_tz": -330
    },
    "id": "4aY_NhSjElmF",
    "outputId": "38629f25-c563-4eee-d932-f77cbaf7d988"
   },
   "outputs": [
    {
     "data": {
      "text/plain": [
       "<seaborn.axisgrid.FacetGrid at 0x7fa3f73c1f28>"
      ]
     },
     "execution_count": 23,
     "metadata": {
      "tags": []
     },
     "output_type": "execute_result"
    },
    {
     "data": {
      "image/png": "[encoded data removed]",
      "text/plain": [
       "<Figure size 864x288 with 1 Axes>"
      ]
     },
     "metadata": {
      "tags": []
     },
     "output_type": "display_data"
    }
   ],
   "source": [
    "sns.catplot(x=\"pickup_month\", y=\"trip_duration\",kind=\"bar\",data=df1, height = 4, aspect = 3)"
   ]
  },
  {
   "cell_type": "markdown",
   "metadata": {
    "id": "uT1FZfITF-mT"
   },
   "source": [
    "Trip duration is minimum for month 2, maximum for months 5 & 6."
   ]
  },
  {
   "cell_type": "code",
   "execution_count": null,
   "metadata": {
    "colab": {
     "base_uri": "https://localhost:8080/",
     "height": 310
    },
    "executionInfo": {
     "elapsed": 18645,
     "status": "ok",
     "timestamp": 1579503073282,
     "user": {
      "displayName": "SAHIL MANKAD",
      "photoUrl": "",
      "userId": "01524592176474520459"
     },
     "user_tz": -330
    },
    "id": "skJzJ_PqmZQo",
    "outputId": "ddf53208-37c9-4fea-d6ba-210c188172be"
   },
   "outputs": [
    {
     "data": {
      "text/plain": [
       "<seaborn.axisgrid.FacetGrid at 0x7fa3eaab7198>"
      ]
     },
     "execution_count": 24,
     "metadata": {
      "tags": []
     },
     "output_type": "execute_result"
    },
    {
     "data": {
      "image/png": "[encoded data removed]",
      "text/plain": [
       "<Figure size 864x288 with 1 Axes>"
      ]
     },
     "metadata": {
      "tags": []
     },
     "output_type": "display_data"
    }
   ],
   "source": [
    "sns.catplot(x=\"pickup_day_of_week\", y=\"trip_duration\",kind=\"bar\",data=df1, height = 4, aspect = 3)"
   ]
  },
  {
   "cell_type": "markdown",
   "metadata": {
    "id": "0-ag2tZiD58Q"
   },
   "source": [
    "We can see that the trip durations are highest on Thursdays and Fridays, slightly lesser on Tuesdays and Wednesdays and lowest on Saturdays,Sundays and Mondays. "
   ]
  },
  {
   "cell_type": "code",
   "execution_count": null,
   "metadata": {
    "colab": {
     "base_uri": "https://localhost:8080/",
     "height": 382
    },
    "executionInfo": {
     "elapsed": 34380,
     "status": "ok",
     "timestamp": 1579503090933,
     "user": {
      "displayName": "SAHIL MANKAD",
      "photoUrl": "",
      "userId": "01524592176474520459"
     },
     "user_tz": -330
    },
    "id": "5yS29QTdmgSe",
    "outputId": "0cb6c3e7-3a05-4c9d-87b6-be336b25ee3e"
   },
   "outputs": [
    {
     "data": {
      "text/plain": [
       "<seaborn.axisgrid.FacetGrid at 0x7fa4015da7f0>"
      ]
     },
     "execution_count": 25,
     "metadata": {
      "tags": []
     },
     "output_type": "execute_result"
    },
    {
     "data": {
      "image/png": "[encoded data removed]",
      "text/plain": [
       "<Figure size 1080x360 with 1 Axes>"
      ]
     },
     "metadata": {
      "tags": []
     },
     "output_type": "display_data"
    }
   ],
   "source": [
    "sns.catplot(x=\"pickup_hour\", y=\"trip_duration\",kind=\"bar\",data=df1, height = 5, aspect = 3)"
   ]
  },
  {
   "cell_type": "markdown",
   "metadata": {
    "id": "xjFKNsr2KnvO"
   },
   "source": [
    "The peak hours for traffic are for trips starting within 15:00 - 16:00 / 16:00-17:00 range and trips starting between 6:00 - 7:00, complete in quickest time"
   ]
  },
  {
   "cell_type": "markdown",
   "metadata": {
    "id": "RIyXuZMJVoqp"
   },
   "source": [
    "Bin ranges start from -1, since lower count of bin is not included in the interval, so the first interval starts from 0."
   ]
  },
  {
   "cell_type": "code",
   "execution_count": null,
   "metadata": {
    "colab": {
     "base_uri": "https://localhost:8080/",
     "height": 102
    },
    "executionInfo": {
     "elapsed": 31608,
     "status": "ok",
     "timestamp": 1579503091412,
     "user": {
      "displayName": "SAHIL MANKAD",
      "photoUrl": "",
      "userId": "01524592176474520459"
     },
     "user_tz": -330
    },
    "id": "ERQrMAYd-iJV",
    "outputId": "bf39e3ef-0873-4c66-ac6d-305d473c6101"
   },
   "outputs": [
    {
     "data": {
      "text/plain": [
       "18:00-23:59    250238\n",
       "12:00-17:59    214717\n",
       "06:00-11:59    178666\n",
       "00:00-05:59     85701\n",
       "Name: pickup_hour_binned, dtype: int64"
      ]
     },
     "execution_count": 26,
     "metadata": {
      "tags": []
     },
     "output_type": "execute_result"
    }
   ],
   "source": [
    "bins = [-1, 5, 11, 17, 23]\n",
    "labels = ['00:00-05:59','06:00-11:59','12:00-17:59','18:00-23:59']\n",
    "df1['numeric_pickup_hour'] = pd.to_numeric(df1['pickup_hour'], errors='coerce')\n",
    "df1['pickup_hour_binned'] = pd.cut(df1['numeric_pickup_hour'], bins,labels=labels)\n",
    "df1['pickup_hour_binned'].value_counts()"
   ]
  },
  {
   "cell_type": "code",
   "execution_count": null,
   "metadata": {
    "colab": {
     "base_uri": "https://localhost:8080/",
     "height": 382
    },
    "executionInfo": {
     "elapsed": 38497,
     "status": "ok",
     "timestamp": 1579503103583,
     "user": {
      "displayName": "SAHIL MANKAD",
      "photoUrl": "",
      "userId": "01524592176474520459"
     },
     "user_tz": -330
    },
    "id": "e_rpBy4EUsOC",
    "outputId": "9cb74f9b-622e-4e6d-ee15-1cbec7d51e69"
   },
   "outputs": [
    {
     "data": {
      "text/plain": [
       "<seaborn.axisgrid.FacetGrid at 0x7fa40b8ea4e0>"
      ]
     },
     "execution_count": 27,
     "metadata": {
      "tags": []
     },
     "output_type": "execute_result"
    },
    {
     "data": {
      "image/png": "[encoded data removed]",
      "text/plain": [
       "<Figure size 1080x360 with 1 Axes>"
      ]
     },
     "metadata": {
      "tags": []
     },
     "output_type": "display_data"
    }
   ],
   "source": [
    "sns.catplot(x=\"pickup_hour_binned\", y=\"trip_duration\",kind=\"bar\",data=df1, height = 5, aspect = 3)"
   ]
  },
  {
   "cell_type": "markdown",
   "metadata": {
    "id": "desh_Ep-WDgF"
   },
   "source": [
    "Average trip times are significantly higher for trips starting between 12:00-17:59 as compared to other intervals. Let us now combine the binned pickup hours and pickup_day_of_week features, to see if we can uncover more insights.\n"
   ]
  },
  {
   "cell_type": "markdown",
   "metadata": {
    "id": "x-d0uosYzDiH"
   },
   "source": [
    "### Checking effect of day of week and pickup hour combined on trip duration"
   ]
  },
  {
   "cell_type": "code",
   "execution_count": null,
   "metadata": {
    "id": "sE--4N30U6UX"
   },
   "outputs": [],
   "source": [
    "df2 = df1[['pickup_day_of_week','pickup_hour_binned','trip_duration']]\n",
    "df2_pivot = pd.pivot_table(df2,index=['pickup_day_of_week','pickup_hour_binned'],values='trip_duration')"
   ]
  },
  {
   "cell_type": "markdown",
   "metadata": {
    "id": "iDVBs3p_wBIi"
   },
   "source": [
    "We will sort the pivot table we created by trip duration, to find out whether the combination of pickup day of week and time have any bearing on trip duration"
   ]
  },
  {
   "cell_type": "code",
   "execution_count": null,
   "metadata": {
    "id": "osBOBQh-ZobJ"
   },
   "outputs": [],
   "source": [
    "df2_pivot = df2_pivot.reindex(df2_pivot.sort_values(by='trip_duration', ascending=False).index)"
   ]
  },
  {
   "cell_type": "code",
   "execution_count": null,
   "metadata": {
    "colab": {
     "base_uri": "https://localhost:8080/",
     "height": 948
    },
    "executionInfo": {
     "elapsed": 989,
     "status": "ok",
     "timestamp": 1579503539578,
     "user": {
      "displayName": "SAHIL MANKAD",
      "photoUrl": "",
      "userId": "01524592176474520459"
     },
     "user_tz": -330
    },
    "id": "oOdCPX6hvZJL",
    "outputId": "a050c44a-98c6-41b0-c41d-ea61782b832e"
   },
   "outputs": [
    {
     "data": {
      "text/html": [
       "<div>\n",
       "<style scoped>\n",
       "    .dataframe tbody tr th:only-of-type {\n",
       "        vertical-align: middle;\n",
       "    }\n",
       "\n",
       "    .dataframe tbody tr th {\n",
       "        vertical-align: top;\n",
       "    }\n",
       "\n",
       "    .dataframe thead th {\n",
       "        text-align: right;\n",
       "    }\n",
       "</style>\n",
       "<table border=\"1\" class=\"dataframe\">\n",
       "  <thead>\n",
       "    <tr style=\"text-align: right;\">\n",
       "      <th></th>\n",
       "      <th></th>\n",
       "      <th>trip_duration</th>\n",
       "    </tr>\n",
       "    <tr>\n",
       "      <th>pickup_day_of_week</th>\n",
       "      <th>pickup_hour_binned</th>\n",
       "      <th></th>\n",
       "    </tr>\n",
       "  </thead>\n",
       "  <tbody>\n",
       "    <tr>\n",
       "      <th>Tuesday</th>\n",
       "      <th>00:00-05:59</th>\n",
       "      <td>1149.944781</td>\n",
       "    </tr>\n",
       "    <tr>\n",
       "      <th>Thursday</th>\n",
       "      <th>12:00-17:59</th>\n",
       "      <td>1137.512548</td>\n",
       "    </tr>\n",
       "    <tr>\n",
       "      <th>Wednesday</th>\n",
       "      <th>12:00-17:59</th>\n",
       "      <td>1133.294948</td>\n",
       "    </tr>\n",
       "    <tr>\n",
       "      <th>Friday</th>\n",
       "      <th>12:00-17:59</th>\n",
       "      <td>1120.007088</td>\n",
       "    </tr>\n",
       "    <tr>\n",
       "      <th>Tuesday</th>\n",
       "      <th>12:00-17:59</th>\n",
       "      <td>1081.795633</td>\n",
       "    </tr>\n",
       "    <tr>\n",
       "      <th>Thursday</th>\n",
       "      <th>06:00-11:59</th>\n",
       "      <td>981.267437</td>\n",
       "    </tr>\n",
       "    <tr>\n",
       "      <th>Monday</th>\n",
       "      <th>12:00-17:59</th>\n",
       "      <td>980.306560</td>\n",
       "    </tr>\n",
       "    <tr>\n",
       "      <th>Saturday</th>\n",
       "      <th>00:00-05:59</th>\n",
       "      <td>977.477037</td>\n",
       "    </tr>\n",
       "    <tr>\n",
       "      <th>Thursday</th>\n",
       "      <th>18:00-23:59</th>\n",
       "      <td>964.968532</td>\n",
       "    </tr>\n",
       "    <tr>\n",
       "      <th>Sunday</th>\n",
       "      <th>12:00-17:59</th>\n",
       "      <td>964.870309</td>\n",
       "    </tr>\n",
       "    <tr>\n",
       "      <th>Friday</th>\n",
       "      <th>18:00-23:59</th>\n",
       "      <td>953.354736</td>\n",
       "    </tr>\n",
       "    <tr>\n",
       "      <th>Wednesday</th>\n",
       "      <th>06:00-11:59</th>\n",
       "      <td>953.238844</td>\n",
       "    </tr>\n",
       "    <tr>\n",
       "      <th>Tuesday</th>\n",
       "      <th>06:00-11:59</th>\n",
       "      <td>952.844086</td>\n",
       "    </tr>\n",
       "    <tr>\n",
       "      <th rowspan=\"2\" valign=\"top\">Saturday</th>\n",
       "      <th>18:00-23:59</th>\n",
       "      <td>945.936003</td>\n",
       "    </tr>\n",
       "    <tr>\n",
       "      <th>12:00-17:59</th>\n",
       "      <td>931.832567</td>\n",
       "    </tr>\n",
       "    <tr>\n",
       "      <th rowspan=\"2\" valign=\"top\">Friday</th>\n",
       "      <th>00:00-05:59</th>\n",
       "      <td>928.860026</td>\n",
       "    </tr>\n",
       "    <tr>\n",
       "      <th>06:00-11:59</th>\n",
       "      <td>928.231316</td>\n",
       "    </tr>\n",
       "    <tr>\n",
       "      <th rowspan=\"2\" valign=\"top\">Sunday</th>\n",
       "      <th>18:00-23:59</th>\n",
       "      <td>910.622041</td>\n",
       "    </tr>\n",
       "    <tr>\n",
       "      <th>00:00-05:59</th>\n",
       "      <td>908.793931</td>\n",
       "    </tr>\n",
       "    <tr>\n",
       "      <th>Wednesday</th>\n",
       "      <th>18:00-23:59</th>\n",
       "      <td>906.173466</td>\n",
       "    </tr>\n",
       "    <tr>\n",
       "      <th>Monday</th>\n",
       "      <th>06:00-11:59</th>\n",
       "      <td>901.861257</td>\n",
       "    </tr>\n",
       "    <tr>\n",
       "      <th>Tuesday</th>\n",
       "      <th>18:00-23:59</th>\n",
       "      <td>887.991510</td>\n",
       "    </tr>\n",
       "    <tr>\n",
       "      <th rowspan=\"2\" valign=\"top\">Monday</th>\n",
       "      <th>00:00-05:59</th>\n",
       "      <td>839.332936</td>\n",
       "    </tr>\n",
       "    <tr>\n",
       "      <th>18:00-23:59</th>\n",
       "      <td>819.430825</td>\n",
       "    </tr>\n",
       "    <tr>\n",
       "      <th>Thursday</th>\n",
       "      <th>00:00-05:59</th>\n",
       "      <td>807.387341</td>\n",
       "    </tr>\n",
       "    <tr>\n",
       "      <th>Wednesday</th>\n",
       "      <th>00:00-05:59</th>\n",
       "      <td>776.367409</td>\n",
       "    </tr>\n",
       "    <tr>\n",
       "      <th>Saturday</th>\n",
       "      <th>06:00-11:59</th>\n",
       "      <td>755.204017</td>\n",
       "    </tr>\n",
       "    <tr>\n",
       "      <th>Sunday</th>\n",
       "      <th>06:00-11:59</th>\n",
       "      <td>723.293635</td>\n",
       "    </tr>\n",
       "  </tbody>\n",
       "</table>\n",
       "</div>"
      ],
      "text/plain": [
       "                                       trip_duration\n",
       "pickup_day_of_week pickup_hour_binned               \n",
       "Tuesday            00:00-05:59           1149.944781\n",
       "Thursday           12:00-17:59           1137.512548\n",
       "Wednesday          12:00-17:59           1133.294948\n",
       "Friday             12:00-17:59           1120.007088\n",
       "Tuesday            12:00-17:59           1081.795633\n",
       "Thursday           06:00-11:59            981.267437\n",
       "Monday             12:00-17:59            980.306560\n",
       "Saturday           00:00-05:59            977.477037\n",
       "Thursday           18:00-23:59            964.968532\n",
       "Sunday             12:00-17:59            964.870309\n",
       "Friday             18:00-23:59            953.354736\n",
       "Wednesday          06:00-11:59            953.238844\n",
       "Tuesday            06:00-11:59            952.844086\n",
       "Saturday           18:00-23:59            945.936003\n",
       "                   12:00-17:59            931.832567\n",
       "Friday             00:00-05:59            928.860026\n",
       "                   06:00-11:59            928.231316\n",
       "Sunday             18:00-23:59            910.622041\n",
       "                   00:00-05:59            908.793931\n",
       "Wednesday          18:00-23:59            906.173466\n",
       "Monday             06:00-11:59            901.861257\n",
       "Tuesday            18:00-23:59            887.991510\n",
       "Monday             00:00-05:59            839.332936\n",
       "                   18:00-23:59            819.430825\n",
       "Thursday           00:00-05:59            807.387341\n",
       "Wednesday          00:00-05:59            776.367409\n",
       "Saturday           06:00-11:59            755.204017\n",
       "Sunday             06:00-11:59            723.293635"
      ]
     },
     "execution_count": 40,
     "metadata": {
      "tags": []
     },
     "output_type": "execute_result"
    }
   ],
   "source": [
    "df2_pivot"
   ]
  },
  {
   "cell_type": "markdown",
   "metadata": {
    "id": "hBvY7SOrxeQX"
   },
   "source": [
    "As evident from table above, the combination of pickup day of week and time has a significant effect on trip duration. Maximum trip duration is for Tuesday 00:00-05:59 and minimum is for Sunday between 06:00-11:59 "
   ]
  },
  {
   "cell_type": "markdown",
   "metadata": {
    "id": "WFsGjXHpyb4z"
   },
   "source": [
    "# Exploring other features"
   ]
  },
  {
   "cell_type": "code",
   "execution_count": null,
   "metadata": {
    "id": "IMcL0YKc3Cvz"
   },
   "outputs": [],
   "source": [
    "#vendor_id, passenger_count, store_and_fwd_flag\n",
    "df1 = df[['vendor_id','passenger_count','store_and_fwd_flag','trip_duration']]"
   ]
  },
  {
   "cell_type": "code",
   "execution_count": null,
   "metadata": {
    "colab": {
     "base_uri": "https://localhost:8080/",
     "height": 204
    },
    "executionInfo": {
     "elapsed": 957,
     "status": "ok",
     "timestamp": 1579540491778,
     "user": {
      "displayName": "SAHIL MANKAD",
      "photoUrl": "",
      "userId": "01524592176474520459"
     },
     "user_tz": -330
    },
    "id": "yfXHXyd94fKG",
    "outputId": "bdc3647b-a9b2-4352-e90e-c1736048168c"
   },
   "outputs": [
    {
     "data": {
      "text/html": [
       "<div>\n",
       "<style scoped>\n",
       "    .dataframe tbody tr th:only-of-type {\n",
       "        vertical-align: middle;\n",
       "    }\n",
       "\n",
       "    .dataframe tbody tr th {\n",
       "        vertical-align: top;\n",
       "    }\n",
       "\n",
       "    .dataframe thead th {\n",
       "        text-align: right;\n",
       "    }\n",
       "</style>\n",
       "<table border=\"1\" class=\"dataframe\">\n",
       "  <thead>\n",
       "    <tr style=\"text-align: right;\">\n",
       "      <th></th>\n",
       "      <th>vendor_id</th>\n",
       "      <th>passenger_count</th>\n",
       "      <th>store_and_fwd_flag</th>\n",
       "      <th>trip_duration</th>\n",
       "    </tr>\n",
       "  </thead>\n",
       "  <tbody>\n",
       "    <tr>\n",
       "      <th>0</th>\n",
       "      <td>2</td>\n",
       "      <td>1</td>\n",
       "      <td>N</td>\n",
       "      <td>400</td>\n",
       "    </tr>\n",
       "    <tr>\n",
       "      <th>1</th>\n",
       "      <td>1</td>\n",
       "      <td>2</td>\n",
       "      <td>N</td>\n",
       "      <td>1100</td>\n",
       "    </tr>\n",
       "    <tr>\n",
       "      <th>2</th>\n",
       "      <td>2</td>\n",
       "      <td>2</td>\n",
       "      <td>N</td>\n",
       "      <td>1635</td>\n",
       "    </tr>\n",
       "    <tr>\n",
       "      <th>3</th>\n",
       "      <td>2</td>\n",
       "      <td>6</td>\n",
       "      <td>N</td>\n",
       "      <td>1141</td>\n",
       "    </tr>\n",
       "    <tr>\n",
       "      <th>4</th>\n",
       "      <td>1</td>\n",
       "      <td>1</td>\n",
       "      <td>N</td>\n",
       "      <td>848</td>\n",
       "    </tr>\n",
       "  </tbody>\n",
       "</table>\n",
       "</div>"
      ],
      "text/plain": [
       "   vendor_id  passenger_count store_and_fwd_flag  trip_duration\n",
       "0          2                1                  N            400\n",
       "1          1                2                  N           1100\n",
       "2          2                2                  N           1635\n",
       "3          2                6                  N           1141\n",
       "4          1                1                  N            848"
      ]
     },
     "execution_count": 21,
     "metadata": {
      "tags": []
     },
     "output_type": "execute_result"
    }
   ],
   "source": [
    "df1.head()"
   ]
  },
  {
   "cell_type": "code",
   "execution_count": null,
   "metadata": {
    "colab": {
     "base_uri": "https://localhost:8080/",
     "height": 68
    },
    "executionInfo": {
     "elapsed": 913,
     "status": "ok",
     "timestamp": 1579586289774,
     "user": {
      "displayName": "SAHIL MANKAD",
      "photoUrl": "",
      "userId": "01524592176474520459"
     },
     "user_tz": -330
    },
    "id": "KlLk26SGrbzx",
    "outputId": "e893f701-e210-4623-8ac4-f4e95f76f09e"
   },
   "outputs": [
    {
     "data": {
      "text/plain": [
       "2    390481\n",
       "1    338841\n",
       "Name: vendor_id, dtype: int64"
      ]
     },
     "execution_count": 9,
     "metadata": {
      "tags": []
     },
     "output_type": "execute_result"
    }
   ],
   "source": [
    "df1.vendor_id.value_counts()"
   ]
  },
  {
   "cell_type": "code",
   "execution_count": null,
   "metadata": {
    "colab": {
     "base_uri": "https://localhost:8080/",
     "height": 382
    },
    "executionInfo": {
     "elapsed": 20021,
     "status": "ok",
     "timestamp": 1579586311571,
     "user": {
      "displayName": "SAHIL MANKAD",
      "photoUrl": "",
      "userId": "01524592176474520459"
     },
     "user_tz": -330
    },
    "id": "w7bAh2nCvrOl",
    "outputId": "2954c8d2-2a44-40c4-88c0-c0f84cd9589c"
   },
   "outputs": [
    {
     "data": {
      "text/plain": [
       "<seaborn.axisgrid.FacetGrid at 0x7efeb11e4710>"
      ]
     },
     "execution_count": 10,
     "metadata": {
      "tags": []
     },
     "output_type": "execute_result"
    },
    {
     "data": {
      "image/png": "[encoded data removed]",
      "text/plain": [
       "<Figure size 360x360 with 1 Axes>"
      ]
     },
     "metadata": {
      "tags": []
     },
     "output_type": "display_data"
    }
   ],
   "source": [
    "sns.catplot(x=\"vendor_id\", y=\"trip_duration\",kind=\"bar\",data=df1)"
   ]
  },
  {
   "cell_type": "markdown",
   "metadata": {
    "id": "WeW7GmYU88Ic"
   },
   "source": [
    "It is clearly evident that trip durations for vendor 2 are higher than vendor 1."
   ]
  },
  {
   "cell_type": "code",
   "execution_count": null,
   "metadata": {
    "colab": {
     "base_uri": "https://localhost:8080/",
     "height": 187
    },
    "executionInfo": {
     "elapsed": 1008,
     "status": "ok",
     "timestamp": 1579586093796,
     "user": {
      "displayName": "SAHIL MANKAD",
      "photoUrl": "",
      "userId": "01524592176474520459"
     },
     "user_tz": -330
    },
    "id": "oGgmbSDpoi7k",
    "outputId": "83aa0eba-24b2-43da-be31-04d2e26b3db7"
   },
   "outputs": [
    {
     "data": {
      "text/plain": [
       "1    517415\n",
       "2    105097\n",
       "5     38926\n",
       "3     29692\n",
       "6     24107\n",
       "4     14050\n",
       "0        33\n",
       "9         1\n",
       "7         1\n",
       "Name: passenger_count, dtype: int64"
      ]
     },
     "execution_count": 6,
     "metadata": {
      "tags": []
     },
     "output_type": "execute_result"
    }
   ],
   "source": [
    "df1.passenger_count.value_counts()"
   ]
  },
  {
   "cell_type": "code",
   "execution_count": null,
   "metadata": {
    "colab": {
     "base_uri": "https://localhost:8080/",
     "height": 382
    },
    "executionInfo": {
     "elapsed": 15349,
     "status": "ok",
     "timestamp": 1579586112465,
     "user": {
      "displayName": "SAHIL MANKAD",
      "photoUrl": "",
      "userId": "01524592176474520459"
     },
     "user_tz": -330
    },
    "id": "gltcoORS4cVc",
    "outputId": "87f41b62-7219-4a3a-8813-3e1f17e36a36"
   },
   "outputs": [
    {
     "data": {
      "text/plain": [
       "<seaborn.axisgrid.FacetGrid at 0x7efed694bb70>"
      ]
     },
     "execution_count": 7,
     "metadata": {
      "tags": []
     },
     "output_type": "execute_result"
    },
    {
     "data": {
      "image/png": "[encoded data removed]",
      "text/plain": [
       "<Figure size 360x360 with 1 Axes>"
      ]
     },
     "metadata": {
      "tags": []
     },
     "output_type": "display_data"
    }
   ],
   "source": [
    "sns.catplot(x=\"passenger_count\", y=\"trip_duration\",kind=\"bar\",data=df1)"
   ]
  },
  {
   "cell_type": "markdown",
   "metadata": {
    "id": "dCUYUFaDnzqE"
   },
   "source": [
    "The general trend here trip duration increases as the passenger count increases from 1 to 6, with a slight decrease from 3 to 4. We can ignore 0,7 & 9, since these have a negligible presence in the dataset. "
   ]
  },
  {
   "cell_type": "code",
   "execution_count": null,
   "metadata": {
    "colab": {
     "base_uri": "https://localhost:8080/",
     "height": 68
    },
    "executionInfo": {
     "elapsed": 1003,
     "status": "ok",
     "timestamp": 1579586169659,
     "user": {
      "displayName": "SAHIL MANKAD",
      "photoUrl": "",
      "userId": "01524592176474520459"
     },
     "user_tz": -330
    },
    "id": "86MdMWxpq4uo",
    "outputId": "7e9181e4-2580-419b-d83a-e2cb81d7d346"
   },
   "outputs": [
    {
     "data": {
      "text/plain": [
       "N    725282\n",
       "Y      4040\n",
       "Name: store_and_fwd_flag, dtype: int64"
      ]
     },
     "execution_count": 8,
     "metadata": {
      "tags": []
     },
     "output_type": "execute_result"
    }
   ],
   "source": [
    "df1.store_and_fwd_flag.value_counts()"
   ]
  },
  {
   "cell_type": "code",
   "execution_count": null,
   "metadata": {
    "colab": {
     "base_uri": "https://localhost:8080/",
     "height": 382
    },
    "executionInfo": {
     "elapsed": 31543,
     "status": "ok",
     "timestamp": 1579540646655,
     "user": {
      "displayName": "SAHIL MANKAD",
      "photoUrl": "",
      "userId": "01524592176474520459"
     },
     "user_tz": -330
    },
    "id": "dQcnSGSX9Jee",
    "outputId": "e4ee48f5-b81c-4cf4-a054-d0ad6c36f521"
   },
   "outputs": [
    {
     "data": {
      "text/plain": [
       "<seaborn.axisgrid.FacetGrid at 0x7f2f5bf7b940>"
      ]
     },
     "execution_count": 24,
     "metadata": {
      "tags": []
     },
     "output_type": "execute_result"
    },
    {
     "data": {
      "image/png": "[encoded data removed]",
      "text/plain": [
       "<Figure size 360x360 with 1 Axes>"
      ]
     },
     "metadata": {
      "tags": []
     },
     "output_type": "display_data"
    }
   ],
   "source": [
    "sns.catplot(x=\"store_and_fwd_flag\", y=\"trip_duration\",kind=\"bar\",data=df1)"
   ]
  },
  {
   "cell_type": "markdown",
   "metadata": {
    "id": "sd404oWdorfT"
   },
   "source": [
    "The trip duration is significantly greater when store_and_fwd_flag is set to Y, as compared to when it is N. However, it is to be noted that the flag is set to N, majority of the times."
   ]
  },
  {
   "cell_type": "markdown",
   "metadata": {
    "id": "cO3VWe61zeGr"
   },
   "source": [
    "# Summary"
   ]
  },
  {
   "cell_type": "markdown",
   "metadata": {
    "id": "Qv2pFGy00Gdb"
   },
   "source": [
    "We have uncovered following insights for each attribute:\n",
    "\n",
    "\n",
    "Trip Duration:\n",
    "1. Majority of the trips complete within 2500 seconds.\n",
    "2. There are a few outliers, on the higher side but these seem to be genuine since, trips can sometimes take a long time to complete.\n",
    "\n",
    "\n",
    "Pickup Year: \n",
    "1. No impact since all data is for 2016\n",
    "\n",
    "Pickup Month: \n",
    "1. Trip duration is maximum for months 5 & 6 and minimum for month \n",
    "2. There is a discernible difference between trip durations for each month, but it’s better to view more granular aspects such as day/hour for more insights\n",
    "\n",
    "Pickup Day of Week:\n",
    "1. Significant difference in travel times depending on week of day.\n",
    "2. Trip durations are highest on Thursdays and Fridays, slightly lesser on Tuesdays and Wednesdays and lowest on Saturdays,Sundays and Mondays.\n",
    "\n",
    "Pickup Hour:\n",
    "1. Trip duration varies depending on the hour\n",
    "2. The peak hours for traffic are for trips starting within 15:00 - 16:00 / 16:00-17:00 range and trips starting between 6:00 - 7:00, complete in quickest time\n",
    "3. After binning we can infer that average trip times are significantly higher for trips starting between 12:00-17:59 as compared to other intervals\n",
    "\n",
    "Pickup Hour and Week of Day:\n",
    "1. The combination of pickup day of week and time has a significant effect on trip duration\n",
    "2. Maximum trip duration is for Tuesday 00:00-05:59 and minimum is for Sunday between 06:00-11:59\n",
    "\n",
    "Geographical Attributes:\n",
    "1. Neither the pickup and dropoff latitudes and longitudes, nor distance has any significant impact on trip duration.\n",
    "\n",
    "\n",
    "Vendor:\n",
    "1. Trip durations are higher for vendor 2 than vendor 1, both of them have undertaken a significant amount of trips to reach to this conclusion.\n",
    "\n",
    "Passenger Count:\n",
    "1. Passenger seems to have an impact on trip duration\n",
    "2. The general trend here trip duration increases as the passenger count increases from 1 to 6, with a slight decrease from 3 to 4. We can ignore 0,7 & 9, since these have a negligible presence in the dataset.\n",
    "\n",
    "We have 2 variables dropoff_datetime and store_and_fwd_flag which are not available before the trip starts and hence will not be used as features to the model.\n"
   ]
  },
  {
   "cell_type": "code",
   "execution_count": null,
   "metadata": {
    "id": "GRD_b2-M8ipI"
   },
   "outputs": [],
   "source": []
  }
 ],
 "metadata": {
  "colab": {
   "collapsed_sections": [
    "_f3BUhy7PyB2",
    "lMslpOsgSmnY",
    "yCmSiAIaSKQ9",
    "QvI5babUmZQ_",
    "tX6SNsH5Ux2p",
    "1x-JLdgOixPi",
    "CK9hBRIvfA6H",
    "du2whAh8g5Bt",
    "KSdYMK-tyjdB",
    "exwL4r9Nq3mV",
    "x0VyT51Ay3ii",
    "x-d0uosYzDiH",
    "WFsGjXHpyb4z",
    "cO3VWe61zeGr"
   ],
   "name": "NYC Taxi Trip Duration EDA.ipynb",
   "provenance": []
  },
  "kernelspec": {
   "display_name": "Python 3",
   "language": "python",
   "name": "python3"
  },
  "language_info": {
   "codemirror_mode": {
    "name": "ipython",
    "version": 3
   },
   "file_extension": ".py",
   "mimetype": "text/x-python",
   "name": "python",
   "nbconvert_exporter": "python",
   "pygments_lexer": "ipython3",
   "version": "3.7.3"
  }
 },
 "nbformat": 4,
 "nbformat_minor": 1
}
