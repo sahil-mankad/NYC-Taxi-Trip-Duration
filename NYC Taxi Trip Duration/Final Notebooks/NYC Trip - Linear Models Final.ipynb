{
 "cells": [
  {
   "cell_type": "markdown",
   "metadata": {
    "id": "8ZvXj4RH26ri"
   },
   "source": [
    "# Setup"
   ]
  },
  {
   "cell_type": "code",
   "execution_count": null,
   "metadata": {
    "colab": {
     "base_uri": "https://localhost:8080/",
     "height": 122
    },
    "executionInfo": {
     "elapsed": 109292,
     "status": "ok",
     "timestamp": 1583743847597,
     "user": {
      "displayName": "SAHIL MANKAD",
      "photoUrl": "",
      "userId": "01524592176474520459"
     },
     "user_tz": -330
    },
    "id": "XkCuJumN0ip7",
    "outputId": "e7cdc52d-73b0-44ea-d572-385d5ea5b8b2"
   },
   "outputs": [
    {
     "name": "stdout",
     "output_type": "stream",
     "text": [
      "Go to this URL in a browser: https://accounts.google.com/o/oauth2/auth?client_id=947318989803-6bn6qk8qdgf4n4g3pfee6491hc0brc4i.apps.googleusercontent.com&redirect_uri=urn%3aietf%3awg%3aoauth%3a2.0%3aoob&response_type=code&scope=email%20https%3a%2f%2fwww.googleapis.com%2fauth%2fdocs.test%20https%3a%2f%2fwww.googleapis.com%2fauth%2fdrive%20https%3a%2f%2fwww.googleapis.com%2fauth%2fdrive.photos.readonly%20https%3a%2f%2fwww.googleapis.com%2fauth%2fpeopleapi.readonly\n",
      "\n",
      "Enter your authorization code:\n",
      "··········\n",
      "Mounted at /content/drive/\n"
     ]
    }
   ],
   "source": [
    "import os\n",
    "from google.colab import drive\n",
    "drive.mount('/content/drive/')"
   ]
  },
  {
   "cell_type": "code",
   "execution_count": null,
   "metadata": {
    "colab": {
     "base_uri": "https://localhost:8080/",
     "height": 68
    },
    "executionInfo": {
     "elapsed": 116564,
     "status": "ok",
     "timestamp": 1583743854935,
     "user": {
      "displayName": "SAHIL MANKAD",
      "photoUrl": "",
      "userId": "01524592176474520459"
     },
     "user_tz": -330
    },
    "id": "Fjl178vD25qW",
    "outputId": "1162faee-b567-40e2-c7a0-5e4e503815e1"
   },
   "outputs": [
    {
     "name": "stdout",
     "output_type": "stream",
     "text": [
      "'Insights NYC.gdoc'\t\t    'NYC Trip - Linear Models.ipynb'\n",
      " nyc_taxi_trip_duration.csv\t    'Rough Work.ipynb'\n",
      "'NYC Taxi Trip Duration EDA.ipynb'\n"
     ]
    }
   ],
   "source": [
    "path = input(\"Enter the path:\") \n",
    "os.chdir(path)\n",
    "\n",
    "\n",
    "!ls"
   ]
  },
  {
   "cell_type": "code",
   "execution_count": null,
   "metadata": {
    "id": "1RD3Iotc4N5S"
   },
   "outputs": [],
   "source": [
    "import numpy as np\n",
    "from sklearn.feature_selection import chi2\n",
    "import pandas as pd\n",
    "import seaborn as sns\n",
    "import time\n",
    "import sklearn\n",
    "import matplotlib.pyplot as plt\n",
    "from sklearn.preprocessing import LabelEncoder\n",
    "from sklearn.preprocessing import StandardScaler\n",
    "from sklearn.linear_model import LinearRegression\n",
    "from sklearn.model_selection import KFold, StratifiedKFold, train_test_split\n",
    "from sklearn.preprocessing import normalize\n",
    "from statsmodels.graphics.gofplots import qqplot\n",
    "from sklearn.model_selection import cross_validate\n",
    "import warnings\n",
    "# from sklearn.preprocessing import Normalizer\n",
    "warnings.simplefilter(action='ignore', category=FutureWarning)\n",
    "warnings.simplefilter(action='ignore', category=UserWarning)"
   ]
  },
  {
   "cell_type": "markdown",
   "metadata": {
    "id": "e-VPUKYy4O0z"
   },
   "source": [
    "# Loading Data"
   ]
  },
  {
   "cell_type": "code",
   "execution_count": null,
   "metadata": {
    "id": "QwqR-hfe29bJ"
   },
   "outputs": [],
   "source": [
    "df = pd.read_csv('nyc_taxi_trip_duration.csv')"
   ]
  },
  {
   "cell_type": "markdown",
   "metadata": {
    "id": "YyLNnjZs4RTB"
   },
   "source": [
    "# Treating missing values"
   ]
  },
  {
   "cell_type": "code",
   "execution_count": null,
   "metadata": {
    "colab": {
     "base_uri": "https://localhost:8080/"
    },
    "executionInfo": {
     "elapsed": 118700,
     "status": "ok",
     "timestamp": 1583743857165,
     "user": {
      "displayName": "SAHIL MANKAD",
      "photoUrl": "",
      "userId": "01524592176474520459"
     },
     "user_tz": -330
    },
    "id": "Z7mdaTeg4T9r",
    "outputId": "d353e4cd-da1e-4012-82b9-cc3e8d16db3e"
   },
   "outputs": [
    {
     "data": {
      "text/plain": [
       "id                    0\n",
       "vendor_id             0\n",
       "pickup_datetime       0\n",
       "dropoff_datetime      0\n",
       "passenger_count       0\n",
       "pickup_longitude      0\n",
       "pickup_latitude       0\n",
       "dropoff_longitude     0\n",
       "dropoff_latitude      0\n",
       "store_and_fwd_flag    0\n",
       "trip_duration         0\n",
       "dtype: int64"
      ]
     },
     "execution_count": 5,
     "metadata": {
      "tags": []
     },
     "output_type": "execute_result"
    }
   ],
   "source": [
    "pd.isnull(df).sum()"
   ]
  },
  {
   "cell_type": "markdown",
   "metadata": {
    "id": "eg8qYqoFD06L"
   },
   "source": [
    "No missing values in this dataset. Yay!"
   ]
  },
  {
   "cell_type": "code",
   "execution_count": null,
   "metadata": {
    "colab": {
     "base_uri": "https://localhost:8080/"
    },
    "executionInfo": {
     "elapsed": 118680,
     "status": "ok",
     "timestamp": 1583743857167,
     "user": {
      "displayName": "SAHIL MANKAD",
      "photoUrl": "",
      "userId": "01524592176474520459"
     },
     "user_tz": -330
    },
    "id": "jUZt1Ug1Dyc4",
    "outputId": "861e72c7-0a66-4e1d-dd7d-8b87ab985e6c"
   },
   "outputs": [
    {
     "data": {
      "text/plain": [
       "id                     object\n",
       "vendor_id               int64\n",
       "pickup_datetime        object\n",
       "dropoff_datetime       object\n",
       "passenger_count         int64\n",
       "pickup_longitude      float64\n",
       "pickup_latitude       float64\n",
       "dropoff_longitude     float64\n",
       "dropoff_latitude      float64\n",
       "store_and_fwd_flag     object\n",
       "trip_duration           int64\n",
       "dtype: object"
      ]
     },
     "execution_count": 6,
     "metadata": {
      "tags": []
     },
     "output_type": "execute_result"
    }
   ],
   "source": [
    "df.dtypes"
   ]
  },
  {
   "cell_type": "markdown",
   "metadata": {
    "id": "bETtghkgHGdV"
   },
   "source": [
    "Let us convert vendor_id into a categorical variable since it only has values 0 and 1(covered this in eda)"
   ]
  },
  {
   "cell_type": "code",
   "execution_count": null,
   "metadata": {
    "id": "GJMYiFzVHOJP"
   },
   "outputs": [],
   "source": [
    "df['vendor_id'] = df['vendor_id'].apply(lambda x:str(x))"
   ]
  },
  {
   "cell_type": "code",
   "execution_count": null,
   "metadata": {
    "colab": {
     "base_uri": "https://localhost:8080/"
    },
    "executionInfo": {
     "elapsed": 119042,
     "status": "ok",
     "timestamp": 1583743857560,
     "user": {
      "displayName": "SAHIL MANKAD",
      "photoUrl": "",
      "userId": "01524592176474520459"
     },
     "user_tz": -330
    },
    "id": "KI8upwhUHzyl",
    "outputId": "3b2e02a7-a713-4183-c250-556daabe0f0b"
   },
   "outputs": [
    {
     "data": {
      "text/plain": [
       "id                     object\n",
       "vendor_id              object\n",
       "pickup_datetime        object\n",
       "dropoff_datetime       object\n",
       "passenger_count         int64\n",
       "pickup_longitude      float64\n",
       "pickup_latitude       float64\n",
       "dropoff_longitude     float64\n",
       "dropoff_latitude      float64\n",
       "store_and_fwd_flag     object\n",
       "trip_duration           int64\n",
       "dtype: object"
      ]
     },
     "execution_count": 8,
     "metadata": {
      "tags": []
     },
     "output_type": "execute_result"
    }
   ],
   "source": [
    "df.dtypes"
   ]
  },
  {
   "cell_type": "markdown",
   "metadata": {
    "id": "rUhVhqGBFUNG"
   },
   "source": [
    "We can see that the vendor_id is converted into object type from int.From the EDA performed earlier, we came to conclusion that time related features provided key insights for trip duration, let's create these features once again."
   ]
  },
  {
   "cell_type": "markdown",
   "metadata": {
    "id": "kzzIPBCMvZKp"
   },
   "source": [
    "# Create Distance feature"
   ]
  },
  {
   "cell_type": "code",
   "execution_count": null,
   "metadata": {
    "colab": {
     "base_uri": "https://localhost:8080/"
    },
    "executionInfo": {
     "elapsed": 338185,
     "status": "ok",
     "timestamp": 1583744076723,
     "user": {
      "displayName": "SAHIL MANKAD",
      "photoUrl": "",
      "userId": "01524592176474520459"
     },
     "user_tz": -330
    },
    "id": "teK7G-wbvbvO",
    "outputId": "afd0112f-6b08-4b04-8d4d-9ffdc269115c"
   },
   "outputs": [
    {
     "name": "stderr",
     "output_type": "stream",
     "text": [
      "/usr/local/lib/python3.6/dist-packages/ipykernel_launcher.py:10: SettingWithCopyWarning: \n",
      "A value is trying to be set on a copy of a slice from a DataFrame.\n",
      "Try using .loc[row_indexer,col_indexer] = value instead\n",
      "\n",
      "See the caveats in the documentation: http://pandas.pydata.org/pandas-docs/stable/user_guide/indexing.html#returning-a-view-versus-a-copy\n",
      "  # Remove the CWD from sys.path while we load stuff.\n",
      "/usr/local/lib/python3.6/dist-packages/ipykernel_launcher.py:11: SettingWithCopyWarning: \n",
      "A value is trying to be set on a copy of a slice from a DataFrame.\n",
      "Try using .loc[row_indexer,col_indexer] = value instead\n",
      "\n",
      "See the caveats in the documentation: http://pandas.pydata.org/pandas-docs/stable/user_guide/indexing.html#returning-a-view-versus-a-copy\n",
      "  # This is added back by InteractiveShellApp.init_path()\n"
     ]
    }
   ],
   "source": [
    "df2 = df[['pickup_longitude' , 'pickup_latitude' , 'dropoff_longitude' , 'dropoff_latitude']]\n",
    "\n",
    "import geopy.distance\n",
    "\n",
    "temp = []\n",
    "\n",
    "for i in range(0,df2.shape[0]):\n",
    "  temp.append(geopy.distance.distance((df2['pickup_latitude'][i],df2['pickup_longitude'][i]),(df2['dropoff_latitude'][i],df2['dropoff_longitude'][i])).km)\n",
    "\n",
    "df2['distance_km'] = temp\n",
    "df2['distance_km'] = df2['distance_km'].apply(lambda x:round(x,2))\n",
    "\n",
    "df['distance_km'] = df2['distance_km']"
   ]
  },
  {
   "cell_type": "code",
   "execution_count": null,
   "metadata": {
    "colab": {
     "base_uri": "https://localhost:8080/"
    },
    "executionInfo": {
     "elapsed": 338172,
     "status": "ok",
     "timestamp": 1583744076725,
     "user": {
      "displayName": "SAHIL MANKAD",
      "photoUrl": "",
      "userId": "01524592176474520459"
     },
     "user_tz": -330
    },
    "id": "ltO63Ujh_nFg",
    "outputId": "db3b98ce-3f05-42e3-8688-6cfc4f5b919d"
   },
   "outputs": [
    {
     "data": {
      "text/plain": [
       "(729322,)"
      ]
     },
     "execution_count": 10,
     "metadata": {
      "tags": []
     },
     "output_type": "execute_result"
    }
   ],
   "source": [
    "df['distance_km'] .shape"
   ]
  },
  {
   "cell_type": "markdown",
   "metadata": {
    "id": "KSdYMK-tyjdB"
   },
   "source": [
    "# Creating new time related features "
   ]
  },
  {
   "cell_type": "markdown",
   "metadata": {
    "id": "dpf2Q3Tsnqbt"
   },
   "source": [
    "Based on the length, datatype and value of the pickup timestamp, we can deduce year, month, day and hour as follows"
   ]
  },
  {
   "cell_type": "code",
   "execution_count": null,
   "metadata": {
    "id": "IsY4WoGuki-O"
   },
   "outputs": [],
   "source": [
    "df['pickup_timestamp'] = df['pickup_datetime'].copy()\n",
    "\n",
    "df['pickup_year'] = df['pickup_timestamp'].apply(lambda x:x[0:4])\n",
    "df['pickup_month'] = df['pickup_timestamp'].apply(lambda x:x[5:7])\n",
    "df['pickup_day'] = df['pickup_timestamp'].apply(lambda x:x[8:11])\n",
    "df['pickup_hour'] = df['pickup_timestamp'].apply(lambda x:x[11:13])\n"
   ]
  },
  {
   "cell_type": "markdown",
   "metadata": {
    "id": "exwL4r9Nq3mV"
   },
   "source": [
    "### Peeking into our newly created data"
   ]
  },
  {
   "cell_type": "code",
   "execution_count": null,
   "metadata": {
    "colab": {
     "base_uri": "https://localhost:8080/"
    },
    "executionInfo": {
     "elapsed": 338776,
     "status": "ok",
     "timestamp": 1583744077359,
     "user": {
      "displayName": "SAHIL MANKAD",
      "photoUrl": "",
      "userId": "01524592176474520459"
     },
     "user_tz": -330
    },
    "id": "AHl-ZzULp8OL",
    "outputId": "418ffda3-98b3-405f-c8f2-d7e3aa354b42"
   },
   "outputs": [
    {
     "data": {
      "text/plain": [
       "03    128316\n",
       "04    125634\n",
       "05    124201\n",
       "02    119364\n",
       "06    117406\n",
       "01    114401\n",
       "Name: pickup_month, dtype: int64"
      ]
     },
     "execution_count": 12,
     "metadata": {
      "tags": []
     },
     "output_type": "execute_result"
    }
   ],
   "source": [
    "df['pickup_month'].value_counts()"
   ]
  },
  {
   "cell_type": "code",
   "execution_count": null,
   "metadata": {
    "colab": {
     "base_uri": "https://localhost:8080/"
    },
    "executionInfo": {
     "elapsed": 339207,
     "status": "ok",
     "timestamp": 1583744077802,
     "user": {
      "displayName": "SAHIL MANKAD",
      "photoUrl": "",
      "userId": "01524592176474520459"
     },
     "user_tz": -330
    },
    "id": "4cQEXAYeqAcA",
    "outputId": "be60d655-11af-4669-8113-baf0abf4428e"
   },
   "outputs": [
    {
     "data": {
      "text/plain": [
       "2016    729322\n",
       "Name: pickup_year, dtype: int64"
      ]
     },
     "execution_count": 13,
     "metadata": {
      "tags": []
     },
     "output_type": "execute_result"
    }
   ],
   "source": [
    "df['pickup_year'].value_counts()"
   ]
  },
  {
   "cell_type": "code",
   "execution_count": null,
   "metadata": {
    "colab": {
     "base_uri": "https://localhost:8080/"
    },
    "executionInfo": {
     "elapsed": 339195,
     "status": "ok",
     "timestamp": 1583744077804,
     "user": {
      "displayName": "SAHIL MANKAD",
      "photoUrl": "",
      "userId": "01524592176474520459"
     },
     "user_tz": -330
    },
    "id": "CuUIXAt5q0aZ",
    "outputId": "1f66da3d-df8e-46a6-9bae-1a6e16f0eefb"
   },
   "outputs": [
    {
     "data": {
      "text/plain": [
       "16     25519\n",
       "14     25206\n",
       "12     25156\n",
       "15     25037\n",
       "05     25030\n",
       "04     24958\n",
       "06     24757\n",
       "09     24729\n",
       "13     24649\n",
       "19     24646\n",
       "20     24584\n",
       "10     24575\n",
       "11     24361\n",
       "17     24338\n",
       "21     24260\n",
       "07     24254\n",
       "18     24128\n",
       "08     24113\n",
       "02     23899\n",
       "03     23858\n",
       "26     23709\n",
       "22     23627\n",
       "29     23391\n",
       "27     23376\n",
       "01     23293\n",
       "25     23288\n",
       "28     22916\n",
       "24     21877\n",
       "23     20757\n",
       "30     19642\n",
       "31     11389\n",
       "Name: pickup_day, dtype: int64"
      ]
     },
     "execution_count": 14,
     "metadata": {
      "tags": []
     },
     "output_type": "execute_result"
    }
   ],
   "source": [
    "df['pickup_day'].value_counts()"
   ]
  },
  {
   "cell_type": "code",
   "execution_count": null,
   "metadata": {
    "colab": {
     "base_uri": "https://localhost:8080/"
    },
    "executionInfo": {
     "elapsed": 339181,
     "status": "ok",
     "timestamp": 1583744077805,
     "user": {
      "displayName": "SAHIL MANKAD",
      "photoUrl": "",
      "userId": "01524592176474520459"
     },
     "user_tz": -330
    },
    "id": "FTv1C5h6rKQE",
    "outputId": "c0447d40-0868-40a6-d0e3-f9191b05df05"
   },
   "outputs": [
    {
     "data": {
      "text/plain": [
       "18    45404\n",
       "19    45262\n",
       "20    42165\n",
       "21    42045\n",
       "22    40293\n",
       "17    38313\n",
       "14    37120\n",
       "12    35820\n",
       "15    35687\n",
       "13    35630\n",
       "23    35069\n",
       "11    34061\n",
       "09    33821\n",
       "08    33612\n",
       "10    32713\n",
       "16    32147\n",
       "07    27907\n",
       "00    26726\n",
       "01    19243\n",
       "06    16552\n",
       "02    13960\n",
       "03    10424\n",
       "04     7827\n",
       "05     7521\n",
       "Name: pickup_hour, dtype: int64"
      ]
     },
     "execution_count": 15,
     "metadata": {
      "tags": []
     },
     "output_type": "execute_result"
    }
   ],
   "source": [
    "df['pickup_hour'].value_counts()"
   ]
  },
  {
   "cell_type": "markdown",
   "metadata": {
    "id": "ogY__80TrOiG"
   },
   "source": [
    "It is now clear that we do not need to use year for further analysis as all data is from a single year, i.e 2016. Also, knowing the day of the week might provide some answers, let's extract the same"
   ]
  },
  {
   "cell_type": "markdown",
   "metadata": {
    "id": "x0VyT51Ay3ii"
   },
   "source": [
    "### Creating day of week feature"
   ]
  },
  {
   "cell_type": "code",
   "execution_count": null,
   "metadata": {
    "id": "vjWsKMVSMqZ9"
   },
   "outputs": [],
   "source": [
    "import datetime,calendar "
   ]
  },
  {
   "cell_type": "code",
   "execution_count": null,
   "metadata": {
    "id": "Brm5k0NDPb7J"
   },
   "outputs": [],
   "source": [
    "def get_weekday(date):\n",
    "  date = date[:10].replace('-',' ')[:10]\n",
    "  day = datetime.datetime.strptime(date, '%Y %m %d').weekday() \n",
    "  return calendar.day_name[day]"
   ]
  },
  {
   "cell_type": "code",
   "execution_count": null,
   "metadata": {
    "id": "7KJI8YCMPdx4"
   },
   "outputs": [],
   "source": [
    "df['pickup_day_of_week'] = df['pickup_timestamp'].apply(lambda date:get_weekday(date))"
   ]
  },
  {
   "cell_type": "code",
   "execution_count": null,
   "metadata": {
    "colab": {
     "base_uri": "https://localhost:8080/"
    },
    "executionInfo": {
     "elapsed": 350481,
     "status": "ok",
     "timestamp": 1583744089191,
     "user": {
      "displayName": "SAHIL MANKAD",
      "photoUrl": "",
      "userId": "01524592176474520459"
     },
     "user_tz": -330
    },
    "id": "rN_pZaAgNf-X",
    "outputId": "5205dc6e-7538-475d-df27-7c6b602cb2d5"
   },
   "outputs": [
    {
     "data": {
      "text/plain": [
       "Friday       111744\n",
       "Saturday     110252\n",
       "Thursday     109344\n",
       "Wednesday    105074\n",
       "Tuesday      101254\n",
       "Sunday        97682\n",
       "Monday        93972\n",
       "Name: pickup_day_of_week, dtype: int64"
      ]
     },
     "execution_count": 19,
     "metadata": {
      "tags": []
     },
     "output_type": "execute_result"
    }
   ],
   "source": [
    "df['pickup_day_of_week'].value_counts()"
   ]
  },
  {
   "cell_type": "markdown",
   "metadata": {
    "id": "zP1pBqEkHIjt"
   },
   "source": [
    "### Creating Binned feature for pickup_hour"
   ]
  },
  {
   "cell_type": "code",
   "execution_count": null,
   "metadata": {
    "colab": {
     "base_uri": "https://localhost:8080/"
    },
    "executionInfo": {
     "elapsed": 351238,
     "status": "ok",
     "timestamp": 1583744089961,
     "user": {
      "displayName": "SAHIL MANKAD",
      "photoUrl": "",
      "userId": "01524592176474520459"
     },
     "user_tz": -330
    },
    "id": "fTg9SI97Hbgu",
    "outputId": "cd24d79e-fb7c-4170-b404-e2d7e0336db7"
   },
   "outputs": [
    {
     "data": {
      "text/plain": [
       "18:00-23:59    250238\n",
       "12:00-17:59    214717\n",
       "06:00-11:59    178666\n",
       "00:00-05:59     85701\n",
       "Name: pickup_hour_binned, dtype: int64"
      ]
     },
     "execution_count": 20,
     "metadata": {
      "tags": []
     },
     "output_type": "execute_result"
    }
   ],
   "source": [
    "# Bin ranges start from -1, since lower count of bin is not included in the interval, so the first interval starts from 0.\n",
    "bins = [-1, 5, 11, 17, 23]\n",
    "labels = ['00:00-05:59','06:00-11:59','12:00-17:59','18:00-23:59']\n",
    "df['numeric_pickup_hour'] = pd.to_numeric(df['pickup_hour'], errors='coerce')\n",
    "df['pickup_hour_binned'] = pd.cut(df['numeric_pickup_hour'], bins,labels=labels)\n",
    "df['pickup_hour_binned'] = df['pickup_hour_binned'].apply(lambda x:str(x))\n",
    "df['pickup_hour_binned'].value_counts()"
   ]
  },
  {
   "cell_type": "code",
   "execution_count": null,
   "metadata": {
    "id": "QQ-TXRBILvXR"
   },
   "outputs": [],
   "source": [
    "# We do not require numeric_pickup_hour now\n",
    "df.drop(['numeric_pickup_hour'],axis = 1, inplace = True)"
   ]
  },
  {
   "cell_type": "code",
   "execution_count": null,
   "metadata": {
    "colab": {
     "base_uri": "https://localhost:8080/"
    },
    "executionInfo": {
     "elapsed": 351214,
     "status": "ok",
     "timestamp": 1583744089964,
     "user": {
      "displayName": "SAHIL MANKAD",
      "photoUrl": "",
      "userId": "01524592176474520459"
     },
     "user_tz": -330
    },
    "id": "7oS8c0O1Qz3b",
    "outputId": "c6835e37-ab91-437c-cfe8-62290cd718c6"
   },
   "outputs": [
    {
     "name": "stdout",
     "output_type": "stream",
     "text": [
      "          id vendor_id  ... pickup_day_of_week pickup_hour_binned\n",
      "0  id1080784         2  ...             Monday        12:00-17:59\n",
      "1  id0889885         1  ...             Friday        18:00-23:59\n",
      "2  id0857912         2  ...             Sunday        12:00-17:59\n",
      "3  id3744273         2  ...            Tuesday        06:00-11:59\n",
      "4  id0232939         1  ...          Wednesday        06:00-11:59\n",
      "\n",
      "[5 rows x 19 columns]\n"
     ]
    }
   ],
   "source": [
    "print(df.head())"
   ]
  },
  {
   "cell_type": "markdown",
   "metadata": {
    "id": "C5iL8YiMC4Vi"
   },
   "source": [
    "# Outlier treatment"
   ]
  },
  {
   "cell_type": "markdown",
   "metadata": {
    "id": "iXKzYsHtUDO1"
   },
   "source": [
    "### Plotting numerical values"
   ]
  },
  {
   "cell_type": "code",
   "execution_count": null,
   "metadata": {
    "colab": {
     "base_uri": "https://localhost:8080/"
    },
    "executionInfo": {
     "elapsed": 351201,
     "status": "ok",
     "timestamp": 1583744089965,
     "user": {
      "displayName": "SAHIL MANKAD",
      "photoUrl": "",
      "userId": "01524592176474520459"
     },
     "user_tz": -330
    },
    "id": "500QE6wCZ_Z_",
    "outputId": "a70b6c57-0660-4826-d0d1-7672bf257f23"
   },
   "outputs": [
    {
     "data": {
      "text/plain": [
       "id                      object\n",
       "vendor_id               object\n",
       "pickup_datetime         object\n",
       "dropoff_datetime        object\n",
       "passenger_count          int64\n",
       "pickup_longitude       float64\n",
       "pickup_latitude        float64\n",
       "dropoff_longitude      float64\n",
       "dropoff_latitude       float64\n",
       "store_and_fwd_flag      object\n",
       "trip_duration            int64\n",
       "distance_km            float64\n",
       "pickup_timestamp        object\n",
       "pickup_year             object\n",
       "pickup_month            object\n",
       "pickup_day              object\n",
       "pickup_hour             object\n",
       "pickup_day_of_week      object\n",
       "pickup_hour_binned    category\n",
       "dtype: object"
      ]
     },
     "execution_count": 23,
     "metadata": {
      "tags": []
     },
     "output_type": "execute_result"
    }
   ],
   "source": [
    "df.dtypes"
   ]
  },
  {
   "cell_type": "code",
   "execution_count": null,
   "metadata": {
    "id": "TlDiy1gGC7gg"
   },
   "outputs": [],
   "source": [
    "def plot_numerical(df):\n",
    "  fig, axes = plt.subplots(nrows = 2 , ncols = 3, figsize=(12, 6))\n",
    "  fig.tight_layout()\n",
    "  ax1,ax2,ax3,ax4,ax5,ax6 = axes[0][0] , axes[0][1],axes[0][2] , axes[1][0] , axes[1][1], axes[1][2] \n",
    "\n",
    "\n",
    "  sns.boxplot(x=df['distance_km'],ax = ax1)\n",
    "  sns.boxplot(x=df['pickup_longitude'],ax = ax2)\n",
    "  sns.boxplot(x=df['pickup_latitude'],ax = ax3)\n",
    "  sns.boxplot(x=df['dropoff_longitude'],ax = ax4)\n",
    "  sns.boxplot(x=df['dropoff_latitude'],ax = ax5) \n",
    "  sns.boxplot(x=df['passenger_count'],ax = ax6)\n",
    "  plt.show()"
   ]
  },
  {
   "cell_type": "markdown",
   "metadata": {
    "id": "pquZHyTVlc9T"
   },
   "source": [
    "Plotting numerical features before outlier processing"
   ]
  },
  {
   "cell_type": "code",
   "execution_count": null,
   "metadata": {
    "colab": {
     "base_uri": "https://localhost:8080/"
    },
    "executionInfo": {
     "elapsed": 353934,
     "status": "ok",
     "timestamp": 1583744092732,
     "user": {
      "displayName": "SAHIL MANKAD",
      "photoUrl": "",
      "userId": "01524592176474520459"
     },
     "user_tz": -330
    },
    "id": "Yue4o1cKlhEM",
    "outputId": "792f7403-3633-4197-a134-d35ba29851f3"
   },
   "outputs": [
    {
     "data": {
      "image/png": "[encoded data removed]",
      "text/plain": [
       "<Figure size 864x432 with 6 Axes>"
      ]
     },
     "metadata": {
      "tags": []
     },
     "output_type": "display_data"
    }
   ],
   "source": [
    "plot_numerical(df)"
   ]
  },
  {
   "cell_type": "markdown",
   "metadata": {
    "id": "XaMjvi9HlnVG"
   },
   "source": [
    "Let us find out number of distances greater than 50 kms"
   ]
  },
  {
   "cell_type": "code",
   "execution_count": null,
   "metadata": {
    "colab": {
     "base_uri": "https://localhost:8080/"
    },
    "executionInfo": {
     "elapsed": 353911,
     "status": "ok",
     "timestamp": 1583744092734,
     "user": {
      "displayName": "SAHIL MANKAD",
      "photoUrl": "",
      "userId": "01524592176474520459"
     },
     "user_tz": -330
    },
    "id": "2eIHkedvmCH2",
    "outputId": "7ed0cbde-e284-46e8-d059-243ea9d7a5f3"
   },
   "outputs": [
    {
     "data": {
      "text/plain": [
       "(51, 19)"
      ]
     },
     "execution_count": 26,
     "metadata": {
      "tags": []
     },
     "output_type": "execute_result"
    }
   ],
   "source": [
    "df_temp = df[df['distance_km'] > 50]\n",
    "df_temp.shape"
   ]
  },
  {
   "cell_type": "markdown",
   "metadata": {
    "id": "2PzBR3ORD_a6"
   },
   "source": [
    "Out of some 700,000 trips, only 51 have covered distances greater than 50 kms. Hence it would be safe to drop these rows from the dataset. Let's also plot the numerical features after removing these columns"
   ]
  },
  {
   "cell_type": "code",
   "execution_count": null,
   "metadata": {
    "colab": {
     "base_uri": "https://localhost:8080/"
    },
    "executionInfo": {
     "elapsed": 353896,
     "status": "ok",
     "timestamp": 1583744092736,
     "user": {
      "displayName": "SAHIL MANKAD",
      "photoUrl": "",
      "userId": "01524592176474520459"
     },
     "user_tz": -330
    },
    "id": "1xqtioqUD_K6",
    "outputId": "2f3b285c-ab55-4637-c894-69135e4de064"
   },
   "outputs": [
    {
     "name": "stdout",
     "output_type": "stream",
     "text": [
      "Rows before :  729322\n",
      "Rows after :  729271\n"
     ]
    }
   ],
   "source": [
    "print(\"Rows before : \",df.shape[0])\n",
    "df = df[df['distance_km'] <= 50]\n",
    "print(\"Rows after : \",df.shape[0])"
   ]
  },
  {
   "cell_type": "code",
   "execution_count": null,
   "metadata": {
    "colab": {
     "base_uri": "https://localhost:8080/"
    },
    "executionInfo": {
     "elapsed": 356069,
     "status": "ok",
     "timestamp": 1583744094933,
     "user": {
      "displayName": "SAHIL MANKAD",
      "photoUrl": "",
      "userId": "01524592176474520459"
     },
     "user_tz": -330
    },
    "id": "oYurmMFBD63S",
    "outputId": "e7b675be-f8b8-4a2a-97bd-e516909eb63c"
   },
   "outputs": [
    {
     "data": {
      "image/png": "[encoded data removed]",
      "text/plain": [
       "<Figure size 864x432 with 6 Axes>"
      ]
     },
     "metadata": {
      "tags": []
     },
     "output_type": "display_data"
    }
   ],
   "source": [
    "plot_numerical(df)"
   ]
  },
  {
   "cell_type": "markdown",
   "metadata": {
    "id": "v6VDaaonJhaA"
   },
   "source": [
    "### Counting outliers in each column using formula method"
   ]
  },
  {
   "cell_type": "code",
   "execution_count": null,
   "metadata": {
    "id": "ec2VV4Z8JYf6"
   },
   "outputs": [],
   "source": [
    "#Finds number of outliers in a dataframe column using formula method\n",
    "def find_outliers(df_column):\n",
    "  q1 = df_column.quantile(0.25)\n",
    "  q2 = df_column.quantile(0.5)\n",
    "  q3 = df_column.quantile(0.75)\n",
    "  q4 = df_column.quantile(1)\n",
    "  lower = q1 - 1.5*(q3-q1)\n",
    "  upper = q3 + 1.5*(q3-q1)\n",
    "  #print(lower,upper)\n",
    "  #df_temp = df[df['distance_km'] > 50]\n",
    "  df_temp = df_column.apply(lambda x: (x > upper or x < lower)) #df_column > upper or df_column < lower\n",
    "  df_outlier = df_column[df_column == True]\n",
    "  print(\"% outliers using formula method\")\n",
    "  print(df_outlier.shape[0]*100/df_column.shape[0])  \n"
   ]
  },
  {
   "cell_type": "markdown",
   "metadata": {
    "id": "5iquM-0bU81i"
   },
   "source": [
    "passenger_count\tpickup_longitude\tpickup_latitude\tdropoff_longitude\tdropoff_latitude\ttrip_duration\tdistance_km\t"
   ]
  },
  {
   "cell_type": "code",
   "execution_count": null,
   "metadata": {
    "id": "Huh7JkU7Uwev"
   },
   "outputs": [],
   "source": [
    "numeric_cols = ['passenger_count','pickup_longitude','pickup_latitude','dropoff_longitude','dropoff_latitude','distance_km']"
   ]
  },
  {
   "cell_type": "markdown",
   "metadata": {
    "id": "56WBOdpOcXlN"
   },
   "source": [
    "Using formula method to find outliers"
   ]
  },
  {
   "cell_type": "code",
   "execution_count": null,
   "metadata": {
    "colab": {
     "base_uri": "https://localhost:8080/"
    },
    "executionInfo": {
     "elapsed": 358272,
     "status": "ok",
     "timestamp": 1583744097180,
     "user": {
      "displayName": "SAHIL MANKAD",
      "photoUrl": "",
      "userId": "01524592176474520459"
     },
     "user_tz": -330
    },
    "id": "_DPV1AR7NoVo",
    "outputId": "122daf4b-a365-432e-bcb8-8fd0ecfa8845"
   },
   "outputs": [
    {
     "name": "stdout",
     "output_type": "stream",
     "text": [
      "passenger_count\n",
      "% outliers using formula method\n",
      "70.94482023829276\n",
      "pickup_longitude\n",
      "% outliers using formula method\n",
      "0.0\n",
      "pickup_latitude\n",
      "% outliers using formula method\n",
      "0.0\n",
      "dropoff_longitude\n",
      "% outliers using formula method\n",
      "0.0\n",
      "dropoff_latitude\n",
      "% outliers using formula method\n",
      "0.0\n",
      "distance_km\n",
      "% outliers using formula method\n",
      "0.3384201483399175\n"
     ]
    }
   ],
   "source": [
    "for col in numeric_cols:\n",
    "  print(col)\n",
    "  find_outliers(df[col])"
   ]
  },
  {
   "cell_type": "markdown",
   "metadata": {
    "id": "3vAIRMJLmMf9"
   },
   "source": [
    "### Using percentile method"
   ]
  },
  {
   "cell_type": "code",
   "execution_count": null,
   "metadata": {
    "id": "wgYH7xY_mdLc"
   },
   "outputs": [],
   "source": [
    "#find percentiles for a data\n",
    "def find_percentiles(df_column,start,end,interval):\n",
    "  for i in range(start,end,interval):\n",
    "    var = np.sort(df_column.values,axis=None)\n",
    "    print(\"{} percentile value is {}\".format(i,var[int(len(var) * (float(i)/100))]))\n",
    "\n",
    "  print(\"100 percentile value is: \",var[-1])"
   ]
  },
  {
   "cell_type": "code",
   "execution_count": null,
   "metadata": {
    "colab": {
     "base_uri": "https://localhost:8080/"
    },
    "executionInfo": {
     "elapsed": 361750,
     "status": "ok",
     "timestamp": 1583744100691,
     "user": {
      "displayName": "SAHIL MANKAD",
      "photoUrl": "",
      "userId": "01524592176474520459"
     },
     "user_tz": -330
    },
    "id": "xOLd1Jv5mRbB",
    "outputId": "30d4d6e8-3112-41b2-8c36-64669e862d9f"
   },
   "outputs": [
    {
     "name": "stdout",
     "output_type": "stream",
     "text": [
      "For passenger_count\n",
      "0 percentile value is 0\n",
      "10 percentile value is 1\n",
      "20 percentile value is 1\n",
      "30 percentile value is 1\n",
      "40 percentile value is 1\n",
      "50 percentile value is 1\n",
      "60 percentile value is 1\n",
      "70 percentile value is 1\n",
      "80 percentile value is 2\n",
      "90 percentile value is 4\n",
      "100 percentile value is:  9\n",
      "For pickup_longitude\n",
      "0 percentile value is -121.93334197998048\n",
      "10 percentile value is -74.00266265869139\n",
      "20 percentile value is -73.99427795410156\n",
      "30 percentile value is -73.98997497558594\n",
      "40 percentile value is -73.9857864379883\n",
      "50 percentile value is -73.98175811767578\n",
      "60 percentile value is -73.97725677490234\n",
      "70 percentile value is -73.97139739990234\n",
      "80 percentile value is -73.96233367919923\n",
      "90 percentile value is -73.95187377929686\n",
      "100 percentile value is:  -65.89738464355469\n",
      "For pickup_latitude\n",
      "0 percentile value is 35.310306549072266\n",
      "10 percentile value is 40.72018051147461\n",
      "20 percentile value is 40.73225021362305\n",
      "30 percentile value is 40.74131774902344\n",
      "40 percentile value is 40.74843978881836\n",
      "50 percentile value is 40.754070281982415\n",
      "60 percentile value is 40.75964736938477\n",
      "70 percentile value is 40.76472854614258\n",
      "80 percentile value is 40.7719955444336\n",
      "90 percentile value is 40.78039932250977\n",
      "100 percentile value is:  43.91176223754883\n",
      "For dropoff_longitude\n",
      "0 percentile value is -121.9333038330078\n",
      "10 percentile value is -74.00282287597656\n",
      "20 percentile value is -73.99392700195312\n",
      "30 percentile value is -73.98902893066406\n",
      "40 percentile value is -73.98408508300781\n",
      "50 percentile value is -73.9797592163086\n",
      "60 percentile value is -73.97505187988281\n",
      "70 percentile value is -73.9681396484375\n",
      "80 percentile value is -73.95806884765625\n",
      "90 percentile value is -73.94722747802734\n",
      "100 percentile value is:  -65.89738464355469\n",
      "For dropoff_latitude\n",
      "0 percentile value is 35.173545837402344\n",
      "10 percentile value is 40.71537780761719\n",
      "20 percentile value is 40.73003005981445\n",
      "30 percentile value is 40.74079132080078\n",
      "40 percentile value is 40.74858856201172\n",
      "50 percentile value is 40.75450897216797\n",
      "60 percentile value is 40.76016616821289\n",
      "70 percentile value is 40.76565170288085\n",
      "80 percentile value is 40.77415466308594\n",
      "90 percentile value is 40.78482055664063\n",
      "100 percentile value is:  43.91176223754883\n",
      "For distance_km\n",
      "0 percentile value is 0.0\n",
      "10 percentile value is 0.79\n",
      "20 percentile value is 1.09\n",
      "30 percentile value is 1.38\n",
      "40 percentile value is 1.71\n",
      "50 percentile value is 2.1\n",
      "60 percentile value is 2.6\n",
      "70 percentile value is 3.34\n",
      "80 percentile value is 4.62\n",
      "90 percentile value is 7.63\n",
      "100 percentile value is:  49.31\n"
     ]
    }
   ],
   "source": [
    "#Overall\n",
    "for col in numeric_cols:\n",
    "  print(\"For\",col)\n",
    "  find_percentiles(df[col],0,100,10)"
   ]
  },
  {
   "cell_type": "code",
   "execution_count": null,
   "metadata": {
    "colab": {
     "base_uri": "https://localhost:8080/"
    },
    "executionInfo": {
     "elapsed": 364114,
     "status": "ok",
     "timestamp": 1583744103067,
     "user": {
      "displayName": "SAHIL MANKAD",
      "photoUrl": "",
      "userId": "01524592176474520459"
     },
     "user_tz": -330
    },
    "id": "2GRAeLaurba8",
    "outputId": "add6df84-8cec-40d1-a588-12ee5165ad77"
   },
   "outputs": [
    {
     "name": "stdout",
     "output_type": "stream",
     "text": [
      "For passenger_count\n",
      "90 percentile value is 4\n",
      "91 percentile value is 4\n",
      "92 percentile value is 5\n",
      "93 percentile value is 5\n",
      "94 percentile value is 5\n",
      "95 percentile value is 5\n",
      "96 percentile value is 5\n",
      "97 percentile value is 6\n",
      "98 percentile value is 6\n",
      "99 percentile value is 6\n",
      "100 percentile value is:  9\n",
      "For pickup_longitude\n",
      "90 percentile value is -73.95187377929686\n",
      "91 percentile value is -73.95018768310547\n",
      "92 percentile value is -73.9478988647461\n",
      "93 percentile value is -73.94512939453125\n",
      "94 percentile value is -73.93692016601562\n",
      "95 percentile value is -73.89190673828125\n",
      "96 percentile value is -73.87269592285155\n",
      "97 percentile value is -73.86347961425781\n",
      "98 percentile value is -73.79019927978516\n",
      "99 percentile value is -73.78224182128906\n",
      "100 percentile value is:  -65.89738464355469\n",
      "For pickup_latitude\n",
      "90 percentile value is 40.78039932250977\n",
      "91 percentile value is 40.78155517578125\n",
      "92 percentile value is 40.7829704284668\n",
      "93 percentile value is 40.78440475463867\n",
      "94 percentile value is 40.78609848022461\n",
      "95 percentile value is 40.78828048706055\n",
      "96 percentile value is 40.79118728637695\n",
      "97 percentile value is 40.79447937011719\n",
      "98 percentile value is 40.79949188232422\n",
      "99 percentile value is 40.80653762817383\n",
      "100 percentile value is:  43.91176223754883\n",
      "For dropoff_longitude\n",
      "90 percentile value is -73.94722747802734\n",
      "91 percentile value is -73.94513702392578\n",
      "92 percentile value is -73.94207763671875\n",
      "93 percentile value is -73.9385223388672\n",
      "94 percentile value is -73.93090057373048\n",
      "95 percentile value is -73.92028045654298\n",
      "96 percentile value is -73.90619659423827\n",
      "97 percentile value is -73.8729019165039\n",
      "98 percentile value is -73.86297607421875\n",
      "99 percentile value is -73.79061889648438\n",
      "100 percentile value is:  -65.89738464355469\n",
      "For dropoff_latitude\n",
      "90 percentile value is 40.78482055664063\n",
      "91 percentile value is 40.78645324707031\n",
      "92 percentile value is 40.78834915161133\n",
      "93 percentile value is 40.79068374633789\n",
      "94 percentile value is 40.79349136352539\n",
      "95 percentile value is 40.79734802246094\n",
      "96 percentile value is 40.80181503295898\n",
      "97 percentile value is 40.80607223510742\n",
      "98 percentile value is 40.81483840942383\n",
      "99 percentile value is 40.836402893066406\n",
      "100 percentile value is:  43.91176223754883\n",
      "For distance_km\n",
      "90 percentile value is 7.63\n",
      "91 percentile value is 8.26\n",
      "92 percentile value is 8.89\n",
      "93 percentile value is 9.46\n",
      "94 percentile value is 10.07\n",
      "95 percentile value is 11.0\n",
      "96 percentile value is 12.79\n",
      "97 percentile value is 15.37\n",
      "98 percentile value is 19.34\n",
      "99 percentile value is 20.79\n",
      "100 percentile value is:  49.31\n"
     ]
    }
   ],
   "source": [
    "#Between 90 and 100 percentile\n",
    "for col in numeric_cols:\n",
    "  print(\"For\",col)\n",
    "  find_percentiles(df[col],90,100,1)"
   ]
  },
  {
   "cell_type": "markdown",
   "metadata": {
    "id": "5z0UUQ-mipkV"
   },
   "source": [
    "Based on the above results, we can try removing data above 99 percentile for distance_kms and passenger count. This way we remove rows with extreme outliers"
   ]
  },
  {
   "cell_type": "code",
   "execution_count": null,
   "metadata": {
    "colab": {
     "base_uri": "https://localhost:8080/"
    },
    "executionInfo": {
     "elapsed": 364686,
     "status": "ok",
     "timestamp": 1583744103659,
     "user": {
      "displayName": "SAHIL MANKAD",
      "photoUrl": "",
      "userId": "01524592176474520459"
     },
     "user_tz": -330
    },
    "id": "wtW1j6dFc9nk",
    "outputId": "46b46210-fab3-45b5-ecb5-2180879b1e80"
   },
   "outputs": [
    {
     "name": "stdout",
     "output_type": "stream",
     "text": [
      "Initial rows:  729271\n",
      "After removing above 99 percentile rows:  722022\n",
      "Number of removed rows 7249\n",
      "% of removed rows 0.9940063433209329\n"
     ]
    }
   ],
   "source": [
    "df1 = df.copy()\n",
    "\n",
    "for col in ['distance_km','passenger_count']:\n",
    "   #print(col)\n",
    "   #print(df1[col].quantile(.98))\n",
    "   df1 = df1[df1[col] <= df1[col].quantile(.99)]\n",
    "   # print(df1.shape[0])\n",
    "\n",
    "print(\"Initial rows: \",df.shape[0])\n",
    "print(\"After removing above 99 percentile rows: \",df1.shape[0])\n",
    "print(\"Number of removed rows\", df.shape[0] - df1.shape[0])\n",
    "print(\"% of removed rows\", (df.shape[0] - df1.shape[0])*100/df.shape[0] ) "
   ]
  },
  {
   "cell_type": "code",
   "execution_count": null,
   "metadata": {
    "id": "GNihs49cjaoo"
   },
   "outputs": [],
   "source": [
    "df = df1.copy()"
   ]
  },
  {
   "cell_type": "markdown",
   "metadata": {
    "id": "vawORJ7mKv05"
   },
   "source": [
    "# Check skew of variables"
   ]
  },
  {
   "cell_type": "code",
   "execution_count": null,
   "metadata": {
    "colab": {
     "base_uri": "https://localhost:8080/"
    },
    "executionInfo": {
     "elapsed": 365568,
     "status": "ok",
     "timestamp": 1583744104570,
     "user": {
      "displayName": "SAHIL MANKAD",
      "photoUrl": "",
      "userId": "01524592176474520459"
     },
     "user_tz": -330
    },
    "id": "ZYR1_AFpKwUc",
    "outputId": "74bd936e-6626-4ec2-93b5-2e9075fb1d3d"
   },
   "outputs": [
    {
     "data": {
      "text/plain": [
       "Index(['id', 'vendor_id', 'pickup_datetime', 'dropoff_datetime',\n",
       "       'passenger_count', 'pickup_longitude', 'pickup_latitude',\n",
       "       'dropoff_longitude', 'dropoff_latitude', 'store_and_fwd_flag',\n",
       "       'trip_duration', 'distance_km', 'pickup_timestamp', 'pickup_year',\n",
       "       'pickup_month', 'pickup_day', 'pickup_hour', 'pickup_day_of_week',\n",
       "       'pickup_hour_binned'],\n",
       "      dtype='object')"
      ]
     },
     "execution_count": 37,
     "metadata": {
      "tags": []
     },
     "output_type": "execute_result"
    }
   ],
   "source": [
    "df.columns"
   ]
  },
  {
   "cell_type": "code",
   "execution_count": null,
   "metadata": {
    "colab": {
     "base_uri": "https://localhost:8080/"
    },
    "executionInfo": {
     "elapsed": 365559,
     "status": "ok",
     "timestamp": 1583744104572,
     "user": {
      "displayName": "SAHIL MANKAD",
      "photoUrl": "",
      "userId": "01524592176474520459"
     },
     "user_tz": -330
    },
    "id": "fHlJnsn6UxZb",
    "outputId": "0f362e2c-b590-4659-8330-15750c242e52"
   },
   "outputs": [
    {
     "data": {
      "text/plain": [
       "(722022, 19)"
      ]
     },
     "execution_count": 38,
     "metadata": {
      "tags": []
     },
     "output_type": "execute_result"
    }
   ],
   "source": [
    "df.shape"
   ]
  },
  {
   "cell_type": "code",
   "execution_count": null,
   "metadata": {
    "colab": {
     "base_uri": "https://localhost:8080/"
    },
    "executionInfo": {
     "elapsed": 370649,
     "status": "ok",
     "timestamp": 1583744109677,
     "user": {
      "displayName": "SAHIL MANKAD",
      "photoUrl": "",
      "userId": "01524592176474520459"
     },
     "user_tz": -330
    },
    "id": "4lcCpEsunLC1",
    "outputId": "267b9303-e806-4cdc-ce29-68e8c3d81b5d"
   },
   "outputs": [
    {
     "data": {
      "image/png": "[encoded data removed]",
      "text/plain": [
       "<Figure size 864x432 with 6 Axes>"
      ]
     },
     "metadata": {
      "tags": []
     },
     "output_type": "display_data"
    }
   ],
   "source": [
    "fig, axes = plt.subplots(nrows = 2 , ncols = 3, figsize=(12, 6))\n",
    "fig.tight_layout()\n",
    "ax1,ax2,ax3,ax4,ax5,ax6 = axes[0][0] , axes[0][1],axes[0][2] , axes[1][0] , axes[1][1], axes[1][2] \n",
    "\n",
    "\n",
    "sns.distplot(df['distance_km'],kde=True,ax = ax1)\n",
    "sns.distplot(df['pickup_longitude'],kde=True,ax = ax2)\n",
    "sns.distplot(df['pickup_latitude'],kde=True,ax = ax3)\n",
    "sns.distplot(df['dropoff_longitude'],kde=True,ax = ax4)\n",
    "sns.distplot(df['dropoff_latitude'],kde=True,ax = ax5) \n",
    "sns.distplot(df['passenger_count'],kde=True,ax = ax6)\n",
    "'''\n",
    "sns.relplot(x=\"distance_km\", y=\"trip_duration\", data=df1, kind=\"scatter\",ax=ax1)\n",
    "sns.relplot(x=\"pickup_longitude\", y=\"trip_duration\", data=df1, kind=\"scatter\",ax=ax2)\n",
    "sns.relplot(x=\"pickup_latitude\", y=\"trip_duration\", data=df1, kind=\"scatter\",ax=ax3)\n",
    "sns.relplot(x=\"dropoff_longitude\", y=\"trip_duration\", data=df1, kind=\"scatter\",ax=ax4)\n",
    "sns.relplot(x=\"dropoff_latitude\", y=\"trip_duration\", data=df1, kind=\"scatter\",ax=ax5)\n",
    "sns.relplot(x=\"passenger_count\", y=\"trip_duration\", data=df1, kind=\"scatter\",ax=ax6)\n",
    "'''\n",
    "plt.show()"
   ]
  },
  {
   "cell_type": "code",
   "execution_count": null,
   "metadata": {
    "colab": {
     "base_uri": "https://localhost:8080/"
    },
    "executionInfo": {
     "elapsed": 372051,
     "status": "ok",
     "timestamp": 1583744111097,
     "user": {
      "displayName": "SAHIL MANKAD",
      "photoUrl": "",
      "userId": "01524592176474520459"
     },
     "user_tz": -330
    },
    "id": "sODPHPXknWAK",
    "outputId": "985cceff-5893-4566-e155-044a3634535b"
   },
   "outputs": [
    {
     "data": {
      "image/png": "[encoded data removed]",
      "text/plain": [
       "<Figure size 864x432 with 6 Axes>"
      ]
     },
     "metadata": {
      "tags": []
     },
     "output_type": "display_data"
    }
   ],
   "source": [
    "fig, axes = plt.subplots(nrows = 2 , ncols = 3, figsize=(12, 6))\n",
    "fig.tight_layout()\n",
    "ax1,ax2,ax3,ax4,ax5,ax6 = axes[0][0] , axes[0][1],axes[0][2] , axes[1][0] , axes[1][1], axes[1][2] \n",
    "\n",
    "#temp = np.log(df[column] + abs(df1[column].min()) + 10)\n",
    "temp = np.log(df['distance_km'] + abs(df['distance_km'].min()) + 10)\n",
    "sns.distplot(temp,kde=True,ax = ax1)\n",
    "\n",
    "temp = np.log(df['pickup_longitude'] + abs(df['pickup_longitude'].min()) + 10)\n",
    "sns.distplot(temp,kde=True,ax = ax2)\n",
    "\n",
    "temp = np.log(df['pickup_latitude'] + abs(df['pickup_latitude'].min()) + 10)\n",
    "sns.distplot(temp,kde=True,ax = ax3)\n",
    "\n",
    "temp = np.log(df['dropoff_longitude'] + abs(df['dropoff_longitude'].min()) + 10)\n",
    "sns.distplot(temp,kde=True,ax = ax4)\n",
    "\n",
    "temp = np.log(df['dropoff_latitude'] + abs(df['dropoff_latitude'].min()) + 10)\n",
    "sns.distplot(temp,kde=True,ax = ax5)\n",
    "\n",
    "temp = np.log(df['passenger_count'] + abs(df['passenger_count'].min()) + 10) \n",
    "sns.distplot(temp,kde=True,ax = ax6)\n",
    "\n",
    "\n",
    "\n",
    "plt.show()"
   ]
  },
  {
   "cell_type": "markdown",
   "metadata": {
    "id": "p1Q0_NqkJhTD"
   },
   "source": [
    "# Check relationships between independent and dependent variables"
   ]
  },
  {
   "cell_type": "code",
   "execution_count": null,
   "metadata": {
    "colab": {
     "base_uri": "https://localhost:8080/"
    },
    "executionInfo": {
     "elapsed": 372040,
     "status": "ok",
     "timestamp": 1583744111101,
     "user": {
      "displayName": "SAHIL MANKAD",
      "photoUrl": "",
      "userId": "01524592176474520459"
     },
     "user_tz": -330
    },
    "id": "r-IL9ZkNJlHl",
    "outputId": "2af47528-a3d7-47d1-ec00-bd9d6ef1a1f3"
   },
   "outputs": [
    {
     "data": {
      "text/plain": [
       "'\\nsns.relplot(x=\"distance_km\", y=\"trip_duration\", data=df, kind=\"scatter\",ax=ax1)\\nsns.relplot(x=\"pickup_longitude\", y=\"trip_duration\", data=df, kind=\"scatter\",ax=ax2)\\nsns.relplot(x=\"pickup_latitude\", y=\"trip_duration\", data=df, kind=\"scatter\",ax=ax3)\\nsns.relplot(x=\"dropoff_longitude\", y=\"trip_duration\", data=df, kind=\"scatter\",ax=ax4)\\nsns.relplot(x=\"dropoff_latitude\", y=\"trip_duration\", data=df, kind=\"scatter\",ax=ax5)\\nsns.relplot(x=\"passenger_count\", y=\"trip_duration\", data=df, kind=\"scatter\",ax=ax6)\\n'"
      ]
     },
     "execution_count": 41,
     "metadata": {
      "tags": []
     },
     "output_type": "execute_result"
    }
   ],
   "source": [
    "'''\n",
    "sns.relplot(x=\"distance_km\", y=\"trip_duration\", data=df, kind=\"scatter\",ax=ax1)\n",
    "sns.relplot(x=\"pickup_longitude\", y=\"trip_duration\", data=df, kind=\"scatter\",ax=ax2)\n",
    "sns.relplot(x=\"pickup_latitude\", y=\"trip_duration\", data=df, kind=\"scatter\",ax=ax3)\n",
    "sns.relplot(x=\"dropoff_longitude\", y=\"trip_duration\", data=df, kind=\"scatter\",ax=ax4)\n",
    "sns.relplot(x=\"dropoff_latitude\", y=\"trip_duration\", data=df, kind=\"scatter\",ax=ax5)\n",
    "sns.relplot(x=\"passenger_count\", y=\"trip_duration\", data=df, kind=\"scatter\",ax=ax6)\n",
    "'''"
   ]
  },
  {
   "cell_type": "markdown",
   "metadata": {
    "id": "koZHcNc5E0SX"
   },
   "source": [
    "# Data preprocessing and Feature Selection "
   ]
  },
  {
   "cell_type": "markdown",
   "metadata": {
    "id": "lGSRVAwhZLvP"
   },
   "source": [
    "## For numeric data"
   ]
  },
  {
   "cell_type": "code",
   "execution_count": null,
   "metadata": {
    "colab": {
     "base_uri": "https://localhost:8080/"
    },
    "executionInfo": {
     "elapsed": 372027,
     "status": "ok",
     "timestamp": 1583744111103,
     "user": {
      "displayName": "SAHIL MANKAD",
      "photoUrl": "",
      "userId": "01524592176474520459"
     },
     "user_tz": -330
    },
    "id": "tkp6VOAcZOL3",
    "outputId": "1b18a133-ec2f-4811-f6f7-8524b49047d0"
   },
   "outputs": [
    {
     "data": {
      "text/html": [
       "<div>\n",
       "<style scoped>\n",
       "    .dataframe tbody tr th:only-of-type {\n",
       "        vertical-align: middle;\n",
       "    }\n",
       "\n",
       "    .dataframe tbody tr th {\n",
       "        vertical-align: top;\n",
       "    }\n",
       "\n",
       "    .dataframe thead th {\n",
       "        text-align: right;\n",
       "    }\n",
       "</style>\n",
       "<table border=\"1\" class=\"dataframe\">\n",
       "  <thead>\n",
       "    <tr style=\"text-align: right;\">\n",
       "      <th></th>\n",
       "      <th>passenger_count</th>\n",
       "      <th>pickup_longitude</th>\n",
       "      <th>pickup_latitude</th>\n",
       "      <th>dropoff_longitude</th>\n",
       "      <th>dropoff_latitude</th>\n",
       "      <th>trip_duration</th>\n",
       "      <th>distance_km</th>\n",
       "    </tr>\n",
       "  </thead>\n",
       "  <tbody>\n",
       "    <tr>\n",
       "      <th>count</th>\n",
       "      <td>722022.000000</td>\n",
       "      <td>722022.000000</td>\n",
       "      <td>722022.000000</td>\n",
       "      <td>722022.000000</td>\n",
       "      <td>722022.000000</td>\n",
       "      <td>7.220220e+05</td>\n",
       "      <td>722022.000000</td>\n",
       "    </tr>\n",
       "    <tr>\n",
       "      <th>mean</th>\n",
       "      <td>1.661055</td>\n",
       "      <td>-73.974695</td>\n",
       "      <td>40.751540</td>\n",
       "      <td>-73.973996</td>\n",
       "      <td>40.751941</td>\n",
       "      <td>9.292586e+02</td>\n",
       "      <td>3.242743</td>\n",
       "    </tr>\n",
       "    <tr>\n",
       "      <th>std</th>\n",
       "      <td>1.312254</td>\n",
       "      <td>0.067797</td>\n",
       "      <td>0.028986</td>\n",
       "      <td>0.066990</td>\n",
       "      <td>0.033219</td>\n",
       "      <td>3.850801e+03</td>\n",
       "      <td>3.426521</td>\n",
       "    </tr>\n",
       "    <tr>\n",
       "      <th>min</th>\n",
       "      <td>0.000000</td>\n",
       "      <td>-121.933342</td>\n",
       "      <td>35.310307</td>\n",
       "      <td>-121.933304</td>\n",
       "      <td>35.173546</td>\n",
       "      <td>1.000000e+00</td>\n",
       "      <td>0.000000</td>\n",
       "    </tr>\n",
       "    <tr>\n",
       "      <th>25%</th>\n",
       "      <td>1.000000</td>\n",
       "      <td>-73.991936</td>\n",
       "      <td>40.737740</td>\n",
       "      <td>-73.991333</td>\n",
       "      <td>40.736111</td>\n",
       "      <td>3.940000e+02</td>\n",
       "      <td>1.230000</td>\n",
       "    </tr>\n",
       "    <tr>\n",
       "      <th>50%</th>\n",
       "      <td>1.000000</td>\n",
       "      <td>-73.981857</td>\n",
       "      <td>40.754269</td>\n",
       "      <td>-73.979797</td>\n",
       "      <td>40.754498</td>\n",
       "      <td>6.570000e+02</td>\n",
       "      <td>2.070000</td>\n",
       "    </tr>\n",
       "    <tr>\n",
       "      <th>75%</th>\n",
       "      <td>2.000000</td>\n",
       "      <td>-73.967766</td>\n",
       "      <td>40.768391</td>\n",
       "      <td>-73.963264</td>\n",
       "      <td>40.769707</td>\n",
       "      <td>1.058000e+03</td>\n",
       "      <td>3.780000</td>\n",
       "    </tr>\n",
       "    <tr>\n",
       "      <th>max</th>\n",
       "      <td>6.000000</td>\n",
       "      <td>-65.897385</td>\n",
       "      <td>43.911762</td>\n",
       "      <td>-65.897385</td>\n",
       "      <td>43.911762</td>\n",
       "      <td>1.939736e+06</td>\n",
       "      <td>20.790000</td>\n",
       "    </tr>\n",
       "  </tbody>\n",
       "</table>\n",
       "</div>"
      ],
      "text/plain": [
       "       passenger_count  pickup_longitude  ...  trip_duration    distance_km\n",
       "count    722022.000000     722022.000000  ...   7.220220e+05  722022.000000\n",
       "mean          1.661055        -73.974695  ...   9.292586e+02       3.242743\n",
       "std           1.312254          0.067797  ...   3.850801e+03       3.426521\n",
       "min           0.000000       -121.933342  ...   1.000000e+00       0.000000\n",
       "25%           1.000000        -73.991936  ...   3.940000e+02       1.230000\n",
       "50%           1.000000        -73.981857  ...   6.570000e+02       2.070000\n",
       "75%           2.000000        -73.967766  ...   1.058000e+03       3.780000\n",
       "max           6.000000        -65.897385  ...   1.939736e+06      20.790000\n",
       "\n",
       "[8 rows x 7 columns]"
      ]
     },
     "execution_count": 42,
     "metadata": {
      "tags": []
     },
     "output_type": "execute_result"
    }
   ],
   "source": [
    "df.describe()"
   ]
  },
  {
   "cell_type": "markdown",
   "metadata": {
    "id": "hCS-OofhnzlL"
   },
   "source": [
    "### Taking log of numerical variables"
   ]
  },
  {
   "cell_type": "code",
   "execution_count": null,
   "metadata": {
    "id": "dyVrEJ8b8KRa"
   },
   "outputs": [],
   "source": [
    "for column in numeric_cols:\n",
    "  df[column] = np.log(df[column] + abs(df[column].min()) + 10) #ensuring that our column has only positive values\n",
    "  "
   ]
  },
  {
   "cell_type": "code",
   "execution_count": null,
   "metadata": {
    "colab": {
     "base_uri": "https://localhost:8080/"
    },
    "executionInfo": {
     "elapsed": 371993,
     "status": "ok",
     "timestamp": 1583744111109,
     "user": {
      "displayName": "SAHIL MANKAD",
      "photoUrl": "",
      "userId": "01524592176474520459"
     },
     "user_tz": -330
    },
    "id": "IoptuaZM97La",
    "outputId": "22b8d7c7-555f-4761-bcd9-552d27d25b5e"
   },
   "outputs": [
    {
     "data": {
      "text/html": [
       "<div>\n",
       "<style scoped>\n",
       "    .dataframe tbody tr th:only-of-type {\n",
       "        vertical-align: middle;\n",
       "    }\n",
       "\n",
       "    .dataframe tbody tr th {\n",
       "        vertical-align: top;\n",
       "    }\n",
       "\n",
       "    .dataframe thead th {\n",
       "        text-align: right;\n",
       "    }\n",
       "</style>\n",
       "<table border=\"1\" class=\"dataframe\">\n",
       "  <thead>\n",
       "    <tr style=\"text-align: right;\">\n",
       "      <th></th>\n",
       "      <th>passenger_count</th>\n",
       "      <th>pickup_longitude</th>\n",
       "      <th>pickup_latitude</th>\n",
       "      <th>dropoff_longitude</th>\n",
       "      <th>dropoff_latitude</th>\n",
       "      <th>distance_km</th>\n",
       "    </tr>\n",
       "  </thead>\n",
       "  <tbody>\n",
       "    <tr>\n",
       "      <th>count</th>\n",
       "      <td>722022.000000</td>\n",
       "      <td>722022.000000</td>\n",
       "      <td>722022.000000</td>\n",
       "      <td>722022.000000</td>\n",
       "      <td>722022.000000</td>\n",
       "      <td>722022.000000</td>\n",
       "    </tr>\n",
       "    <tr>\n",
       "      <th>mean</th>\n",
       "      <td>2.450732</td>\n",
       "      <td>4.059728</td>\n",
       "      <td>4.455066</td>\n",
       "      <td>4.059740</td>\n",
       "      <td>4.453480</td>\n",
       "      <td>2.558407</td>\n",
       "    </tr>\n",
       "    <tr>\n",
       "      <th>std</th>\n",
       "      <td>0.101584</td>\n",
       "      <td>0.002166</td>\n",
       "      <td>0.000337</td>\n",
       "      <td>0.002159</td>\n",
       "      <td>0.000387</td>\n",
       "      <td>0.209505</td>\n",
       "    </tr>\n",
       "    <tr>\n",
       "      <th>min</th>\n",
       "      <td>2.302585</td>\n",
       "      <td>2.302585</td>\n",
       "      <td>4.389754</td>\n",
       "      <td>2.302585</td>\n",
       "      <td>4.386356</td>\n",
       "      <td>2.302585</td>\n",
       "    </tr>\n",
       "    <tr>\n",
       "      <th>25%</th>\n",
       "      <td>2.397895</td>\n",
       "      <td>4.059432</td>\n",
       "      <td>4.454906</td>\n",
       "      <td>4.059442</td>\n",
       "      <td>4.453296</td>\n",
       "      <td>2.418589</td>\n",
       "    </tr>\n",
       "    <tr>\n",
       "      <th>50%</th>\n",
       "      <td>2.397895</td>\n",
       "      <td>4.059606</td>\n",
       "      <td>4.455098</td>\n",
       "      <td>4.059641</td>\n",
       "      <td>4.453510</td>\n",
       "      <td>2.490723</td>\n",
       "    </tr>\n",
       "    <tr>\n",
       "      <th>75%</th>\n",
       "      <td>2.484907</td>\n",
       "      <td>4.059849</td>\n",
       "      <td>4.455262</td>\n",
       "      <td>4.059926</td>\n",
       "      <td>4.453687</td>\n",
       "      <td>2.623218</td>\n",
       "    </tr>\n",
       "    <tr>\n",
       "      <th>max</th>\n",
       "      <td>2.772589</td>\n",
       "      <td>4.190199</td>\n",
       "      <td>4.491128</td>\n",
       "      <td>4.190199</td>\n",
       "      <td>4.489594</td>\n",
       "      <td>3.427190</td>\n",
       "    </tr>\n",
       "  </tbody>\n",
       "</table>\n",
       "</div>"
      ],
      "text/plain": [
       "       passenger_count  pickup_longitude  ...  dropoff_latitude    distance_km\n",
       "count    722022.000000     722022.000000  ...     722022.000000  722022.000000\n",
       "mean          2.450732          4.059728  ...          4.453480       2.558407\n",
       "std           0.101584          0.002166  ...          0.000387       0.209505\n",
       "min           2.302585          2.302585  ...          4.386356       2.302585\n",
       "25%           2.397895          4.059432  ...          4.453296       2.418589\n",
       "50%           2.397895          4.059606  ...          4.453510       2.490723\n",
       "75%           2.484907          4.059849  ...          4.453687       2.623218\n",
       "max           2.772589          4.190199  ...          4.489594       3.427190\n",
       "\n",
       "[8 rows x 6 columns]"
      ]
     },
     "execution_count": 44,
     "metadata": {
      "tags": []
     },
     "output_type": "execute_result"
    }
   ],
   "source": [
    "df[numeric_cols].describe()"
   ]
  },
  {
   "cell_type": "markdown",
   "metadata": {
    "id": "Qj4TXrv0nkWT"
   },
   "source": [
    "## For categorical variables"
   ]
  },
  {
   "cell_type": "markdown",
   "metadata": {
    "id": "KKk3Kd5jY6n1"
   },
   "source": [
    "### One hot encoding for categorical variables"
   ]
  },
  {
   "cell_type": "code",
   "execution_count": null,
   "metadata": {
    "id": "B9rRxIS-E7H1"
   },
   "outputs": [],
   "source": [
    "def one_hot_encoding(data,cat_feats):\n",
    "  one_hot = pd.get_dummies(data[cat_feats],drop_first=True)\n",
    "  data = pd.concat([data,one_hot],axis=1)\n",
    "  #data = data.drop(cat_feats,axis = 1)\n",
    "  return data"
   ]
  },
  {
   "cell_type": "markdown",
   "metadata": {
    "id": "J7PMKuMnIwKB"
   },
   "source": [
    "# TODO: \n",
    "\n",
    "0. Check alternative to MAE as evaluation metric\n",
    "1. Use dimensionality reduction techniques. Use z-test/t-test to compare categorical and target variable.\n",
    "2. Apply Lasso and Ridge regression. Re-watch the video for this.\n",
    "3. Add a cross-validation section\n",
    "4. Select features based on co-efficients from all variables. Refer Model Interpretability section [here](https://colab.research.google.com/drive/15aiqo_lSvYJnpHUOtGKzkyzktzTwiMkM#scrollTo=pAQY_EKnGpZ3)\n",
    "\n",
    "\n",
    "5. Check skewness of variables\n",
    "6. Check relation between independent and dependent variables"
   ]
  },
  {
   "cell_type": "markdown",
   "metadata": {
    "id": "ezPjO22Kpq7v"
   },
   "source": [
    "# Checking assumptions of linear models"
   ]
  },
  {
   "cell_type": "code",
   "execution_count": null,
   "metadata": {
    "id": "tySJsaSLpqQ2"
   },
   "outputs": [],
   "source": [
    "def calc_residual(test_y,test_predict):\n",
    "  # Arranging and calculating the Residuals\n",
    "  residuals = pd.DataFrame({\n",
    "      'fitted values' : test_y,\n",
    "      'predicted values' : test_predict,\n",
    "  })\n",
    "\n",
    "  residuals['residuals'] = residuals['fitted values'] - residuals['predicted values']\n",
    "  print(\"Residuals\")\n",
    "  print(residuals.head())\n",
    "\n",
    "  return residuals"
   ]
  },
  {
   "cell_type": "code",
   "execution_count": null,
   "metadata": {
    "id": "D6syA7sPp49n"
   },
   "outputs": [],
   "source": [
    "# For checking if our residuals/erros have a pattern\n",
    "def plot_residuals(residuals):\n",
    "  #print()\n",
    "  plt.figure(figsize=(10, 6), dpi=120, facecolor='w', edgecolor='b')\n",
    "  length = len(residuals.residuals[:])\n",
    "  f = range(0,length)\n",
    "  k = [0 for i in range(0,length)] #will help in setting limits for x-axis\n",
    "  plt.scatter( f, residuals.residuals[:], label = 'residuals')\n",
    "  plt.plot( f, k , color = 'red', label = 'regression line' )\n",
    "  plt.xlabel('fitted points ')\n",
    "  plt.ylabel('residuals')\n",
    "  plt.title('Residual plot')\n",
    "  plt.ylim(-4000, 4000)\n",
    "  plt.legend()"
   ]
  },
  {
   "cell_type": "markdown",
   "metadata": {
    "id": "APCR9QzEsdUk"
   },
   "source": [
    "Histogram is used to check for normality of residuals.\n",
    "\n",
    "Normality of residual terms ensures that there is not non-linearity present in the data and rest of the assumptions of Linear Regression are followed."
   ]
  },
  {
   "cell_type": "code",
   "execution_count": null,
   "metadata": {
    "id": "0ZEjdBPNp5na"
   },
   "outputs": [],
   "source": [
    "def histogram(residuals):\n",
    "  # Histogram for distribution\n",
    "  plt.figure(figsize=(10, 6), dpi=120, facecolor='w', edgecolor='b')\n",
    "  plt.hist(residuals.residuals, bins = 150)\n",
    "  plt.xlabel('Error')\n",
    "  plt.ylabel('Frequency')\n",
    "  plt.title('Distribution of Error Terms')\n",
    "  plt.xlim(0,15000)\n",
    "  plt.show()"
   ]
  },
  {
   "cell_type": "code",
   "execution_count": null,
   "metadata": {
    "id": "m6XJkWTxp-0R"
   },
   "outputs": [],
   "source": [
    "def qq_plot(residuals):\n",
    "  ## Plotting the QQ plot\n",
    "  fig, ax = plt.subplots(figsize=(5,5) , dpi = 120)\n",
    "  qqplot(residuals.residuals, line = 's' , ax = ax)\n",
    "  plt.ylabel('Residual Quantiles')\n",
    "  plt.xlabel('Ideal Scaled Quantiles')\n",
    "  plt.title('Checking distribution of Residual Errors')\n",
    "  plt.show()"
   ]
  },
  {
   "cell_type": "markdown",
   "metadata": {
    "id": "y_ull_aGYPwi"
   },
   "source": [
    "# Variance Inflation Factor (VIF) (Checking for multi collinearity)"
   ]
  },
  {
   "cell_type": "code",
   "execution_count": null,
   "metadata": {
    "id": "0dkJAXOfRSww"
   },
   "outputs": [],
   "source": [
    "def vif(data):\n",
    "  # Importing Variance_inflation_Factor funtion from the Statsmodels\n",
    "  from statsmodels.stats.outliers_influence import variance_inflation_factor\n",
    "  from statsmodels.tools.tools import add_constant\n",
    "\n",
    "  # Calculating VIF for every column (only works for the not Catagorical)\n",
    "  VIF = pd.Series([variance_inflation_factor(data.values, i) for i in range(data.shape[1])], index =data.columns)\n",
    "  print(VIF)"
   ]
  },
  {
   "cell_type": "markdown",
   "metadata": {
    "id": "vS55kR45_djx"
   },
   "source": [
    "# Lasso and Ridge regression function"
   ]
  },
  {
   "cell_type": "code",
   "execution_count": null,
   "metadata": {
    "id": "2_ypVNdr_i8s"
   },
   "outputs": [],
   "source": [
    "#Importing Lasso model from sklearn's linear_model module\n",
    "from sklearn.linear_model import Lasso\n",
    "from sklearn.linear_model import Ridge"
   ]
  },
  {
   "cell_type": "code",
   "execution_count": null,
   "metadata": {
    "id": "YK1tOqMN1hvD"
   },
   "outputs": [],
   "source": [
    "#Define the alpha values to test\n",
    "alpha_ridge = [0, 1e-8, 1e-4, 1e-3,1e-2, 1, 5, 10, 20, 25]\n",
    "alpha_lasso = [0, 1e-10, 1e-8, 1e-5,1e-4, 1e-3,1e-2, 1, 5, 10]"
   ]
  },
  {
   "cell_type": "code",
   "execution_count": null,
   "metadata": {
    "id": "Hi2XbRnU1k_p"
   },
   "outputs": [],
   "source": [
    "# defining a function which will fit lasso regression model, plot the results, and return the coefficients\n",
    "def lasso_regression(train_x, train_y, test_x, test_y, alpha, models_to_plot={}):\n",
    "    print(\"alpha = \",alpha)\n",
    "    #Fit the model\n",
    "    if alpha == 0:\n",
    "        lassoreg = LinearRegression(normalize=True)\n",
    "        lassoreg.fit(train_x, train_y)\n",
    "        train_y_pred = lassoreg.predict(train_x)\n",
    "        test_y_pred = lassoreg.predict(test_x)\n",
    "        \n",
    "    else:\n",
    "        lassoreg = Lasso(alpha=alpha,normalize=True)\n",
    "        lassoreg.fit(train_x,train_y)\n",
    "        train_y_pred = lassoreg.predict(train_x)\n",
    "        test_y_pred = lassoreg.predict(test_x)\n",
    "    \n",
    "    print(\"Model fitted\")\n",
    "    #Check if a plot is to be made for the entered alpha\n",
    "    if alpha in models_to_plot:\n",
    "        plt.subplot(models_to_plot[alpha])\n",
    "        plt.tight_layout()\n",
    "        plt.plot(train_x,train_y_pred) #train_x[:,0:1]\n",
    "        plt.plot(train_x,train_y,'.') #train_x[:,0:1]\n",
    "        plt.title('Plot for alpha: %.3g'%alpha)\n",
    "    \n",
    "    print(\"Plot complete\")\n",
    "\n",
    "    #Return the result in pre-defined format\n",
    "    mrss_train = sum((train_y_pred-train_y)**2)/train_x.shape[0]\n",
    "    ret = [mrss_train]\n",
    "    \n",
    "    mrss_test = sum((test_y_pred-test_y)**2)/test_x.shape[0]\n",
    "    ret.extend([mrss_test])\n",
    "    \n",
    "    ret.extend([lassoreg.intercept_])\n",
    "    ret.extend(lassoreg.coef_)\n",
    "    \n",
    "    return ret"
   ]
  },
  {
   "cell_type": "code",
   "execution_count": null,
   "metadata": {
    "id": "yEZ32tnO3Y14"
   },
   "outputs": [],
   "source": [
    "# defining a function which will fit ridge regression model, plot the results, and return the coefficients\n",
    "def ridge_regression(train_x, train_y, test_x, test_y, alpha, models_to_plot={}):\n",
    "    #Fit the model\n",
    "    ridgereg = Ridge(alpha=alpha,normalize=True)\n",
    "    ridgereg.fit(train_x,train_y)\n",
    "    train_y_pred = ridgereg.predict(train_x)\n",
    "    test_y_pred = ridgereg.predict(test_x)\n",
    "    \n",
    "    #Check if a plot is to be made for the entered alpha\n",
    "    if alpha in models_to_plot:\n",
    "        plt.subplot(models_to_plot[alpha])\n",
    "        plt.tight_layout()\n",
    "        plt.plot(train_x,train_y_pred)\n",
    "        plt.plot(train_x,train_y,'.')\n",
    "        plt.title('Plot for alpha: %.3g'%alpha)\n",
    "    \n",
    "    #Return the result in pre-defined format\n",
    "    mrss_train = sum((train_y_pred-train_y)**2)/train_x.shape[0]\n",
    "    ret = [mrss_train]\n",
    "    \n",
    "    mrss_test = sum((test_y_pred-test_y)**2)/test_x.shape[0]\n",
    "    ret.extend([mrss_test])\n",
    "    \n",
    "    ret.extend([ridgereg.intercept_])\n",
    "    ret.extend(ridgereg.coef_)\n",
    "    \n",
    "    return ret"
   ]
  },
  {
   "cell_type": "markdown",
   "metadata": {
    "id": "7usEVH_GqyQH"
   },
   "source": [
    "# Storing a copy of our original dataframe and results\n"
   ]
  },
  {
   "cell_type": "code",
   "execution_count": null,
   "metadata": {
    "id": "0NdPs-Pcq9Yn"
   },
   "outputs": [],
   "source": [
    "df_copy = df.copy()\n",
    "# Stores results of all experiments\n",
    "train_results = {}\n",
    "test_results = {}"
   ]
  },
  {
   "cell_type": "markdown",
   "metadata": {
    "id": "ZsfV6LFv7u2V"
   },
   "source": [
    "# Checking for all features"
   ]
  },
  {
   "cell_type": "code",
   "execution_count": null,
   "metadata": {
    "colab": {
     "base_uri": "https://localhost:8080/",
     "height": 357
    },
    "executionInfo": {
     "elapsed": 372183,
     "status": "ok",
     "timestamp": 1583744111577,
     "user": {
      "displayName": "SAHIL MANKAD",
      "photoUrl": "",
      "userId": "01524592176474520459"
     },
     "user_tz": -330
    },
    "id": "GEQENML57z7d",
    "outputId": "a4adf186-a699-49bd-a6de-0278e76de0d5"
   },
   "outputs": [
    {
     "data": {
      "text/plain": [
       "id                      object\n",
       "vendor_id               object\n",
       "pickup_datetime         object\n",
       "dropoff_datetime        object\n",
       "passenger_count        float64\n",
       "pickup_longitude       float64\n",
       "pickup_latitude        float64\n",
       "dropoff_longitude      float64\n",
       "dropoff_latitude       float64\n",
       "store_and_fwd_flag      object\n",
       "trip_duration            int64\n",
       "distance_km            float64\n",
       "pickup_timestamp        object\n",
       "pickup_year             object\n",
       "pickup_month            object\n",
       "pickup_day              object\n",
       "pickup_hour             object\n",
       "pickup_day_of_week      object\n",
       "pickup_hour_binned    category\n",
       "dtype: object"
      ]
     },
     "execution_count": 55,
     "metadata": {
      "tags": []
     },
     "output_type": "execute_result"
    }
   ],
   "source": [
    "# checking data types of all features\n",
    "df.dtypes"
   ]
  },
  {
   "cell_type": "code",
   "execution_count": null,
   "metadata": {
    "id": "XwwL8TwWDo5C"
   },
   "outputs": [],
   "source": [
    "categorical_features = ['vendor_id','pickup_datetime','dropoff_datetime','store_and_fwd_flag','pickup_timestamp','pickup_year','pickup_month','pickup_day','pickup_hour','pickup_day_of_week','pickup_hour_binned']"
   ]
  },
  {
   "cell_type": "markdown",
   "metadata": {
    "id": "ZolZ_bsLOi2C"
   },
   "source": [
    "### Dropping some features\n",
    "We will drop categorical features having high count of unique features, as these will not be helpful in analysis and processing them will be a computationally expensive operation."
   ]
  },
  {
   "cell_type": "code",
   "execution_count": null,
   "metadata": {
    "colab": {
     "base_uri": "https://localhost:8080/"
    },
    "executionInfo": {
     "elapsed": 373204,
     "status": "ok",
     "timestamp": 1583744112648,
     "user": {
      "displayName": "SAHIL MANKAD",
      "photoUrl": "",
      "userId": "01524592176474520459"
     },
     "user_tz": -330
    },
    "id": "WAjRZrm3PCRl",
    "outputId": "7d3d3a9b-de7b-4d19-c5e0-13a57f6ef01a"
   },
   "outputs": [
    {
     "name": "stdout",
     "output_type": "stream",
     "text": [
      "vendor_id - Number of Unique Values: 2\n",
      "pickup_datetime - Number of Unique Values: 702436\n",
      "dropoff_datetime - Number of Unique Values: 702349\n",
      "store_and_fwd_flag - Number of Unique Values: 2\n",
      "pickup_timestamp - Number of Unique Values: 702436\n",
      "pickup_year - Number of Unique Values: 1\n",
      "pickup_month - Number of Unique Values: 6\n",
      "pickup_day - Number of Unique Values: 31\n",
      "pickup_hour - Number of Unique Values: 24\n",
      "pickup_day_of_week - Number of Unique Values: 7\n",
      "pickup_hour_binned - Number of Unique Values: 4\n"
     ]
    }
   ],
   "source": [
    "for i in range(0,len(categorical_features)):\n",
    "    print(str(categorical_features[i]) + \" - Number of Unique Values: \" + str(df[categorical_features[i]].nunique()))"
   ]
  },
  {
   "cell_type": "markdown",
   "metadata": {
    "id": "tTL36UOnPXEa"
   },
   "source": [
    "We can drop pickup_datetime,dropoff_datetime, pickup_timestamp  as they all have unique values, and won't be useful in providing insights\n"
   ]
  },
  {
   "cell_type": "code",
   "execution_count": null,
   "metadata": {
    "id": "mEcThT4VMnrL"
   },
   "outputs": [],
   "source": [
    "df = df.drop(['pickup_datetime','dropoff_datetime', 'pickup_timestamp'],axis=1)\n",
    "\n",
    "# Removing values from categorical features list\n",
    "categorical_features.remove('pickup_datetime')\n",
    "categorical_features.remove('dropoff_datetime')\n",
    "categorical_features.remove('pickup_timestamp')"
   ]
  },
  {
   "cell_type": "code",
   "execution_count": null,
   "metadata": {
    "colab": {
     "base_uri": "https://localhost:8080/"
    },
    "executionInfo": {
     "elapsed": 373162,
     "status": "ok",
     "timestamp": 1583744112656,
     "user": {
      "displayName": "SAHIL MANKAD",
      "photoUrl": "",
      "userId": "01524592176474520459"
     },
     "user_tz": -330
    },
    "id": "0-W6QNU4Sae4",
    "outputId": "5c5fd838-d2dd-41a2-9c76-0178520af222"
   },
   "outputs": [
    {
     "name": "stdout",
     "output_type": "stream",
     "text": [
      "(722022, 16)\n"
     ]
    }
   ],
   "source": [
    "# initially 20 columns\n",
    "print(df.shape)\n",
    "#len(categorical_features)"
   ]
  },
  {
   "cell_type": "code",
   "execution_count": null,
   "metadata": {
    "id": "JFstbJOZROY8"
   },
   "outputs": [],
   "source": [
    "df = one_hot_encoding(df,categorical_features)"
   ]
  },
  {
   "cell_type": "code",
   "execution_count": null,
   "metadata": {
    "id": "5pR6zyY7SToX"
   },
   "outputs": [],
   "source": [
    "df.drop(categorical_features,axis=1,inplace=True)"
   ]
  },
  {
   "cell_type": "code",
   "execution_count": null,
   "metadata": {
    "colab": {
     "base_uri": "https://localhost:8080/"
    },
    "executionInfo": {
     "elapsed": 374055,
     "status": "ok",
     "timestamp": 1583744113592,
     "user": {
      "displayName": "SAHIL MANKAD",
      "photoUrl": "",
      "userId": "01524592176474520459"
     },
     "user_tz": -330
    },
    "id": "3NObY1wbRRlq",
    "outputId": "db6b9193-6631-42af-dcc3-b8f135598cbd"
   },
   "outputs": [
    {
     "name": "stdout",
     "output_type": "stream",
     "text": [
      "(722022, 77)\n"
     ]
    }
   ],
   "source": [
    "print(df.shape)"
   ]
  },
  {
   "cell_type": "code",
   "execution_count": null,
   "metadata": {
    "colab": {
     "base_uri": "https://localhost:8080/"
    },
    "executionInfo": {
     "elapsed": 374046,
     "status": "ok",
     "timestamp": 1583744113595,
     "user": {
      "displayName": "SAHIL MANKAD",
      "photoUrl": "",
      "userId": "01524592176474520459"
     },
     "user_tz": -330
    },
    "id": "S1HcW33FTEjL",
    "outputId": "301aa2f2-3651-46f1-caea-8dace738adba"
   },
   "outputs": [
    {
     "data": {
      "text/plain": [
       "Index(['id', 'passenger_count', 'pickup_longitude', 'pickup_latitude',\n",
       "       'dropoff_longitude', 'dropoff_latitude', 'trip_duration', 'distance_km',\n",
       "       'vendor_id_2', 'store_and_fwd_flag_Y', 'pickup_month_02',\n",
       "       'pickup_month_03', 'pickup_month_04', 'pickup_month_05',\n",
       "       'pickup_month_06', 'pickup_day_02 ', 'pickup_day_03 ', 'pickup_day_04 ',\n",
       "       'pickup_day_05 ', 'pickup_day_06 ', 'pickup_day_07 ', 'pickup_day_08 ',\n",
       "       'pickup_day_09 ', 'pickup_day_10 ', 'pickup_day_11 ', 'pickup_day_12 ',\n",
       "       'pickup_day_13 ', 'pickup_day_14 ', 'pickup_day_15 ', 'pickup_day_16 ',\n",
       "       'pickup_day_17 ', 'pickup_day_18 ', 'pickup_day_19 ', 'pickup_day_20 ',\n",
       "       'pickup_day_21 ', 'pickup_day_22 ', 'pickup_day_23 ', 'pickup_day_24 ',\n",
       "       'pickup_day_25 ', 'pickup_day_26 ', 'pickup_day_27 ', 'pickup_day_28 ',\n",
       "       'pickup_day_29 ', 'pickup_day_30 ', 'pickup_day_31 ', 'pickup_hour_01',\n",
       "       'pickup_hour_02', 'pickup_hour_03', 'pickup_hour_04', 'pickup_hour_05',\n",
       "       'pickup_hour_06', 'pickup_hour_07', 'pickup_hour_08', 'pickup_hour_09',\n",
       "       'pickup_hour_10', 'pickup_hour_11', 'pickup_hour_12', 'pickup_hour_13',\n",
       "       'pickup_hour_14', 'pickup_hour_15', 'pickup_hour_16', 'pickup_hour_17',\n",
       "       'pickup_hour_18', 'pickup_hour_19', 'pickup_hour_20', 'pickup_hour_21',\n",
       "       'pickup_hour_22', 'pickup_hour_23', 'pickup_day_of_week_Monday',\n",
       "       'pickup_day_of_week_Saturday', 'pickup_day_of_week_Sunday',\n",
       "       'pickup_day_of_week_Thursday', 'pickup_day_of_week_Tuesday',\n",
       "       'pickup_day_of_week_Wednesday', 'pickup_hour_binned_06:00-11:59',\n",
       "       'pickup_hour_binned_12:00-17:59', 'pickup_hour_binned_18:00-23:59'],\n",
       "      dtype='object')"
      ]
     },
     "execution_count": 63,
     "metadata": {
      "tags": []
     },
     "output_type": "execute_result"
    }
   ],
   "source": [
    "df.columns"
   ]
  },
  {
   "cell_type": "code",
   "execution_count": null,
   "metadata": {
    "id": "0Elt_M6b8O8E"
   },
   "outputs": [],
   "source": [
    "numeric_cols = ['passenger_count','pickup_longitude','pickup_latitude','dropoff_longitude','dropoff_latitude','distance_km','trip_duration']"
   ]
  },
  {
   "cell_type": "markdown",
   "metadata": {
    "id": "i5rRQrQ-V_jw"
   },
   "source": [
    "We will drop passenger_count variable \n",
    "Dropping id as it doesn't provide any insight\n",
    "\n",
    "\n"
   ]
  },
  {
   "cell_type": "code",
   "execution_count": null,
   "metadata": {
    "id": "rTV8Yu1DWA_4"
   },
   "outputs": [],
   "source": [
    "df.drop(['id'],axis=1,inplace=True)"
   ]
  },
  {
   "cell_type": "code",
   "execution_count": null,
   "metadata": {
    "colab": {
     "base_uri": "https://localhost:8080/"
    },
    "executionInfo": {
     "elapsed": 374016,
     "status": "ok",
     "timestamp": 1583744113602,
     "user": {
      "displayName": "SAHIL MANKAD",
      "photoUrl": "",
      "userId": "01524592176474520459"
     },
     "user_tz": -330
    },
    "id": "_NxRY5w3WEYx",
    "outputId": "ce5dd35e-82ac-40cf-f077-948d2d041686"
   },
   "outputs": [
    {
     "data": {
      "text/plain": [
       "Index(['passenger_count', 'pickup_longitude', 'pickup_latitude',\n",
       "       'dropoff_longitude', 'dropoff_latitude', 'trip_duration', 'distance_km',\n",
       "       'vendor_id_2', 'store_and_fwd_flag_Y', 'pickup_month_02',\n",
       "       'pickup_month_03', 'pickup_month_04', 'pickup_month_05',\n",
       "       'pickup_month_06', 'pickup_day_02 ', 'pickup_day_03 ', 'pickup_day_04 ',\n",
       "       'pickup_day_05 ', 'pickup_day_06 ', 'pickup_day_07 ', 'pickup_day_08 ',\n",
       "       'pickup_day_09 ', 'pickup_day_10 ', 'pickup_day_11 ', 'pickup_day_12 ',\n",
       "       'pickup_day_13 ', 'pickup_day_14 ', 'pickup_day_15 ', 'pickup_day_16 ',\n",
       "       'pickup_day_17 ', 'pickup_day_18 ', 'pickup_day_19 ', 'pickup_day_20 ',\n",
       "       'pickup_day_21 ', 'pickup_day_22 ', 'pickup_day_23 ', 'pickup_day_24 ',\n",
       "       'pickup_day_25 ', 'pickup_day_26 ', 'pickup_day_27 ', 'pickup_day_28 ',\n",
       "       'pickup_day_29 ', 'pickup_day_30 ', 'pickup_day_31 ', 'pickup_hour_01',\n",
       "       'pickup_hour_02', 'pickup_hour_03', 'pickup_hour_04', 'pickup_hour_05',\n",
       "       'pickup_hour_06', 'pickup_hour_07', 'pickup_hour_08', 'pickup_hour_09',\n",
       "       'pickup_hour_10', 'pickup_hour_11', 'pickup_hour_12', 'pickup_hour_13',\n",
       "       'pickup_hour_14', 'pickup_hour_15', 'pickup_hour_16', 'pickup_hour_17',\n",
       "       'pickup_hour_18', 'pickup_hour_19', 'pickup_hour_20', 'pickup_hour_21',\n",
       "       'pickup_hour_22', 'pickup_hour_23', 'pickup_day_of_week_Monday',\n",
       "       'pickup_day_of_week_Saturday', 'pickup_day_of_week_Sunday',\n",
       "       'pickup_day_of_week_Thursday', 'pickup_day_of_week_Tuesday',\n",
       "       'pickup_day_of_week_Wednesday', 'pickup_hour_binned_06:00-11:59',\n",
       "       'pickup_hour_binned_12:00-17:59', 'pickup_hour_binned_18:00-23:59'],\n",
       "      dtype='object')"
      ]
     },
     "execution_count": 66,
     "metadata": {
      "tags": []
     },
     "output_type": "execute_result"
    }
   ],
   "source": [
    "df.columns"
   ]
  },
  {
   "cell_type": "markdown",
   "metadata": {
    "id": "ks5Zl7JuU_sx"
   },
   "source": [
    "### Splitting the dataset"
   ]
  },
  {
   "cell_type": "markdown",
   "metadata": {
    "id": "VcUmblkbUWY4"
   },
   "source": [
    "Here Y is the dependent variable and X is the set of independent variables"
   ]
  },
  {
   "cell_type": "code",
   "execution_count": null,
   "metadata": {
    "id": "JqxlghcsUWY9"
   },
   "outputs": [],
   "source": [
    "y = df.trip_duration\n",
    "X = df.drop(['trip_duration'],axis=1)"
   ]
  },
  {
   "cell_type": "code",
   "execution_count": null,
   "metadata": {
    "id": "0WDF0W_lUDU8"
   },
   "outputs": [],
   "source": [
    "# Splitting the data into Train and Validation set\n",
    "xtrain, xtest, ytrain, ytest = train_test_split(X,y,test_size=1/3, random_state=11)"
   ]
  },
  {
   "cell_type": "markdown",
   "metadata": {
    "id": "Gj_HvNWnVCGb"
   },
   "source": [
    "### Fitting the model\n"
   ]
  },
  {
   "cell_type": "code",
   "execution_count": null,
   "metadata": {
    "colab": {
     "base_uri": "https://localhost:8080/"
    },
    "executionInfo": {
     "elapsed": 377478,
     "status": "ok",
     "timestamp": 1583744117317,
     "user": {
      "displayName": "SAHIL MANKAD",
      "photoUrl": "",
      "userId": "01524592176474520459"
     },
     "user_tz": -330
    },
    "id": "zYLB9rNiUxKP",
    "outputId": "14496504-ee7a-4a3f-ab2a-b7023a786ed2"
   },
   "outputs": [
    {
     "data": {
      "text/plain": [
       "LinearRegression(copy_X=True, fit_intercept=True, n_jobs=None, normalize=False)"
      ]
     },
     "execution_count": 69,
     "metadata": {
      "tags": []
     },
     "output_type": "execute_result"
    }
   ],
   "source": [
    "model = LinearRegression()\n",
    "model.fit(xtrain,ytrain)"
   ]
  },
  {
   "cell_type": "code",
   "execution_count": null,
   "metadata": {
    "id": "8QTBNulzUxKY"
   },
   "outputs": [],
   "source": [
    "from sklearn.metrics import mean_absolute_error as mae"
   ]
  },
  {
   "cell_type": "code",
   "execution_count": null,
   "metadata": {
    "colab": {
     "base_uri": "https://localhost:8080/"
    },
    "executionInfo": {
     "elapsed": 377450,
     "status": "ok",
     "timestamp": 1583744117322,
     "user": {
      "displayName": "SAHIL MANKAD",
      "photoUrl": "",
      "userId": "01524592176474520459"
     },
     "user_tz": -330
    },
    "id": "-ETDETzRUxKf",
    "outputId": "07ffa9ef-8502-407f-a1fe-585fcd634033"
   },
   "outputs": [
    {
     "name": "stdout",
     "output_type": "stream",
     "text": [
      "Training Mean Absolute Error 394.30160062633877\n"
     ]
    }
   ],
   "source": [
    "# Predicting over the Train Set and calculating error\n",
    "train_predict = model.predict(xtrain)\n",
    "all_train_err = mae(train_predict, ytrain)\n",
    "print('Training Mean Absolute Error', all_train_err )"
   ]
  },
  {
   "cell_type": "code",
   "execution_count": null,
   "metadata": {
    "colab": {
     "base_uri": "https://localhost:8080/"
    },
    "executionInfo": {
     "elapsed": 377429,
     "status": "ok",
     "timestamp": 1583744117323,
     "user": {
      "displayName": "SAHIL MANKAD",
      "photoUrl": "",
      "userId": "01524592176474520459"
     },
     "user_tz": -330
    },
    "id": "pfoD_PcFUxKm",
    "outputId": "bdb9d7ce-710f-4539-826e-2712cb195083"
   },
   "outputs": [
    {
     "name": "stdout",
     "output_type": "stream",
     "text": [
      "testing Mean Absolute Error 420.1612654735195\n"
     ]
    }
   ],
   "source": [
    "# Predicting over the test Set and calculating error\n",
    "test_predict = model.predict(xtest)\n",
    "all_test_err = mae(test_predict, ytest)\n",
    "print('testing Mean Absolute Error', all_test_err )"
   ]
  },
  {
   "cell_type": "code",
   "execution_count": null,
   "metadata": {
    "id": "V5dGMSw075R1"
   },
   "outputs": [],
   "source": [
    "train_results['all_train_err'] = all_train_err\n",
    "test_results['all_test_err'] = all_test_err"
   ]
  },
  {
   "cell_type": "markdown",
   "metadata": {
    "id": "31U87jZ8UxK0"
   },
   "source": [
    "### Checking assumptions for model"
   ]
  },
  {
   "cell_type": "code",
   "execution_count": null,
   "metadata": {
    "colab": {
     "base_uri": "https://localhost:8080/"
    },
    "executionInfo": {
     "elapsed": 377372,
     "status": "ok",
     "timestamp": 1583744117328,
     "user": {
      "displayName": "SAHIL MANKAD",
      "photoUrl": "",
      "userId": "01524592176474520459"
     },
     "user_tz": -330
    },
    "id": "-njU50snUxK3",
    "outputId": "dcaa2072-a187-49ef-f9d1-19512c13633e"
   },
   "outputs": [
    {
     "name": "stdout",
     "output_type": "stream",
     "text": [
      "Residuals\n",
      "        fitted values  predicted values   residuals\n",
      "42955             545        742.948103 -197.948103\n",
      "500501            690        789.371802  -99.371802\n",
      "718824            654        489.127791  164.872209\n",
      "159412           1031        653.104353  377.895647\n",
      "460925            410        869.588728 -459.588728\n"
     ]
    }
   ],
   "source": [
    "residuals = calc_residual(ytest,test_predict)"
   ]
  },
  {
   "cell_type": "code",
   "execution_count": null,
   "metadata": {
    "colab": {
     "base_uri": "https://localhost:8080/"
    },
    "executionInfo": {
     "elapsed": 383853,
     "status": "ok",
     "timestamp": 1583744123820,
     "user": {
      "displayName": "SAHIL MANKAD",
      "photoUrl": "",
      "userId": "01524592176474520459"
     },
     "user_tz": -330
    },
    "id": "UxSN5sNuUxK9",
    "outputId": "ca73f9d5-2b8e-4fed-eff1-4fef0140ee82"
   },
   "outputs": [
    {
     "data": {
      "image/png": "[encoded data removed]",
      "text/plain": [
       "<Figure size 1200x720 with 1 Axes>"
      ]
     },
     "metadata": {
      "tags": []
     },
     "output_type": "display_data"
    }
   ],
   "source": [
    "plot_residuals(residuals)"
   ]
  },
  {
   "cell_type": "code",
   "execution_count": null,
   "metadata": {
    "colab": {
     "base_uri": "https://localhost:8080/"
    },
    "executionInfo": {
     "elapsed": 384588,
     "status": "ok",
     "timestamp": 1583744124575,
     "user": {
      "displayName": "SAHIL MANKAD",
      "photoUrl": "",
      "userId": "01524592176474520459"
     },
     "user_tz": -330
    },
    "id": "FQ4vzZuTUxLH",
    "outputId": "2264f747-8c4c-4c74-9b27-7da1015ad297"
   },
   "outputs": [
    {
     "data": {
      "image/png": "[encoded data removed]",
      "text/plain": [
       "<Figure size 1200x720 with 1 Axes>"
      ]
     },
     "metadata": {
      "tags": []
     },
     "output_type": "display_data"
    }
   ],
   "source": [
    "histogram(residuals)"
   ]
  },
  {
   "cell_type": "code",
   "execution_count": null,
   "metadata": {
    "colab": {
     "base_uri": "https://localhost:8080/"
    },
    "executionInfo": {
     "elapsed": 386135,
     "status": "ok",
     "timestamp": 1583744126155,
     "user": {
      "displayName": "SAHIL MANKAD",
      "photoUrl": "",
      "userId": "01524592176474520459"
     },
     "user_tz": -330
    },
    "id": "VAbuW2PeUxLN",
    "outputId": "bc5a6046-bf05-4858-cc0a-dcc8fcaf3a86"
   },
   "outputs": [
    {
     "data": {
      "image/png": "[encoded data removed]",
      "text/plain": [
       "<Figure size 600x600 with 1 Axes>"
      ]
     },
     "metadata": {
      "tags": []
     },
     "output_type": "display_data"
    }
   ],
   "source": [
    "qq_plot(residuals)"
   ]
  },
  {
   "cell_type": "markdown",
   "metadata": {
    "id": "QFR3jOdA7PRH"
   },
   "source": [
    "# Splitting the dataset for Ridge and Lasso Regression"
   ]
  },
  {
   "cell_type": "markdown",
   "metadata": {
    "id": "V2cSPja37PRN"
   },
   "source": [
    "Here Y is the dependent variable and X is the set of independent variables"
   ]
  },
  {
   "cell_type": "code",
   "execution_count": null,
   "metadata": {
    "id": "watYZoS87PRa"
   },
   "outputs": [],
   "source": [
    "y = df.trip_duration\n",
    "X = df.drop(['trip_duration'],axis=1)"
   ]
  },
  {
   "cell_type": "code",
   "execution_count": null,
   "metadata": {
    "id": "scnLVitS7PRk"
   },
   "outputs": [],
   "source": [
    "# Splitting the data into Train and Validation set\n",
    "xtrain, xtest, ytrain, ytest = train_test_split(X,y,test_size=0.25, random_state=11)"
   ]
  },
  {
   "cell_type": "code",
   "execution_count": null,
   "metadata": {
    "colab": {
     "base_uri": "https://localhost:8080/",
     "height": 34
    },
    "executionInfo": {
     "elapsed": 1365,
     "status": "ok",
     "timestamp": 1583750397086,
     "user": {
      "displayName": "SAHIL MANKAD",
      "photoUrl": "",
      "userId": "01524592176474520459"
     },
     "user_tz": -330
    },
    "id": "581UoGGiKXMR",
    "outputId": "797d5abe-3835-4c85-9d7b-610ca136035f"
   },
   "outputs": [
    {
     "data": {
      "text/plain": [
       "(541516, 75)"
      ]
     },
     "execution_count": 128,
     "metadata": {
      "tags": []
     },
     "output_type": "execute_result"
    }
   ],
   "source": [
    "xtrain.shape"
   ]
  },
  {
   "cell_type": "markdown",
   "metadata": {
    "id": "ypNHJTzeGkGi"
   },
   "source": [
    "# Lasso and Ridge Regression"
   ]
  },
  {
   "cell_type": "markdown",
   "metadata": {
    "id": "okPet_7A1-QX"
   },
   "source": [
    "### Applying Lasso Regression"
   ]
  },
  {
   "cell_type": "code",
   "execution_count": null,
   "metadata": {
    "id": "ntHL61N52CpM"
   },
   "outputs": [],
   "source": [
    "col = ['mrss_train','mrss_test','intercept'] + ['coef_Var_%d'%i for i in range(0,X.shape[1])]\n",
    "ind = ['a_%.2g'%alpha_lasso[i] for i in range(0,10)]\n",
    "coef_matrix_lasso = pd.DataFrame(index=ind, columns=col)"
   ]
  },
  {
   "cell_type": "code",
   "execution_count": null,
   "metadata": {
    "id": "FliUIv2xGyGc"
   },
   "outputs": [],
   "source": [
    "#Define the models to plot\n",
    "models_to_plot = {0:231, 1e-5:232,1e-4:233, 1e-3:234, 1e-2:235, 1:236}"
   ]
  },
  {
   "cell_type": "code",
   "execution_count": null,
   "metadata": {
    "colab": {
     "base_uri": "https://localhost:8080/",
     "height": 1000
    },
    "executionInfo": {
     "elapsed": 1311865,
     "status": "ok",
     "timestamp": 1583753204356,
     "user": {
      "displayName": "SAHIL MANKAD",
      "photoUrl": "",
      "userId": "01524592176474520459"
     },
     "user_tz": -330
    },
    "id": "y3cgGfvMHGOF",
    "outputId": "f547223f-c688-4434-f8c5-46a055e63ed5"
   },
   "outputs": [
    {
     "name": "stdout",
     "output_type": "stream",
     "text": [
      "alpha =  0\n",
      "Model fitted\n",
      "Plot complete\n",
      "alpha =  1e-10\n",
      "Model fitted\n",
      "Plot complete\n",
      "alpha =  1e-08\n",
      "Model fitted\n",
      "Plot complete\n",
      "alpha =  1e-05\n",
      "Model fitted\n",
      "Plot complete\n",
      "alpha =  0.0001\n",
      "Model fitted\n",
      "Plot complete\n",
      "alpha =  0.001\n",
      "Model fitted\n",
      "Plot complete\n",
      "alpha =  0.01\n",
      "Model fitted\n",
      "Plot complete\n",
      "alpha =  1\n",
      "Model fitted\n",
      "Plot complete\n",
      "alpha =  5\n",
      "Model fitted\n",
      "Plot complete\n",
      "alpha =  10\n",
      "Model fitted\n",
      "Plot complete\n"
     ]
    },
    {
     "data": {
      "image/png": "[encoded data removed]",
      "text/plain": [
       "<Figure size 864x576 with 6 Axes>"
      ]
     },
     "metadata": {
      "tags": []
     },
     "output_type": "display_data"
    }
   ],
   "source": [
    "plt.figure(figsize=(12,8))\n",
    "for i in range(10):\n",
    "    coef_matrix_lasso.iloc[i,] = lasso_regression(xtrain, ytrain, xtest, ytest, alpha_lasso[i], models_to_plot)"
   ]
  },
  {
   "cell_type": "code",
   "execution_count": null,
   "metadata": {
    "colab": {
     "base_uri": "https://localhost:8080/",
     "height": 379
    },
    "executionInfo": {
     "elapsed": 1303544,
     "status": "ok",
     "timestamp": 1583753204365,
     "user": {
      "displayName": "SAHIL MANKAD",
      "photoUrl": "",
      "userId": "01524592176474520459"
     },
     "user_tz": -330
    },
    "id": "EJZgtpy5HPB2",
    "outputId": "7991f786-0497-4738-ad64-5449801c2a5c"
   },
   "outputs": [
    {
     "data": {
      "text/html": [
       "<div>\n",
       "<style scoped>\n",
       "    .dataframe tbody tr th:only-of-type {\n",
       "        vertical-align: middle;\n",
       "    }\n",
       "\n",
       "    .dataframe tbody tr th {\n",
       "        vertical-align: top;\n",
       "    }\n",
       "\n",
       "    .dataframe thead th {\n",
       "        text-align: right;\n",
       "    }\n",
       "</style>\n",
       "<table border=\"1\" class=\"dataframe\">\n",
       "  <thead>\n",
       "    <tr style=\"text-align: right;\">\n",
       "      <th></th>\n",
       "      <th>mrss_train</th>\n",
       "      <th>mrss_test</th>\n",
       "      <th>intercept</th>\n",
       "      <th>coef_Var_0</th>\n",
       "      <th>coef_Var_1</th>\n",
       "      <th>coef_Var_2</th>\n",
       "      <th>coef_Var_3</th>\n",
       "      <th>coef_Var_4</th>\n",
       "      <th>coef_Var_5</th>\n",
       "      <th>coef_Var_6</th>\n",
       "      <th>coef_Var_7</th>\n",
       "      <th>coef_Var_8</th>\n",
       "      <th>coef_Var_9</th>\n",
       "      <th>coef_Var_10</th>\n",
       "      <th>coef_Var_11</th>\n",
       "      <th>coef_Var_12</th>\n",
       "      <th>coef_Var_13</th>\n",
       "      <th>coef_Var_14</th>\n",
       "      <th>coef_Var_15</th>\n",
       "      <th>coef_Var_16</th>\n",
       "      <th>coef_Var_17</th>\n",
       "      <th>coef_Var_18</th>\n",
       "      <th>coef_Var_19</th>\n",
       "      <th>coef_Var_20</th>\n",
       "      <th>coef_Var_21</th>\n",
       "      <th>coef_Var_22</th>\n",
       "      <th>coef_Var_23</th>\n",
       "      <th>coef_Var_24</th>\n",
       "      <th>coef_Var_25</th>\n",
       "      <th>coef_Var_26</th>\n",
       "      <th>coef_Var_27</th>\n",
       "      <th>coef_Var_28</th>\n",
       "      <th>coef_Var_29</th>\n",
       "      <th>coef_Var_30</th>\n",
       "      <th>coef_Var_31</th>\n",
       "      <th>coef_Var_32</th>\n",
       "      <th>coef_Var_33</th>\n",
       "      <th>coef_Var_34</th>\n",
       "      <th>coef_Var_35</th>\n",
       "      <th>coef_Var_36</th>\n",
       "      <th>coef_Var_37</th>\n",
       "      <th>coef_Var_38</th>\n",
       "      <th>coef_Var_39</th>\n",
       "      <th>coef_Var_40</th>\n",
       "      <th>coef_Var_41</th>\n",
       "      <th>coef_Var_42</th>\n",
       "      <th>coef_Var_43</th>\n",
       "      <th>coef_Var_44</th>\n",
       "      <th>coef_Var_45</th>\n",
       "      <th>coef_Var_46</th>\n",
       "      <th>coef_Var_47</th>\n",
       "      <th>coef_Var_48</th>\n",
       "      <th>coef_Var_49</th>\n",
       "      <th>coef_Var_50</th>\n",
       "      <th>coef_Var_51</th>\n",
       "      <th>coef_Var_52</th>\n",
       "      <th>coef_Var_53</th>\n",
       "      <th>coef_Var_54</th>\n",
       "      <th>coef_Var_55</th>\n",
       "      <th>coef_Var_56</th>\n",
       "      <th>coef_Var_57</th>\n",
       "      <th>coef_Var_58</th>\n",
       "      <th>coef_Var_59</th>\n",
       "      <th>coef_Var_60</th>\n",
       "      <th>coef_Var_61</th>\n",
       "      <th>coef_Var_62</th>\n",
       "      <th>coef_Var_63</th>\n",
       "      <th>coef_Var_64</th>\n",
       "      <th>coef_Var_65</th>\n",
       "      <th>coef_Var_66</th>\n",
       "      <th>coef_Var_67</th>\n",
       "      <th>coef_Var_68</th>\n",
       "      <th>coef_Var_69</th>\n",
       "      <th>coef_Var_70</th>\n",
       "      <th>coef_Var_71</th>\n",
       "      <th>coef_Var_72</th>\n",
       "      <th>coef_Var_73</th>\n",
       "      <th>coef_Var_74</th>\n",
       "    </tr>\n",
       "  </thead>\n",
       "  <tbody>\n",
       "    <tr>\n",
       "      <th>a_0</th>\n",
       "      <td>9.1e+06</td>\n",
       "      <td>3.1e+07</td>\n",
       "      <td>4.3e+05</td>\n",
       "      <td>2.5e+02</td>\n",
       "      <td>1.1e+03</td>\n",
       "      <td>3.4e+04</td>\n",
       "      <td>-9.8e+02</td>\n",
       "      <td>-1.3e+05</td>\n",
       "      <td>2.4e+03</td>\n",
       "      <td>1.9e+02</td>\n",
       "      <td>14</td>\n",
       "      <td>-10</td>\n",
       "      <td>21</td>\n",
       "      <td>55</td>\n",
       "      <td>77</td>\n",
       "      <td>61</td>\n",
       "      <td>-26</td>\n",
       "      <td>-14</td>\n",
       "      <td>-4</td>\n",
       "      <td>-10</td>\n",
       "      <td>14</td>\n",
       "      <td>-53</td>\n",
       "      <td>-3.1</td>\n",
       "      <td>-30</td>\n",
       "      <td>-28</td>\n",
       "      <td>-15</td>\n",
       "      <td>-35</td>\n",
       "      <td>8.9</td>\n",
       "      <td>22</td>\n",
       "      <td>7.6</td>\n",
       "      <td>-15</td>\n",
       "      <td>11</td>\n",
       "      <td>-9.6</td>\n",
       "      <td>-9.1</td>\n",
       "      <td>8.1</td>\n",
       "      <td>-17</td>\n",
       "      <td>-0.12</td>\n",
       "      <td>15</td>\n",
       "      <td>40</td>\n",
       "      <td>4</td>\n",
       "      <td>-11</td>\n",
       "      <td>-0.5</td>\n",
       "      <td>-13</td>\n",
       "      <td>-13</td>\n",
       "      <td>-20</td>\n",
       "      <td>-21</td>\n",
       "      <td>38</td>\n",
       "      <td>32</td>\n",
       "      <td>4</td>\n",
       "      <td>-1e+02</td>\n",
       "      <td>-2.4e+02</td>\n",
       "      <td>9e+15</td>\n",
       "      <td>9e+15</td>\n",
       "      <td>9e+15</td>\n",
       "      <td>9e+15</td>\n",
       "      <td>9e+15</td>\n",
       "      <td>9e+15</td>\n",
       "      <td>5e+15</td>\n",
       "      <td>5e+15</td>\n",
       "      <td>5e+15</td>\n",
       "      <td>5e+15</td>\n",
       "      <td>5e+15</td>\n",
       "      <td>5e+15</td>\n",
       "      <td>3e+15</td>\n",
       "      <td>3e+15</td>\n",
       "      <td>3e+15</td>\n",
       "      <td>3e+15</td>\n",
       "      <td>3e+15</td>\n",
       "      <td>3e+15</td>\n",
       "      <td>-1.4e+02</td>\n",
       "      <td>-67</td>\n",
       "      <td>-1.5e+02</td>\n",
       "      <td>13</td>\n",
       "      <td>-27</td>\n",
       "      <td>-23</td>\n",
       "      <td>-9e+15</td>\n",
       "      <td>-5e+15</td>\n",
       "      <td>-3e+15</td>\n",
       "    </tr>\n",
       "    <tr>\n",
       "      <th>a_1e-10</th>\n",
       "      <td>9.1e+06</td>\n",
       "      <td>3.1e+07</td>\n",
       "      <td>4.3e+05</td>\n",
       "      <td>2.3e+02</td>\n",
       "      <td>2e+03</td>\n",
       "      <td>3.4e+04</td>\n",
       "      <td>-2e+03</td>\n",
       "      <td>-1.3e+05</td>\n",
       "      <td>2.4e+03</td>\n",
       "      <td>1.9e+02</td>\n",
       "      <td>12</td>\n",
       "      <td>-8.8</td>\n",
       "      <td>20</td>\n",
       "      <td>57</td>\n",
       "      <td>79</td>\n",
       "      <td>64</td>\n",
       "      <td>-29</td>\n",
       "      <td>-9.1</td>\n",
       "      <td>2.6</td>\n",
       "      <td>-7.4</td>\n",
       "      <td>8.7</td>\n",
       "      <td>-59</td>\n",
       "      <td>-3.3</td>\n",
       "      <td>-20</td>\n",
       "      <td>-29</td>\n",
       "      <td>-16</td>\n",
       "      <td>-34</td>\n",
       "      <td>17</td>\n",
       "      <td>23</td>\n",
       "      <td>25</td>\n",
       "      <td>-17</td>\n",
       "      <td>13</td>\n",
       "      <td>-9.7</td>\n",
       "      <td>-10</td>\n",
       "      <td>5</td>\n",
       "      <td>-14</td>\n",
       "      <td>-30</td>\n",
       "      <td>15</td>\n",
       "      <td>35</td>\n",
       "      <td>1.7</td>\n",
       "      <td>-10</td>\n",
       "      <td>3.2</td>\n",
       "      <td>-13</td>\n",
       "      <td>-7</td>\n",
       "      <td>-25</td>\n",
       "      <td>-9.5</td>\n",
       "      <td>32</td>\n",
       "      <td>31</td>\n",
       "      <td>8.2</td>\n",
       "      <td>-96</td>\n",
       "      <td>-2.4e+02</td>\n",
       "      <td>-2.8e+02</td>\n",
       "      <td>-94</td>\n",
       "      <td>78</td>\n",
       "      <td>1.1e+02</td>\n",
       "      <td>98</td>\n",
       "      <td>1.1e+02</td>\n",
       "      <td>1.5e+02</td>\n",
       "      <td>1.2e+02</td>\n",
       "      <td>2.1e+02</td>\n",
       "      <td>2.2e+02</td>\n",
       "      <td>2.4e+02</td>\n",
       "      <td>1.5e+02</td>\n",
       "      <td>1.6e+02</td>\n",
       "      <td>64</td>\n",
       "      <td>-13</td>\n",
       "      <td>-34</td>\n",
       "      <td>-9.6</td>\n",
       "      <td>-56</td>\n",
       "      <td>-1.4e+02</td>\n",
       "      <td>-69</td>\n",
       "      <td>-1.5e+02</td>\n",
       "      <td>13</td>\n",
       "      <td>-27</td>\n",
       "      <td>-22</td>\n",
       "      <td>86</td>\n",
       "      <td>78</td>\n",
       "      <td>56</td>\n",
       "    </tr>\n",
       "    <tr>\n",
       "      <th>a_1e-08</th>\n",
       "      <td>9.1e+06</td>\n",
       "      <td>3.1e+07</td>\n",
       "      <td>4.3e+05</td>\n",
       "      <td>2.3e+02</td>\n",
       "      <td>2e+03</td>\n",
       "      <td>3.4e+04</td>\n",
       "      <td>-2e+03</td>\n",
       "      <td>-1.3e+05</td>\n",
       "      <td>2.4e+03</td>\n",
       "      <td>1.9e+02</td>\n",
       "      <td>12</td>\n",
       "      <td>-8.8</td>\n",
       "      <td>20</td>\n",
       "      <td>57</td>\n",
       "      <td>79</td>\n",
       "      <td>64</td>\n",
       "      <td>-29</td>\n",
       "      <td>-9.1</td>\n",
       "      <td>2.6</td>\n",
       "      <td>-7.4</td>\n",
       "      <td>8.7</td>\n",
       "      <td>-59</td>\n",
       "      <td>-3.3</td>\n",
       "      <td>-20</td>\n",
       "      <td>-29</td>\n",
       "      <td>-16</td>\n",
       "      <td>-34</td>\n",
       "      <td>17</td>\n",
       "      <td>23</td>\n",
       "      <td>25</td>\n",
       "      <td>-17</td>\n",
       "      <td>13</td>\n",
       "      <td>-9.7</td>\n",
       "      <td>-10</td>\n",
       "      <td>5</td>\n",
       "      <td>-14</td>\n",
       "      <td>-30</td>\n",
       "      <td>15</td>\n",
       "      <td>35</td>\n",
       "      <td>1.7</td>\n",
       "      <td>-10</td>\n",
       "      <td>3.2</td>\n",
       "      <td>-13</td>\n",
       "      <td>-7</td>\n",
       "      <td>-25</td>\n",
       "      <td>-9.5</td>\n",
       "      <td>32</td>\n",
       "      <td>31</td>\n",
       "      <td>8.2</td>\n",
       "      <td>-96</td>\n",
       "      <td>-2.4e+02</td>\n",
       "      <td>-2.8e+02</td>\n",
       "      <td>-94</td>\n",
       "      <td>78</td>\n",
       "      <td>1.1e+02</td>\n",
       "      <td>98</td>\n",
       "      <td>1.1e+02</td>\n",
       "      <td>1.5e+02</td>\n",
       "      <td>1.2e+02</td>\n",
       "      <td>2.1e+02</td>\n",
       "      <td>2.2e+02</td>\n",
       "      <td>2.4e+02</td>\n",
       "      <td>1.5e+02</td>\n",
       "      <td>1.6e+02</td>\n",
       "      <td>64</td>\n",
       "      <td>-13</td>\n",
       "      <td>-34</td>\n",
       "      <td>-9.6</td>\n",
       "      <td>-56</td>\n",
       "      <td>-1.4e+02</td>\n",
       "      <td>-69</td>\n",
       "      <td>-1.5e+02</td>\n",
       "      <td>13</td>\n",
       "      <td>-27</td>\n",
       "      <td>-22</td>\n",
       "      <td>86</td>\n",
       "      <td>78</td>\n",
       "      <td>56</td>\n",
       "    </tr>\n",
       "    <tr>\n",
       "      <th>a_1e-05</th>\n",
       "      <td>9.1e+06</td>\n",
       "      <td>3.1e+07</td>\n",
       "      <td>4.3e+05</td>\n",
       "      <td>2.3e+02</td>\n",
       "      <td>1.9e+03</td>\n",
       "      <td>3.4e+04</td>\n",
       "      <td>-1.9e+03</td>\n",
       "      <td>-1.3e+05</td>\n",
       "      <td>2.4e+03</td>\n",
       "      <td>1.9e+02</td>\n",
       "      <td>12</td>\n",
       "      <td>-8.8</td>\n",
       "      <td>20</td>\n",
       "      <td>57</td>\n",
       "      <td>79</td>\n",
       "      <td>64</td>\n",
       "      <td>-29</td>\n",
       "      <td>-8.8</td>\n",
       "      <td>2.9</td>\n",
       "      <td>-7.1</td>\n",
       "      <td>8.9</td>\n",
       "      <td>-59</td>\n",
       "      <td>-3</td>\n",
       "      <td>-20</td>\n",
       "      <td>-29</td>\n",
       "      <td>-15</td>\n",
       "      <td>-33</td>\n",
       "      <td>17</td>\n",
       "      <td>23</td>\n",
       "      <td>25</td>\n",
       "      <td>-17</td>\n",
       "      <td>13</td>\n",
       "      <td>-9.3</td>\n",
       "      <td>-9.7</td>\n",
       "      <td>5.3</td>\n",
       "      <td>-14</td>\n",
       "      <td>-30</td>\n",
       "      <td>15</td>\n",
       "      <td>36</td>\n",
       "      <td>2</td>\n",
       "      <td>-10</td>\n",
       "      <td>3.5</td>\n",
       "      <td>-13</td>\n",
       "      <td>-6.6</td>\n",
       "      <td>-25</td>\n",
       "      <td>-9.1</td>\n",
       "      <td>31</td>\n",
       "      <td>31</td>\n",
       "      <td>7.8</td>\n",
       "      <td>-96</td>\n",
       "      <td>-2.4e+02</td>\n",
       "      <td>-2.8e+02</td>\n",
       "      <td>-91</td>\n",
       "      <td>81</td>\n",
       "      <td>1.1e+02</td>\n",
       "      <td>1e+02</td>\n",
       "      <td>1.2e+02</td>\n",
       "      <td>1.2e+02</td>\n",
       "      <td>91</td>\n",
       "      <td>1.8e+02</td>\n",
       "      <td>1.9e+02</td>\n",
       "      <td>2.1e+02</td>\n",
       "      <td>1.2e+02</td>\n",
       "      <td>1.7e+02</td>\n",
       "      <td>74</td>\n",
       "      <td>-2.3</td>\n",
       "      <td>-23</td>\n",
       "      <td>1.1</td>\n",
       "      <td>-45</td>\n",
       "      <td>-1.4e+02</td>\n",
       "      <td>-69</td>\n",
       "      <td>-1.5e+02</td>\n",
       "      <td>13</td>\n",
       "      <td>-26</td>\n",
       "      <td>-22</td>\n",
       "      <td>83</td>\n",
       "      <td>1.1e+02</td>\n",
       "      <td>45</td>\n",
       "    </tr>\n",
       "    <tr>\n",
       "      <th>a_0.0001</th>\n",
       "      <td>9.1e+06</td>\n",
       "      <td>3.1e+07</td>\n",
       "      <td>4.3e+05</td>\n",
       "      <td>2.3e+02</td>\n",
       "      <td>1.2e+03</td>\n",
       "      <td>3.4e+04</td>\n",
       "      <td>-1.2e+03</td>\n",
       "      <td>-1.3e+05</td>\n",
       "      <td>2.4e+03</td>\n",
       "      <td>1.9e+02</td>\n",
       "      <td>11</td>\n",
       "      <td>-9.1</td>\n",
       "      <td>19</td>\n",
       "      <td>56</td>\n",
       "      <td>78</td>\n",
       "      <td>63</td>\n",
       "      <td>-26</td>\n",
       "      <td>-5.7</td>\n",
       "      <td>5.3</td>\n",
       "      <td>-3.9</td>\n",
       "      <td>11</td>\n",
       "      <td>-56</td>\n",
       "      <td>-0</td>\n",
       "      <td>-17</td>\n",
       "      <td>-26</td>\n",
       "      <td>-12</td>\n",
       "      <td>-30</td>\n",
       "      <td>19</td>\n",
       "      <td>25</td>\n",
       "      <td>27</td>\n",
       "      <td>-14</td>\n",
       "      <td>16</td>\n",
       "      <td>-6.3</td>\n",
       "      <td>-6.6</td>\n",
       "      <td>7.5</td>\n",
       "      <td>-11</td>\n",
       "      <td>-27</td>\n",
       "      <td>18</td>\n",
       "      <td>38</td>\n",
       "      <td>4.4</td>\n",
       "      <td>-6.8</td>\n",
       "      <td>5.7</td>\n",
       "      <td>-9.8</td>\n",
       "      <td>-3.5</td>\n",
       "      <td>-22</td>\n",
       "      <td>-5.9</td>\n",
       "      <td>28</td>\n",
       "      <td>27</td>\n",
       "      <td>4.3</td>\n",
       "      <td>-98</td>\n",
       "      <td>-2.4e+02</td>\n",
       "      <td>-2.6e+02</td>\n",
       "      <td>-74</td>\n",
       "      <td>97</td>\n",
       "      <td>1.3e+02</td>\n",
       "      <td>1.2e+02</td>\n",
       "      <td>1.3e+02</td>\n",
       "      <td>-0</td>\n",
       "      <td>-31</td>\n",
       "      <td>54</td>\n",
       "      <td>69</td>\n",
       "      <td>84</td>\n",
       "      <td>2.4</td>\n",
       "      <td>1.7e+02</td>\n",
       "      <td>77</td>\n",
       "      <td>0</td>\n",
       "      <td>-21</td>\n",
       "      <td>3.4</td>\n",
       "      <td>-42</td>\n",
       "      <td>-1.4e+02</td>\n",
       "      <td>-68</td>\n",
       "      <td>-1.5e+02</td>\n",
       "      <td>13</td>\n",
       "      <td>-26</td>\n",
       "      <td>-21</td>\n",
       "      <td>63</td>\n",
       "      <td>2.3e+02</td>\n",
       "      <td>39</td>\n",
       "    </tr>\n",
       "    <tr>\n",
       "      <th>a_0.001</th>\n",
       "      <td>9.1e+06</td>\n",
       "      <td>3.1e+07</td>\n",
       "      <td>4.4e+05</td>\n",
       "      <td>2.3e+02</td>\n",
       "      <td>0</td>\n",
       "      <td>3e+04</td>\n",
       "      <td>-0</td>\n",
       "      <td>-1.3e+05</td>\n",
       "      <td>2.4e+03</td>\n",
       "      <td>1.9e+02</td>\n",
       "      <td>2.1</td>\n",
       "      <td>-12</td>\n",
       "      <td>13</td>\n",
       "      <td>50</td>\n",
       "      <td>72</td>\n",
       "      <td>57</td>\n",
       "      <td>-19</td>\n",
       "      <td>-0</td>\n",
       "      <td>5.8</td>\n",
       "      <td>0</td>\n",
       "      <td>11</td>\n",
       "      <td>-48</td>\n",
       "      <td>0.19</td>\n",
       "      <td>-10</td>\n",
       "      <td>-19</td>\n",
       "      <td>-4.8</td>\n",
       "      <td>-22</td>\n",
       "      <td>18</td>\n",
       "      <td>26</td>\n",
       "      <td>28</td>\n",
       "      <td>-7.6</td>\n",
       "      <td>16</td>\n",
       "      <td>-0</td>\n",
       "      <td>-0</td>\n",
       "      <td>6.8</td>\n",
       "      <td>-3.6</td>\n",
       "      <td>-19</td>\n",
       "      <td>17</td>\n",
       "      <td>39</td>\n",
       "      <td>4.8</td>\n",
       "      <td>-0</td>\n",
       "      <td>4.6</td>\n",
       "      <td>-2.4</td>\n",
       "      <td>0</td>\n",
       "      <td>-15</td>\n",
       "      <td>-0</td>\n",
       "      <td>0.67</td>\n",
       "      <td>0</td>\n",
       "      <td>-13</td>\n",
       "      <td>-1.2e+02</td>\n",
       "      <td>-2.6e+02</td>\n",
       "      <td>-3.5e+02</td>\n",
       "      <td>-1.7e+02</td>\n",
       "      <td>0</td>\n",
       "      <td>27</td>\n",
       "      <td>20</td>\n",
       "      <td>34</td>\n",
       "      <td>-0</td>\n",
       "      <td>-29</td>\n",
       "      <td>50</td>\n",
       "      <td>65</td>\n",
       "      <td>80</td>\n",
       "      <td>0</td>\n",
       "      <td>1.7e+02</td>\n",
       "      <td>76</td>\n",
       "      <td>0</td>\n",
       "      <td>-16</td>\n",
       "      <td>3.1</td>\n",
       "      <td>-37</td>\n",
       "      <td>-1.3e+02</td>\n",
       "      <td>-62</td>\n",
       "      <td>-1.4e+02</td>\n",
       "      <td>16</td>\n",
       "      <td>-19</td>\n",
       "      <td>-12</td>\n",
       "      <td>1.4e+02</td>\n",
       "      <td>2e+02</td>\n",
       "      <td>14</td>\n",
       "    </tr>\n",
       "    <tr>\n",
       "      <th>a_0.01</th>\n",
       "      <td>9.1e+06</td>\n",
       "      <td>3.1e+07</td>\n",
       "      <td>4.3e+05</td>\n",
       "      <td>1.7e+02</td>\n",
       "      <td>0</td>\n",
       "      <td>0</td>\n",
       "      <td>-0</td>\n",
       "      <td>-9.7e+04</td>\n",
       "      <td>2.3e+03</td>\n",
       "      <td>1.8e+02</td>\n",
       "      <td>0</td>\n",
       "      <td>-19</td>\n",
       "      <td>-0</td>\n",
       "      <td>13</td>\n",
       "      <td>34</td>\n",
       "      <td>20</td>\n",
       "      <td>-0</td>\n",
       "      <td>0</td>\n",
       "      <td>0</td>\n",
       "      <td>0</td>\n",
       "      <td>0</td>\n",
       "      <td>-14</td>\n",
       "      <td>0</td>\n",
       "      <td>-0</td>\n",
       "      <td>-0</td>\n",
       "      <td>-0</td>\n",
       "      <td>-0</td>\n",
       "      <td>0</td>\n",
       "      <td>0</td>\n",
       "      <td>0</td>\n",
       "      <td>-0</td>\n",
       "      <td>0</td>\n",
       "      <td>-0</td>\n",
       "      <td>-0</td>\n",
       "      <td>0</td>\n",
       "      <td>-0</td>\n",
       "      <td>-0</td>\n",
       "      <td>0</td>\n",
       "      <td>6.6</td>\n",
       "      <td>0</td>\n",
       "      <td>-0</td>\n",
       "      <td>0</td>\n",
       "      <td>-0</td>\n",
       "      <td>0</td>\n",
       "      <td>-0</td>\n",
       "      <td>-0</td>\n",
       "      <td>-0</td>\n",
       "      <td>-0</td>\n",
       "      <td>-0</td>\n",
       "      <td>-82</td>\n",
       "      <td>-2.2e+02</td>\n",
       "      <td>-2.8e+02</td>\n",
       "      <td>-1.1e+02</td>\n",
       "      <td>0</td>\n",
       "      <td>17</td>\n",
       "      <td>7.9</td>\n",
       "      <td>22</td>\n",
       "      <td>-0</td>\n",
       "      <td>-0</td>\n",
       "      <td>23</td>\n",
       "      <td>37</td>\n",
       "      <td>50</td>\n",
       "      <td>0</td>\n",
       "      <td>1.3e+02</td>\n",
       "      <td>34</td>\n",
       "      <td>-0</td>\n",
       "      <td>-3.2</td>\n",
       "      <td>-0</td>\n",
       "      <td>-20</td>\n",
       "      <td>-91</td>\n",
       "      <td>-33</td>\n",
       "      <td>-1e+02</td>\n",
       "      <td>17</td>\n",
       "      <td>-0</td>\n",
       "      <td>0</td>\n",
       "      <td>86</td>\n",
       "      <td>1.7e+02</td>\n",
       "      <td>-0</td>\n",
       "    </tr>\n",
       "    <tr>\n",
       "      <th>a_1</th>\n",
       "      <td>9.4e+06</td>\n",
       "      <td>3.1e+07</td>\n",
       "      <td>9.2e+02</td>\n",
       "      <td>0</td>\n",
       "      <td>0</td>\n",
       "      <td>-0</td>\n",
       "      <td>0</td>\n",
       "      <td>-0</td>\n",
       "      <td>0</td>\n",
       "      <td>0</td>\n",
       "      <td>0</td>\n",
       "      <td>-0</td>\n",
       "      <td>-0</td>\n",
       "      <td>0</td>\n",
       "      <td>0</td>\n",
       "      <td>0</td>\n",
       "      <td>-0</td>\n",
       "      <td>0</td>\n",
       "      <td>-0</td>\n",
       "      <td>-0</td>\n",
       "      <td>0</td>\n",
       "      <td>-0</td>\n",
       "      <td>0</td>\n",
       "      <td>-0</td>\n",
       "      <td>-0</td>\n",
       "      <td>-0</td>\n",
       "      <td>-0</td>\n",
       "      <td>0</td>\n",
       "      <td>0</td>\n",
       "      <td>0</td>\n",
       "      <td>-0</td>\n",
       "      <td>0</td>\n",
       "      <td>-0</td>\n",
       "      <td>0</td>\n",
       "      <td>0</td>\n",
       "      <td>-0</td>\n",
       "      <td>-0</td>\n",
       "      <td>0</td>\n",
       "      <td>0</td>\n",
       "      <td>0</td>\n",
       "      <td>0</td>\n",
       "      <td>-0</td>\n",
       "      <td>-0</td>\n",
       "      <td>-0</td>\n",
       "      <td>-0</td>\n",
       "      <td>0</td>\n",
       "      <td>-0</td>\n",
       "      <td>-0</td>\n",
       "      <td>-0</td>\n",
       "      <td>-0</td>\n",
       "      <td>-0</td>\n",
       "      <td>-0</td>\n",
       "      <td>-0</td>\n",
       "      <td>-0</td>\n",
       "      <td>0</td>\n",
       "      <td>0</td>\n",
       "      <td>0</td>\n",
       "      <td>0</td>\n",
       "      <td>0</td>\n",
       "      <td>0</td>\n",
       "      <td>0</td>\n",
       "      <td>0</td>\n",
       "      <td>0</td>\n",
       "      <td>0</td>\n",
       "      <td>-0</td>\n",
       "      <td>-0</td>\n",
       "      <td>-0</td>\n",
       "      <td>-0</td>\n",
       "      <td>-0</td>\n",
       "      <td>-0</td>\n",
       "      <td>-0</td>\n",
       "      <td>-0</td>\n",
       "      <td>0</td>\n",
       "      <td>0</td>\n",
       "      <td>0</td>\n",
       "      <td>-0</td>\n",
       "      <td>0</td>\n",
       "      <td>-0</td>\n",
       "    </tr>\n",
       "    <tr>\n",
       "      <th>a_5</th>\n",
       "      <td>9.4e+06</td>\n",
       "      <td>3.1e+07</td>\n",
       "      <td>9.2e+02</td>\n",
       "      <td>0</td>\n",
       "      <td>0</td>\n",
       "      <td>-0</td>\n",
       "      <td>0</td>\n",
       "      <td>-0</td>\n",
       "      <td>0</td>\n",
       "      <td>0</td>\n",
       "      <td>0</td>\n",
       "      <td>-0</td>\n",
       "      <td>-0</td>\n",
       "      <td>0</td>\n",
       "      <td>0</td>\n",
       "      <td>0</td>\n",
       "      <td>-0</td>\n",
       "      <td>0</td>\n",
       "      <td>-0</td>\n",
       "      <td>-0</td>\n",
       "      <td>0</td>\n",
       "      <td>-0</td>\n",
       "      <td>0</td>\n",
       "      <td>-0</td>\n",
       "      <td>-0</td>\n",
       "      <td>-0</td>\n",
       "      <td>-0</td>\n",
       "      <td>0</td>\n",
       "      <td>0</td>\n",
       "      <td>0</td>\n",
       "      <td>-0</td>\n",
       "      <td>0</td>\n",
       "      <td>-0</td>\n",
       "      <td>0</td>\n",
       "      <td>0</td>\n",
       "      <td>-0</td>\n",
       "      <td>-0</td>\n",
       "      <td>0</td>\n",
       "      <td>0</td>\n",
       "      <td>0</td>\n",
       "      <td>0</td>\n",
       "      <td>-0</td>\n",
       "      <td>-0</td>\n",
       "      <td>-0</td>\n",
       "      <td>-0</td>\n",
       "      <td>0</td>\n",
       "      <td>-0</td>\n",
       "      <td>-0</td>\n",
       "      <td>-0</td>\n",
       "      <td>-0</td>\n",
       "      <td>-0</td>\n",
       "      <td>-0</td>\n",
       "      <td>-0</td>\n",
       "      <td>-0</td>\n",
       "      <td>0</td>\n",
       "      <td>0</td>\n",
       "      <td>0</td>\n",
       "      <td>0</td>\n",
       "      <td>0</td>\n",
       "      <td>0</td>\n",
       "      <td>0</td>\n",
       "      <td>0</td>\n",
       "      <td>0</td>\n",
       "      <td>0</td>\n",
       "      <td>-0</td>\n",
       "      <td>-0</td>\n",
       "      <td>-0</td>\n",
       "      <td>-0</td>\n",
       "      <td>-0</td>\n",
       "      <td>-0</td>\n",
       "      <td>-0</td>\n",
       "      <td>-0</td>\n",
       "      <td>0</td>\n",
       "      <td>0</td>\n",
       "      <td>0</td>\n",
       "      <td>-0</td>\n",
       "      <td>0</td>\n",
       "      <td>-0</td>\n",
       "    </tr>\n",
       "    <tr>\n",
       "      <th>a_10</th>\n",
       "      <td>9.4e+06</td>\n",
       "      <td>3.1e+07</td>\n",
       "      <td>9.2e+02</td>\n",
       "      <td>0</td>\n",
       "      <td>0</td>\n",
       "      <td>-0</td>\n",
       "      <td>0</td>\n",
       "      <td>-0</td>\n",
       "      <td>0</td>\n",
       "      <td>0</td>\n",
       "      <td>0</td>\n",
       "      <td>-0</td>\n",
       "      <td>-0</td>\n",
       "      <td>0</td>\n",
       "      <td>0</td>\n",
       "      <td>0</td>\n",
       "      <td>-0</td>\n",
       "      <td>0</td>\n",
       "      <td>-0</td>\n",
       "      <td>-0</td>\n",
       "      <td>0</td>\n",
       "      <td>-0</td>\n",
       "      <td>0</td>\n",
       "      <td>-0</td>\n",
       "      <td>-0</td>\n",
       "      <td>-0</td>\n",
       "      <td>-0</td>\n",
       "      <td>0</td>\n",
       "      <td>0</td>\n",
       "      <td>0</td>\n",
       "      <td>-0</td>\n",
       "      <td>0</td>\n",
       "      <td>-0</td>\n",
       "      <td>0</td>\n",
       "      <td>0</td>\n",
       "      <td>-0</td>\n",
       "      <td>-0</td>\n",
       "      <td>0</td>\n",
       "      <td>0</td>\n",
       "      <td>0</td>\n",
       "      <td>0</td>\n",
       "      <td>-0</td>\n",
       "      <td>-0</td>\n",
       "      <td>-0</td>\n",
       "      <td>-0</td>\n",
       "      <td>0</td>\n",
       "      <td>-0</td>\n",
       "      <td>-0</td>\n",
       "      <td>-0</td>\n",
       "      <td>-0</td>\n",
       "      <td>-0</td>\n",
       "      <td>-0</td>\n",
       "      <td>-0</td>\n",
       "      <td>-0</td>\n",
       "      <td>0</td>\n",
       "      <td>0</td>\n",
       "      <td>0</td>\n",
       "      <td>0</td>\n",
       "      <td>0</td>\n",
       "      <td>0</td>\n",
       "      <td>0</td>\n",
       "      <td>0</td>\n",
       "      <td>0</td>\n",
       "      <td>0</td>\n",
       "      <td>-0</td>\n",
       "      <td>-0</td>\n",
       "      <td>-0</td>\n",
       "      <td>-0</td>\n",
       "      <td>-0</td>\n",
       "      <td>-0</td>\n",
       "      <td>-0</td>\n",
       "      <td>-0</td>\n",
       "      <td>0</td>\n",
       "      <td>0</td>\n",
       "      <td>0</td>\n",
       "      <td>-0</td>\n",
       "      <td>0</td>\n",
       "      <td>-0</td>\n",
       "    </tr>\n",
       "  </tbody>\n",
       "</table>\n",
       "</div>"
      ],
      "text/plain": [
       "         mrss_train mrss_test intercept  ... coef_Var_72 coef_Var_73 coef_Var_74\n",
       "a_0         9.1e+06   3.1e+07   4.3e+05  ...      -9e+15      -5e+15      -3e+15\n",
       "a_1e-10     9.1e+06   3.1e+07   4.3e+05  ...          86          78          56\n",
       "a_1e-08     9.1e+06   3.1e+07   4.3e+05  ...          86          78          56\n",
       "a_1e-05     9.1e+06   3.1e+07   4.3e+05  ...          83     1.1e+02          45\n",
       "a_0.0001    9.1e+06   3.1e+07   4.3e+05  ...          63     2.3e+02          39\n",
       "a_0.001     9.1e+06   3.1e+07   4.4e+05  ...     1.4e+02       2e+02          14\n",
       "a_0.01      9.1e+06   3.1e+07   4.3e+05  ...          86     1.7e+02          -0\n",
       "a_1         9.4e+06   3.1e+07   9.2e+02  ...          -0           0          -0\n",
       "a_5         9.4e+06   3.1e+07   9.2e+02  ...          -0           0          -0\n",
       "a_10        9.4e+06   3.1e+07   9.2e+02  ...          -0           0          -0\n",
       "\n",
       "[10 rows x 78 columns]"
      ]
     },
     "execution_count": 141,
     "metadata": {
      "tags": []
     },
     "output_type": "execute_result"
    }
   ],
   "source": [
    "#Set the display format to be scientific for ease of analysis\n",
    "pd.options.display.float_format = '{:,.2g}'.format\n",
    "coef_matrix_lasso"
   ]
  },
  {
   "cell_type": "code",
   "execution_count": null,
   "metadata": {
    "colab": {
     "base_uri": "https://localhost:8080/",
     "height": 308
    },
    "executionInfo": {
     "elapsed": 1302299,
     "status": "ok",
     "timestamp": 1583753204368,
     "user": {
      "displayName": "SAHIL MANKAD",
      "photoUrl": "",
      "userId": "01524592176474520459"
     },
     "user_tz": -330
    },
    "id": "ZXtYzwPWHPj9",
    "outputId": "5d6eb739-8f41-4a09-e4b0-a06c00037d37"
   },
   "outputs": [
    {
     "data": {
      "text/plain": [
       "<matplotlib.legend.Legend at 0x7f3482109908>"
      ]
     },
     "execution_count": 142,
     "metadata": {
      "tags": []
     },
     "output_type": "execute_result"
    },
    {
     "data": {
      "image/png": "[encoded data removed]",
      "text/plain": [
       "<Figure size 432x288 with 1 Axes>"
      ]
     },
     "metadata": {
      "tags": []
     },
     "output_type": "display_data"
    }
   ],
   "source": [
    "coef_matrix_lasso[['mrss_train','mrss_test']].plot()\n",
    "plt.xlabel('Alpha Values')\n",
    "plt.ylabel('MRSS')\n",
    "plt.legend(['train', 'test'])"
   ]
  },
  {
   "cell_type": "markdown",
   "metadata": {
    "id": "UaNVxNqoHiG2"
   },
   "source": [
    "a in above plot is alpha"
   ]
  },
  {
   "cell_type": "code",
   "execution_count": null,
   "metadata": {
    "colab": {
     "base_uri": "https://localhost:8080/",
     "height": 204
    },
    "executionInfo": {
     "elapsed": 1300872,
     "status": "ok",
     "timestamp": 1583753204372,
     "user": {
      "displayName": "SAHIL MANKAD",
      "photoUrl": "",
      "userId": "01524592176474520459"
     },
     "user_tz": -330
    },
    "id": "qxR7_Nb5HSgQ",
    "outputId": "7ccc903e-7a5f-45df-8053-4aaf0169e99d"
   },
   "outputs": [
    {
     "data": {
      "text/plain": [
       "a_0          0\n",
       "a_1e-10      0\n",
       "a_1e-08      0\n",
       "a_1e-05      0\n",
       "a_0.0001     3\n",
       "a_0.001     14\n",
       "a_0.01      45\n",
       "a_1         75\n",
       "a_5         75\n",
       "a_10        75\n",
       "dtype: int64"
      ]
     },
     "execution_count": 143,
     "metadata": {
      "tags": []
     },
     "output_type": "execute_result"
    }
   ],
   "source": [
    "coef_matrix_lasso.apply(lambda x: sum(x.values==0),axis=1)"
   ]
  },
  {
   "cell_type": "markdown",
   "metadata": {
    "id": "ZDsbwtul_WCa"
   },
   "source": [
    "### Applying ridge regression"
   ]
  },
  {
   "cell_type": "code",
   "execution_count": null,
   "metadata": {
    "id": "7rhC9v73_Z8U"
   },
   "outputs": [],
   "source": [
    "col = ['mrss_train','mrss_test','intercept'] + ['coef_Var_%d'%i for i in range(0,X.shape[1])]\n",
    "ind = ['a_%.2g'%alpha_ridge[i] for i in range(0,10)]\n",
    "coef_matrix_ridge = pd.DataFrame(index=ind, columns=col)"
   ]
  },
  {
   "cell_type": "code",
   "execution_count": null,
   "metadata": {
    "id": "mYpHtPnR9wGB"
   },
   "outputs": [],
   "source": [
    "#Define the models to plot\n",
    "models_to_plot = {0:231, 1e-5:232,1e-4:233, 1e-3:234, 1e-2:235, 1:236}"
   ]
  },
  {
   "cell_type": "code",
   "execution_count": null,
   "metadata": {
    "colab": {
     "base_uri": "https://localhost:8080/",
     "height": 585
    },
    "executionInfo": {
     "elapsed": 2241349,
     "status": "ok",
     "timestamp": 1583754147676,
     "user": {
      "displayName": "SAHIL MANKAD",
      "photoUrl": "",
      "userId": "01524592176474520459"
     },
     "user_tz": -330
    },
    "id": "GsUbJsFa9ysT",
    "outputId": "4dba3192-a06e-4ca6-d33f-1eaae8190d01"
   },
   "outputs": [
    {
     "data": {
      "image/png": "[encoded data removed]",
      "text/plain": [
       "<Figure size 864x576 with 5 Axes>"
      ]
     },
     "metadata": {
      "tags": []
     },
     "output_type": "display_data"
    }
   ],
   "source": [
    "plt.figure(figsize=(12,8))\n",
    "for i in range(10):\n",
    "    coef_matrix_ridge.iloc[i,] = ridge_regression(xtrain, ytrain, xtest, ytest, alpha_ridge[i], models_to_plot)"
   ]
  },
  {
   "cell_type": "code",
   "execution_count": null,
   "metadata": {
    "colab": {
     "base_uri": "https://localhost:8080/",
     "height": 379
    },
    "executionInfo": {
     "elapsed": 2240803,
     "status": "ok",
     "timestamp": 1583754147681,
     "user": {
      "displayName": "SAHIL MANKAD",
      "photoUrl": "",
      "userId": "01524592176474520459"
     },
     "user_tz": -330
    },
    "id": "WBlPg8Ev92In",
    "outputId": "d07cce57-8ce4-4033-cd99-ddce98a7ee7f"
   },
   "outputs": [
    {
     "data": {
      "text/html": [
       "<div>\n",
       "<style scoped>\n",
       "    .dataframe tbody tr th:only-of-type {\n",
       "        vertical-align: middle;\n",
       "    }\n",
       "\n",
       "    .dataframe tbody tr th {\n",
       "        vertical-align: top;\n",
       "    }\n",
       "\n",
       "    .dataframe thead th {\n",
       "        text-align: right;\n",
       "    }\n",
       "</style>\n",
       "<table border=\"1\" class=\"dataframe\">\n",
       "  <thead>\n",
       "    <tr style=\"text-align: right;\">\n",
       "      <th></th>\n",
       "      <th>mrss_train</th>\n",
       "      <th>mrss_test</th>\n",
       "      <th>intercept</th>\n",
       "      <th>coef_Var_0</th>\n",
       "      <th>coef_Var_1</th>\n",
       "      <th>coef_Var_2</th>\n",
       "      <th>coef_Var_3</th>\n",
       "      <th>coef_Var_4</th>\n",
       "      <th>coef_Var_5</th>\n",
       "      <th>coef_Var_6</th>\n",
       "      <th>coef_Var_7</th>\n",
       "      <th>coef_Var_8</th>\n",
       "      <th>coef_Var_9</th>\n",
       "      <th>coef_Var_10</th>\n",
       "      <th>coef_Var_11</th>\n",
       "      <th>coef_Var_12</th>\n",
       "      <th>coef_Var_13</th>\n",
       "      <th>coef_Var_14</th>\n",
       "      <th>coef_Var_15</th>\n",
       "      <th>coef_Var_16</th>\n",
       "      <th>coef_Var_17</th>\n",
       "      <th>coef_Var_18</th>\n",
       "      <th>coef_Var_19</th>\n",
       "      <th>coef_Var_20</th>\n",
       "      <th>coef_Var_21</th>\n",
       "      <th>coef_Var_22</th>\n",
       "      <th>coef_Var_23</th>\n",
       "      <th>coef_Var_24</th>\n",
       "      <th>coef_Var_25</th>\n",
       "      <th>coef_Var_26</th>\n",
       "      <th>coef_Var_27</th>\n",
       "      <th>coef_Var_28</th>\n",
       "      <th>coef_Var_29</th>\n",
       "      <th>coef_Var_30</th>\n",
       "      <th>coef_Var_31</th>\n",
       "      <th>coef_Var_32</th>\n",
       "      <th>coef_Var_33</th>\n",
       "      <th>coef_Var_34</th>\n",
       "      <th>coef_Var_35</th>\n",
       "      <th>coef_Var_36</th>\n",
       "      <th>coef_Var_37</th>\n",
       "      <th>coef_Var_38</th>\n",
       "      <th>coef_Var_39</th>\n",
       "      <th>coef_Var_40</th>\n",
       "      <th>coef_Var_41</th>\n",
       "      <th>coef_Var_42</th>\n",
       "      <th>coef_Var_43</th>\n",
       "      <th>coef_Var_44</th>\n",
       "      <th>coef_Var_45</th>\n",
       "      <th>coef_Var_46</th>\n",
       "      <th>coef_Var_47</th>\n",
       "      <th>coef_Var_48</th>\n",
       "      <th>coef_Var_49</th>\n",
       "      <th>coef_Var_50</th>\n",
       "      <th>coef_Var_51</th>\n",
       "      <th>coef_Var_52</th>\n",
       "      <th>coef_Var_53</th>\n",
       "      <th>coef_Var_54</th>\n",
       "      <th>coef_Var_55</th>\n",
       "      <th>coef_Var_56</th>\n",
       "      <th>coef_Var_57</th>\n",
       "      <th>coef_Var_58</th>\n",
       "      <th>coef_Var_59</th>\n",
       "      <th>coef_Var_60</th>\n",
       "      <th>coef_Var_61</th>\n",
       "      <th>coef_Var_62</th>\n",
       "      <th>coef_Var_63</th>\n",
       "      <th>coef_Var_64</th>\n",
       "      <th>coef_Var_65</th>\n",
       "      <th>coef_Var_66</th>\n",
       "      <th>coef_Var_67</th>\n",
       "      <th>coef_Var_68</th>\n",
       "      <th>coef_Var_69</th>\n",
       "      <th>coef_Var_70</th>\n",
       "      <th>coef_Var_71</th>\n",
       "      <th>coef_Var_72</th>\n",
       "      <th>coef_Var_73</th>\n",
       "      <th>coef_Var_74</th>\n",
       "    </tr>\n",
       "  </thead>\n",
       "  <tbody>\n",
       "    <tr>\n",
       "      <th>a_0</th>\n",
       "      <td>9.1e+06</td>\n",
       "      <td>3.1e+07</td>\n",
       "      <td>4.3e+05</td>\n",
       "      <td>2.3e+02</td>\n",
       "      <td>2e+03</td>\n",
       "      <td>3.4e+04</td>\n",
       "      <td>-2e+03</td>\n",
       "      <td>-1.3e+05</td>\n",
       "      <td>2.4e+03</td>\n",
       "      <td>1.9e+02</td>\n",
       "      <td>12</td>\n",
       "      <td>-8.8</td>\n",
       "      <td>20</td>\n",
       "      <td>57</td>\n",
       "      <td>79</td>\n",
       "      <td>64</td>\n",
       "      <td>-29</td>\n",
       "      <td>-9.1</td>\n",
       "      <td>2.6</td>\n",
       "      <td>-7.4</td>\n",
       "      <td>8.7</td>\n",
       "      <td>-59</td>\n",
       "      <td>-3.3</td>\n",
       "      <td>-20</td>\n",
       "      <td>-29</td>\n",
       "      <td>-16</td>\n",
       "      <td>-34</td>\n",
       "      <td>17</td>\n",
       "      <td>23</td>\n",
       "      <td>25</td>\n",
       "      <td>-17</td>\n",
       "      <td>13</td>\n",
       "      <td>-9.7</td>\n",
       "      <td>-10</td>\n",
       "      <td>5</td>\n",
       "      <td>-14</td>\n",
       "      <td>-30</td>\n",
       "      <td>15</td>\n",
       "      <td>35</td>\n",
       "      <td>1.7</td>\n",
       "      <td>-10</td>\n",
       "      <td>3.2</td>\n",
       "      <td>-13</td>\n",
       "      <td>-7</td>\n",
       "      <td>-25</td>\n",
       "      <td>-9.5</td>\n",
       "      <td>32</td>\n",
       "      <td>31</td>\n",
       "      <td>8.2</td>\n",
       "      <td>-96</td>\n",
       "      <td>-2.4e+02</td>\n",
       "      <td>-2.6e+02</td>\n",
       "      <td>-75</td>\n",
       "      <td>97</td>\n",
       "      <td>1.3e+02</td>\n",
       "      <td>1.2e+02</td>\n",
       "      <td>1.3e+02</td>\n",
       "      <td>81</td>\n",
       "      <td>50</td>\n",
       "      <td>1.4e+02</td>\n",
       "      <td>1.5e+02</td>\n",
       "      <td>1.7e+02</td>\n",
       "      <td>84</td>\n",
       "      <td>1.7e+02</td>\n",
       "      <td>73</td>\n",
       "      <td>-3.4</td>\n",
       "      <td>-25</td>\n",
       "      <td>0.078</td>\n",
       "      <td>-46</td>\n",
       "      <td>-1.4e+02</td>\n",
       "      <td>-69</td>\n",
       "      <td>-1.5e+02</td>\n",
       "      <td>13</td>\n",
       "      <td>-27</td>\n",
       "      <td>-22</td>\n",
       "      <td>67</td>\n",
       "      <td>1.5e+02</td>\n",
       "      <td>46</td>\n",
       "    </tr>\n",
       "    <tr>\n",
       "      <th>a_1e-08</th>\n",
       "      <td>9.1e+06</td>\n",
       "      <td>3.1e+07</td>\n",
       "      <td>4.3e+05</td>\n",
       "      <td>2.3e+02</td>\n",
       "      <td>2e+03</td>\n",
       "      <td>3.4e+04</td>\n",
       "      <td>-2e+03</td>\n",
       "      <td>-1.3e+05</td>\n",
       "      <td>2.4e+03</td>\n",
       "      <td>1.9e+02</td>\n",
       "      <td>12</td>\n",
       "      <td>-8.8</td>\n",
       "      <td>20</td>\n",
       "      <td>57</td>\n",
       "      <td>79</td>\n",
       "      <td>64</td>\n",
       "      <td>-29</td>\n",
       "      <td>-9.1</td>\n",
       "      <td>2.6</td>\n",
       "      <td>-7.4</td>\n",
       "      <td>8.7</td>\n",
       "      <td>-59</td>\n",
       "      <td>-3.3</td>\n",
       "      <td>-20</td>\n",
       "      <td>-29</td>\n",
       "      <td>-16</td>\n",
       "      <td>-34</td>\n",
       "      <td>17</td>\n",
       "      <td>23</td>\n",
       "      <td>25</td>\n",
       "      <td>-17</td>\n",
       "      <td>13</td>\n",
       "      <td>-9.7</td>\n",
       "      <td>-10</td>\n",
       "      <td>5</td>\n",
       "      <td>-14</td>\n",
       "      <td>-30</td>\n",
       "      <td>15</td>\n",
       "      <td>35</td>\n",
       "      <td>1.7</td>\n",
       "      <td>-10</td>\n",
       "      <td>3.2</td>\n",
       "      <td>-13</td>\n",
       "      <td>-7</td>\n",
       "      <td>-25</td>\n",
       "      <td>-9.5</td>\n",
       "      <td>32</td>\n",
       "      <td>31</td>\n",
       "      <td>8.2</td>\n",
       "      <td>-96</td>\n",
       "      <td>-2.4e+02</td>\n",
       "      <td>-2.6e+02</td>\n",
       "      <td>-75</td>\n",
       "      <td>97</td>\n",
       "      <td>1.3e+02</td>\n",
       "      <td>1.2e+02</td>\n",
       "      <td>1.3e+02</td>\n",
       "      <td>81</td>\n",
       "      <td>50</td>\n",
       "      <td>1.4e+02</td>\n",
       "      <td>1.5e+02</td>\n",
       "      <td>1.7e+02</td>\n",
       "      <td>84</td>\n",
       "      <td>1.7e+02</td>\n",
       "      <td>73</td>\n",
       "      <td>-3.4</td>\n",
       "      <td>-25</td>\n",
       "      <td>0.078</td>\n",
       "      <td>-46</td>\n",
       "      <td>-1.4e+02</td>\n",
       "      <td>-69</td>\n",
       "      <td>-1.5e+02</td>\n",
       "      <td>13</td>\n",
       "      <td>-27</td>\n",
       "      <td>-22</td>\n",
       "      <td>67</td>\n",
       "      <td>1.5e+02</td>\n",
       "      <td>46</td>\n",
       "    </tr>\n",
       "    <tr>\n",
       "      <th>a_0.0001</th>\n",
       "      <td>9.1e+06</td>\n",
       "      <td>3.1e+07</td>\n",
       "      <td>4.3e+05</td>\n",
       "      <td>2.3e+02</td>\n",
       "      <td>2e+03</td>\n",
       "      <td>3.4e+04</td>\n",
       "      <td>-2e+03</td>\n",
       "      <td>-1.3e+05</td>\n",
       "      <td>2.4e+03</td>\n",
       "      <td>1.9e+02</td>\n",
       "      <td>12</td>\n",
       "      <td>-8.8</td>\n",
       "      <td>20</td>\n",
       "      <td>57</td>\n",
       "      <td>79</td>\n",
       "      <td>64</td>\n",
       "      <td>-29</td>\n",
       "      <td>-9.1</td>\n",
       "      <td>2.6</td>\n",
       "      <td>-7.4</td>\n",
       "      <td>8.7</td>\n",
       "      <td>-59</td>\n",
       "      <td>-3.3</td>\n",
       "      <td>-20</td>\n",
       "      <td>-29</td>\n",
       "      <td>-16</td>\n",
       "      <td>-33</td>\n",
       "      <td>17</td>\n",
       "      <td>23</td>\n",
       "      <td>25</td>\n",
       "      <td>-17</td>\n",
       "      <td>13</td>\n",
       "      <td>-9.7</td>\n",
       "      <td>-10</td>\n",
       "      <td>5</td>\n",
       "      <td>-14</td>\n",
       "      <td>-30</td>\n",
       "      <td>15</td>\n",
       "      <td>35</td>\n",
       "      <td>1.7</td>\n",
       "      <td>-10</td>\n",
       "      <td>3.2</td>\n",
       "      <td>-13</td>\n",
       "      <td>-7</td>\n",
       "      <td>-25</td>\n",
       "      <td>-9.5</td>\n",
       "      <td>32</td>\n",
       "      <td>31</td>\n",
       "      <td>8.1</td>\n",
       "      <td>-96</td>\n",
       "      <td>-2.4e+02</td>\n",
       "      <td>-2.6e+02</td>\n",
       "      <td>-75</td>\n",
       "      <td>97</td>\n",
       "      <td>1.2e+02</td>\n",
       "      <td>1.2e+02</td>\n",
       "      <td>1.3e+02</td>\n",
       "      <td>81</td>\n",
       "      <td>50</td>\n",
       "      <td>1.4e+02</td>\n",
       "      <td>1.5e+02</td>\n",
       "      <td>1.7e+02</td>\n",
       "      <td>84</td>\n",
       "      <td>1.7e+02</td>\n",
       "      <td>73</td>\n",
       "      <td>-3.5</td>\n",
       "      <td>-25</td>\n",
       "      <td>0.024</td>\n",
       "      <td>-46</td>\n",
       "      <td>-1.4e+02</td>\n",
       "      <td>-69</td>\n",
       "      <td>-1.5e+02</td>\n",
       "      <td>13</td>\n",
       "      <td>-26</td>\n",
       "      <td>-22</td>\n",
       "      <td>67</td>\n",
       "      <td>1.5e+02</td>\n",
       "      <td>46</td>\n",
       "    </tr>\n",
       "    <tr>\n",
       "      <th>a_0.001</th>\n",
       "      <td>9.1e+06</td>\n",
       "      <td>3.1e+07</td>\n",
       "      <td>4.3e+05</td>\n",
       "      <td>2.3e+02</td>\n",
       "      <td>2e+03</td>\n",
       "      <td>3.4e+04</td>\n",
       "      <td>-2e+03</td>\n",
       "      <td>-1.3e+05</td>\n",
       "      <td>2.4e+03</td>\n",
       "      <td>1.9e+02</td>\n",
       "      <td>12</td>\n",
       "      <td>-9</td>\n",
       "      <td>20</td>\n",
       "      <td>57</td>\n",
       "      <td>79</td>\n",
       "      <td>63</td>\n",
       "      <td>-29</td>\n",
       "      <td>-9</td>\n",
       "      <td>2.8</td>\n",
       "      <td>-7.3</td>\n",
       "      <td>8.8</td>\n",
       "      <td>-59</td>\n",
       "      <td>-3.1</td>\n",
       "      <td>-20</td>\n",
       "      <td>-29</td>\n",
       "      <td>-16</td>\n",
       "      <td>-33</td>\n",
       "      <td>17</td>\n",
       "      <td>23</td>\n",
       "      <td>25</td>\n",
       "      <td>-17</td>\n",
       "      <td>13</td>\n",
       "      <td>-9.6</td>\n",
       "      <td>-9.9</td>\n",
       "      <td>5.2</td>\n",
       "      <td>-14</td>\n",
       "      <td>-30</td>\n",
       "      <td>15</td>\n",
       "      <td>35</td>\n",
       "      <td>1.9</td>\n",
       "      <td>-10</td>\n",
       "      <td>3.3</td>\n",
       "      <td>-13</td>\n",
       "      <td>-6.8</td>\n",
       "      <td>-25</td>\n",
       "      <td>-9.4</td>\n",
       "      <td>30</td>\n",
       "      <td>30</td>\n",
       "      <td>6.9</td>\n",
       "      <td>-97</td>\n",
       "      <td>-2.4e+02</td>\n",
       "      <td>-2.6e+02</td>\n",
       "      <td>-75</td>\n",
       "      <td>96</td>\n",
       "      <td>1.2e+02</td>\n",
       "      <td>1.2e+02</td>\n",
       "      <td>1.3e+02</td>\n",
       "      <td>80</td>\n",
       "      <td>49</td>\n",
       "      <td>1.3e+02</td>\n",
       "      <td>1.5e+02</td>\n",
       "      <td>1.6e+02</td>\n",
       "      <td>83</td>\n",
       "      <td>1.7e+02</td>\n",
       "      <td>73</td>\n",
       "      <td>-4</td>\n",
       "      <td>-25</td>\n",
       "      <td>-0.46</td>\n",
       "      <td>-47</td>\n",
       "      <td>-1.4e+02</td>\n",
       "      <td>-69</td>\n",
       "      <td>-1.5e+02</td>\n",
       "      <td>13</td>\n",
       "      <td>-26</td>\n",
       "      <td>-22</td>\n",
       "      <td>66</td>\n",
       "      <td>1.5e+02</td>\n",
       "      <td>45</td>\n",
       "    </tr>\n",
       "    <tr>\n",
       "      <th>a_0.01</th>\n",
       "      <td>9.1e+06</td>\n",
       "      <td>3.1e+07</td>\n",
       "      <td>4.4e+05</td>\n",
       "      <td>2.3e+02</td>\n",
       "      <td>2.4e+03</td>\n",
       "      <td>3e+04</td>\n",
       "      <td>-2.1e+03</td>\n",
       "      <td>-1.3e+05</td>\n",
       "      <td>2.3e+03</td>\n",
       "      <td>1.9e+02</td>\n",
       "      <td>13</td>\n",
       "      <td>-11</td>\n",
       "      <td>18</td>\n",
       "      <td>55</td>\n",
       "      <td>77</td>\n",
       "      <td>61</td>\n",
       "      <td>-28</td>\n",
       "      <td>-7.9</td>\n",
       "      <td>3.7</td>\n",
       "      <td>-6.2</td>\n",
       "      <td>9.6</td>\n",
       "      <td>-58</td>\n",
       "      <td>-1.5</td>\n",
       "      <td>-19</td>\n",
       "      <td>-28</td>\n",
       "      <td>-15</td>\n",
       "      <td>-32</td>\n",
       "      <td>18</td>\n",
       "      <td>23</td>\n",
       "      <td>26</td>\n",
       "      <td>-17</td>\n",
       "      <td>14</td>\n",
       "      <td>-8.5</td>\n",
       "      <td>-8.7</td>\n",
       "      <td>6</td>\n",
       "      <td>-14</td>\n",
       "      <td>-28</td>\n",
       "      <td>16</td>\n",
       "      <td>36</td>\n",
       "      <td>2.9</td>\n",
       "      <td>-8.9</td>\n",
       "      <td>4.1</td>\n",
       "      <td>-13</td>\n",
       "      <td>-5.2</td>\n",
       "      <td>-25</td>\n",
       "      <td>-9.1</td>\n",
       "      <td>19</td>\n",
       "      <td>18</td>\n",
       "      <td>-4.1</td>\n",
       "      <td>-1.1e+02</td>\n",
       "      <td>-2.5e+02</td>\n",
       "      <td>-2.6e+02</td>\n",
       "      <td>-79</td>\n",
       "      <td>90</td>\n",
       "      <td>1.2e+02</td>\n",
       "      <td>1.1e+02</td>\n",
       "      <td>1.2e+02</td>\n",
       "      <td>75</td>\n",
       "      <td>44</td>\n",
       "      <td>1.3e+02</td>\n",
       "      <td>1.4e+02</td>\n",
       "      <td>1.6e+02</td>\n",
       "      <td>78</td>\n",
       "      <td>1.6e+02</td>\n",
       "      <td>67</td>\n",
       "      <td>-8.7</td>\n",
       "      <td>-29</td>\n",
       "      <td>-4.7</td>\n",
       "      <td>-50</td>\n",
       "      <td>-1.3e+02</td>\n",
       "      <td>-65</td>\n",
       "      <td>-1.4e+02</td>\n",
       "      <td>16</td>\n",
       "      <td>-23</td>\n",
       "      <td>-19</td>\n",
       "      <td>59</td>\n",
       "      <td>1.4e+02</td>\n",
       "      <td>38</td>\n",
       "    </tr>\n",
       "    <tr>\n",
       "      <th>a_1</th>\n",
       "      <td>9.2e+06</td>\n",
       "      <td>3.1e+07</td>\n",
       "      <td>6.6e+05</td>\n",
       "      <td>1.9e+02</td>\n",
       "      <td>4.9e+03</td>\n",
       "      <td>-6.8e+04</td>\n",
       "      <td>2e+03</td>\n",
       "      <td>-8.8e+04</td>\n",
       "      <td>1.1e+03</td>\n",
       "      <td>98</td>\n",
       "      <td>29</td>\n",
       "      <td>-25</td>\n",
       "      <td>-3.8</td>\n",
       "      <td>15</td>\n",
       "      <td>29</td>\n",
       "      <td>22</td>\n",
       "      <td>-13</td>\n",
       "      <td>-0.88</td>\n",
       "      <td>2.7</td>\n",
       "      <td>-0.0021</td>\n",
       "      <td>3.9</td>\n",
       "      <td>-30</td>\n",
       "      <td>5.2</td>\n",
       "      <td>-9.6</td>\n",
       "      <td>-11</td>\n",
       "      <td>-8.4</td>\n",
       "      <td>-10</td>\n",
       "      <td>6.8</td>\n",
       "      <td>9.9</td>\n",
       "      <td>19</td>\n",
       "      <td>-7.5</td>\n",
       "      <td>11</td>\n",
       "      <td>-2</td>\n",
       "      <td>2.5</td>\n",
       "      <td>3.3</td>\n",
       "      <td>-6.4</td>\n",
       "      <td>-7.6</td>\n",
       "      <td>9.3</td>\n",
       "      <td>26</td>\n",
       "      <td>5.9</td>\n",
       "      <td>2.3</td>\n",
       "      <td>-0.036</td>\n",
       "      <td>-5.1</td>\n",
       "      <td>1.6</td>\n",
       "      <td>-8.9</td>\n",
       "      <td>-3.7</td>\n",
       "      <td>-28</td>\n",
       "      <td>-30</td>\n",
       "      <td>-34</td>\n",
       "      <td>-60</td>\n",
       "      <td>-1.2e+02</td>\n",
       "      <td>-1.4e+02</td>\n",
       "      <td>-60</td>\n",
       "      <td>14</td>\n",
       "      <td>26</td>\n",
       "      <td>25</td>\n",
       "      <td>32</td>\n",
       "      <td>16</td>\n",
       "      <td>4.9</td>\n",
       "      <td>53</td>\n",
       "      <td>60</td>\n",
       "      <td>69</td>\n",
       "      <td>24</td>\n",
       "      <td>44</td>\n",
       "      <td>-2.1</td>\n",
       "      <td>-30</td>\n",
       "      <td>-32</td>\n",
       "      <td>-14</td>\n",
       "      <td>-30</td>\n",
       "      <td>-44</td>\n",
       "      <td>-19</td>\n",
       "      <td>-46</td>\n",
       "      <td>30</td>\n",
       "      <td>7.7</td>\n",
       "      <td>13</td>\n",
       "      <td>-5</td>\n",
       "      <td>50</td>\n",
       "      <td>-13</td>\n",
       "    </tr>\n",
       "    <tr>\n",
       "      <th>a_5</th>\n",
       "      <td>9.3e+06</td>\n",
       "      <td>3.1e+07</td>\n",
       "      <td>3.5e+05</td>\n",
       "      <td>81</td>\n",
       "      <td>2.6e+03</td>\n",
       "      <td>-4.2e+04</td>\n",
       "      <td>1.5e+03</td>\n",
       "      <td>-4e+04</td>\n",
       "      <td>3.8e+02</td>\n",
       "      <td>34</td>\n",
       "      <td>14</td>\n",
       "      <td>-11</td>\n",
       "      <td>-2</td>\n",
       "      <td>4.1</td>\n",
       "      <td>9.8</td>\n",
       "      <td>7.7</td>\n",
       "      <td>-4.4</td>\n",
       "      <td>-0.047</td>\n",
       "      <td>0.062</td>\n",
       "      <td>-0.2</td>\n",
       "      <td>0.43</td>\n",
       "      <td>-10</td>\n",
       "      <td>1.6</td>\n",
       "      <td>-3.2</td>\n",
       "      <td>-3</td>\n",
       "      <td>-3.9</td>\n",
       "      <td>-2.9</td>\n",
       "      <td>1.3</td>\n",
       "      <td>3.2</td>\n",
       "      <td>6.6</td>\n",
       "      <td>-2.3</td>\n",
       "      <td>4.4</td>\n",
       "      <td>-0.88</td>\n",
       "      <td>1.6</td>\n",
       "      <td>0.63</td>\n",
       "      <td>-1.7</td>\n",
       "      <td>-2.3</td>\n",
       "      <td>3.1</td>\n",
       "      <td>9.6</td>\n",
       "      <td>2.2</td>\n",
       "      <td>1.4</td>\n",
       "      <td>-0.97</td>\n",
       "      <td>-1</td>\n",
       "      <td>0.078</td>\n",
       "      <td>-1.5</td>\n",
       "      <td>0.13</td>\n",
       "      <td>-5.9</td>\n",
       "      <td>-6.9</td>\n",
       "      <td>-6.8</td>\n",
       "      <td>-11</td>\n",
       "      <td>-28</td>\n",
       "      <td>-43</td>\n",
       "      <td>-22</td>\n",
       "      <td>0.23</td>\n",
       "      <td>3.7</td>\n",
       "      <td>3.7</td>\n",
       "      <td>6</td>\n",
       "      <td>5</td>\n",
       "      <td>2.7</td>\n",
       "      <td>20</td>\n",
       "      <td>22</td>\n",
       "      <td>26</td>\n",
       "      <td>9.7</td>\n",
       "      <td>9.2</td>\n",
       "      <td>-5.8</td>\n",
       "      <td>-12</td>\n",
       "      <td>-11</td>\n",
       "      <td>-3.4</td>\n",
       "      <td>-6.9</td>\n",
       "      <td>-14</td>\n",
       "      <td>-6.1</td>\n",
       "      <td>-12</td>\n",
       "      <td>11</td>\n",
       "      <td>2.7</td>\n",
       "      <td>5</td>\n",
       "      <td>-6.3</td>\n",
       "      <td>19</td>\n",
       "      <td>-7</td>\n",
       "    </tr>\n",
       "    <tr>\n",
       "      <th>a_10</th>\n",
       "      <td>9.3e+06</td>\n",
       "      <td>3.1e+07</td>\n",
       "      <td>2.1e+05</td>\n",
       "      <td>46</td>\n",
       "      <td>1.5e+03</td>\n",
       "      <td>-2.5e+04</td>\n",
       "      <td>9.6e+02</td>\n",
       "      <td>-2.4e+04</td>\n",
       "      <td>2.1e+02</td>\n",
       "      <td>19</td>\n",
       "      <td>8.5</td>\n",
       "      <td>-6.1</td>\n",
       "      <td>-1.1</td>\n",
       "      <td>2.2</td>\n",
       "      <td>5.4</td>\n",
       "      <td>4.3</td>\n",
       "      <td>-2.4</td>\n",
       "      <td>0.022</td>\n",
       "      <td>-0.12</td>\n",
       "      <td>-0.15</td>\n",
       "      <td>0.13</td>\n",
       "      <td>-5.6</td>\n",
       "      <td>0.85</td>\n",
       "      <td>-1.8</td>\n",
       "      <td>-1.5</td>\n",
       "      <td>-2.3</td>\n",
       "      <td>-1.6</td>\n",
       "      <td>0.57</td>\n",
       "      <td>1.7</td>\n",
       "      <td>3.6</td>\n",
       "      <td>-1.3</td>\n",
       "      <td>2.5</td>\n",
       "      <td>-0.53</td>\n",
       "      <td>0.95</td>\n",
       "      <td>0.29</td>\n",
       "      <td>-0.89</td>\n",
       "      <td>-1.2</td>\n",
       "      <td>1.7</td>\n",
       "      <td>5.3</td>\n",
       "      <td>1.2</td>\n",
       "      <td>0.86</td>\n",
       "      <td>-0.64</td>\n",
       "      <td>-0.46</td>\n",
       "      <td>-0.031</td>\n",
       "      <td>-0.62</td>\n",
       "      <td>0.3</td>\n",
       "      <td>-2.6</td>\n",
       "      <td>-3.1</td>\n",
       "      <td>-2.8</td>\n",
       "      <td>-4.3</td>\n",
       "      <td>-14</td>\n",
       "      <td>-23</td>\n",
       "      <td>-13</td>\n",
       "      <td>-0.64</td>\n",
       "      <td>1.2</td>\n",
       "      <td>1.3</td>\n",
       "      <td>2.6</td>\n",
       "      <td>2.9</td>\n",
       "      <td>1.8</td>\n",
       "      <td>11</td>\n",
       "      <td>13</td>\n",
       "      <td>15</td>\n",
       "      <td>5.6</td>\n",
       "      <td>4.3</td>\n",
       "      <td>-3.8</td>\n",
       "      <td>-6.9</td>\n",
       "      <td>-6.2</td>\n",
       "      <td>-1.7</td>\n",
       "      <td>-3.3</td>\n",
       "      <td>-7.4</td>\n",
       "      <td>-3.3</td>\n",
       "      <td>-6</td>\n",
       "      <td>5.9</td>\n",
       "      <td>1.4</td>\n",
       "      <td>2.7</td>\n",
       "      <td>-4.3</td>\n",
       "      <td>11</td>\n",
       "      <td>-4.1</td>\n",
       "    </tr>\n",
       "    <tr>\n",
       "      <th>a_20</th>\n",
       "      <td>9.3e+06</td>\n",
       "      <td>3.1e+07</td>\n",
       "      <td>1.2e+05</td>\n",
       "      <td>25</td>\n",
       "      <td>8.3e+02</td>\n",
       "      <td>-1.4e+04</td>\n",
       "      <td>5.4e+02</td>\n",
       "      <td>-1.3e+04</td>\n",
       "      <td>1.1e+02</td>\n",
       "      <td>9.9</td>\n",
       "      <td>4.7</td>\n",
       "      <td>-3.3</td>\n",
       "      <td>-0.62</td>\n",
       "      <td>1.1</td>\n",
       "      <td>2.9</td>\n",
       "      <td>2.3</td>\n",
       "      <td>-1.3</td>\n",
       "      <td>0.028</td>\n",
       "      <td>-0.11</td>\n",
       "      <td>-0.094</td>\n",
       "      <td>0.039</td>\n",
       "      <td>-2.9</td>\n",
       "      <td>0.44</td>\n",
       "      <td>-0.93</td>\n",
       "      <td>-0.76</td>\n",
       "      <td>-1.3</td>\n",
       "      <td>-0.8</td>\n",
       "      <td>0.26</td>\n",
       "      <td>0.91</td>\n",
       "      <td>1.9</td>\n",
       "      <td>-0.66</td>\n",
       "      <td>1.4</td>\n",
       "      <td>-0.3</td>\n",
       "      <td>0.52</td>\n",
       "      <td>0.14</td>\n",
       "      <td>-0.45</td>\n",
       "      <td>-0.63</td>\n",
       "      <td>0.86</td>\n",
       "      <td>2.8</td>\n",
       "      <td>0.62</td>\n",
       "      <td>0.47</td>\n",
       "      <td>-0.37</td>\n",
       "      <td>-0.21</td>\n",
       "      <td>-0.04</td>\n",
       "      <td>-0.26</td>\n",
       "      <td>0.23</td>\n",
       "      <td>-1.1</td>\n",
       "      <td>-1.4</td>\n",
       "      <td>-1.2</td>\n",
       "      <td>-1.8</td>\n",
       "      <td>-6.7</td>\n",
       "      <td>-12</td>\n",
       "      <td>-6.8</td>\n",
       "      <td>-0.59</td>\n",
       "      <td>0.36</td>\n",
       "      <td>0.4</td>\n",
       "      <td>1.1</td>\n",
       "      <td>1.6</td>\n",
       "      <td>1</td>\n",
       "      <td>6.1</td>\n",
       "      <td>6.7</td>\n",
       "      <td>7.8</td>\n",
       "      <td>3.1</td>\n",
       "      <td>2</td>\n",
       "      <td>-2.2</td>\n",
       "      <td>-3.7</td>\n",
       "      <td>-3.2</td>\n",
       "      <td>-0.83</td>\n",
       "      <td>-1.6</td>\n",
       "      <td>-3.9</td>\n",
       "      <td>-1.7</td>\n",
       "      <td>-3</td>\n",
       "      <td>3.1</td>\n",
       "      <td>0.69</td>\n",
       "      <td>1.4</td>\n",
       "      <td>-2.5</td>\n",
       "      <td>5.8</td>\n",
       "      <td>-2.3</td>\n",
       "    </tr>\n",
       "    <tr>\n",
       "      <th>a_25</th>\n",
       "      <td>9.3e+06</td>\n",
       "      <td>3.1e+07</td>\n",
       "      <td>9.4e+04</td>\n",
       "      <td>20</td>\n",
       "      <td>6.8e+02</td>\n",
       "      <td>-1.2e+04</td>\n",
       "      <td>4.4e+02</td>\n",
       "      <td>-1.1e+04</td>\n",
       "      <td>89</td>\n",
       "      <td>8</td>\n",
       "      <td>3.8</td>\n",
       "      <td>-2.7</td>\n",
       "      <td>-0.5</td>\n",
       "      <td>0.89</td>\n",
       "      <td>2.3</td>\n",
       "      <td>1.8</td>\n",
       "      <td>-1</td>\n",
       "      <td>0.025</td>\n",
       "      <td>-0.099</td>\n",
       "      <td>-0.079</td>\n",
       "      <td>0.026</td>\n",
       "      <td>-2.4</td>\n",
       "      <td>0.35</td>\n",
       "      <td>-0.75</td>\n",
       "      <td>-0.61</td>\n",
       "      <td>-1</td>\n",
       "      <td>-0.65</td>\n",
       "      <td>0.21</td>\n",
       "      <td>0.74</td>\n",
       "      <td>1.5</td>\n",
       "      <td>-0.53</td>\n",
       "      <td>1.1</td>\n",
       "      <td>-0.24</td>\n",
       "      <td>0.43</td>\n",
       "      <td>0.11</td>\n",
       "      <td>-0.36</td>\n",
       "      <td>-0.5</td>\n",
       "      <td>0.7</td>\n",
       "      <td>2.3</td>\n",
       "      <td>0.5</td>\n",
       "      <td>0.38</td>\n",
       "      <td>-0.3</td>\n",
       "      <td>-0.16</td>\n",
       "      <td>-0.037</td>\n",
       "      <td>-0.19</td>\n",
       "      <td>0.2</td>\n",
       "      <td>-0.86</td>\n",
       "      <td>-1.1</td>\n",
       "      <td>-0.92</td>\n",
       "      <td>-1.4</td>\n",
       "      <td>-5.3</td>\n",
       "      <td>-9.9</td>\n",
       "      <td>-5.5</td>\n",
       "      <td>-0.53</td>\n",
       "      <td>0.24</td>\n",
       "      <td>0.28</td>\n",
       "      <td>0.84</td>\n",
       "      <td>1.3</td>\n",
       "      <td>0.86</td>\n",
       "      <td>5</td>\n",
       "      <td>5.5</td>\n",
       "      <td>6.3</td>\n",
       "      <td>2.5</td>\n",
       "      <td>1.6</td>\n",
       "      <td>-1.8</td>\n",
       "      <td>-3</td>\n",
       "      <td>-2.6</td>\n",
       "      <td>-0.66</td>\n",
       "      <td>-1.3</td>\n",
       "      <td>-3.1</td>\n",
       "      <td>-1.4</td>\n",
       "      <td>-2.4</td>\n",
       "      <td>2.5</td>\n",
       "      <td>0.55</td>\n",
       "      <td>1.1</td>\n",
       "      <td>-2.1</td>\n",
       "      <td>4.7</td>\n",
       "      <td>-1.8</td>\n",
       "    </tr>\n",
       "  </tbody>\n",
       "</table>\n",
       "</div>"
      ],
      "text/plain": [
       "         mrss_train mrss_test intercept  ... coef_Var_72 coef_Var_73 coef_Var_74\n",
       "a_0         9.1e+06   3.1e+07   4.3e+05  ...          67     1.5e+02          46\n",
       "a_1e-08     9.1e+06   3.1e+07   4.3e+05  ...          67     1.5e+02          46\n",
       "a_0.0001    9.1e+06   3.1e+07   4.3e+05  ...          67     1.5e+02          46\n",
       "a_0.001     9.1e+06   3.1e+07   4.3e+05  ...          66     1.5e+02          45\n",
       "a_0.01      9.1e+06   3.1e+07   4.4e+05  ...          59     1.4e+02          38\n",
       "a_1         9.2e+06   3.1e+07   6.6e+05  ...          -5          50         -13\n",
       "a_5         9.3e+06   3.1e+07   3.5e+05  ...        -6.3          19          -7\n",
       "a_10        9.3e+06   3.1e+07   2.1e+05  ...        -4.3          11        -4.1\n",
       "a_20        9.3e+06   3.1e+07   1.2e+05  ...        -2.5         5.8        -2.3\n",
       "a_25        9.3e+06   3.1e+07   9.4e+04  ...        -2.1         4.7        -1.8\n",
       "\n",
       "[10 rows x 78 columns]"
      ]
     },
     "execution_count": 147,
     "metadata": {
      "tags": []
     },
     "output_type": "execute_result"
    }
   ],
   "source": [
    "#Set the display format to be scientific for ease of analysis\n",
    "pd.options.display.float_format = '{:,.2g}'.format\n",
    "coef_matrix_ridge"
   ]
  },
  {
   "cell_type": "code",
   "execution_count": null,
   "metadata": {
    "colab": {
     "base_uri": "https://localhost:8080/",
     "height": 308
    },
    "executionInfo": {
     "elapsed": 2240007,
     "status": "ok",
     "timestamp": 1583754147682,
     "user": {
      "displayName": "SAHIL MANKAD",
      "photoUrl": "",
      "userId": "01524592176474520459"
     },
     "user_tz": -330
    },
    "id": "s2sEVq3l95Bh",
    "outputId": "46ef6e4c-cdbf-4385-9896-24772716124a"
   },
   "outputs": [
    {
     "data": {
      "text/plain": [
       "<matplotlib.legend.Legend at 0x7f3484192b70>"
      ]
     },
     "execution_count": 148,
     "metadata": {
      "tags": []
     },
     "output_type": "execute_result"
    },
    {
     "data": {
      "image/png": "[encoded data removed]",
      "text/plain": [
       "<Figure size 432x288 with 1 Axes>"
      ]
     },
     "metadata": {
      "tags": []
     },
     "output_type": "display_data"
    }
   ],
   "source": [
    "coef_matrix_ridge[['mrss_train','mrss_test']].plot()\n",
    "plt.xlabel('Alpha Values')\n",
    "plt.ylabel('MRSS')\n",
    "plt.legend(['train', 'test'])"
   ]
  },
  {
   "cell_type": "code",
   "execution_count": null,
   "metadata": {
    "colab": {
     "base_uri": "https://localhost:8080/",
     "height": 204
    },
    "executionInfo": {
     "elapsed": 2239295,
     "status": "ok",
     "timestamp": 1583754147683,
     "user": {
      "displayName": "SAHIL MANKAD",
      "photoUrl": "",
      "userId": "01524592176474520459"
     },
     "user_tz": -330
    },
    "id": "txwOtpqv97Z4",
    "outputId": "1582be68-e86e-490b-91d4-2d4d868d6dc5"
   },
   "outputs": [
    {
     "data": {
      "text/plain": [
       "a_0         0\n",
       "a_1e-08     0\n",
       "a_0.0001    0\n",
       "a_0.001     0\n",
       "a_0.01      0\n",
       "a_1         0\n",
       "a_5         0\n",
       "a_10        0\n",
       "a_20        0\n",
       "a_25        0\n",
       "dtype: int64"
      ]
     },
     "execution_count": 149,
     "metadata": {
      "tags": []
     },
     "output_type": "execute_result"
    }
   ],
   "source": [
    "coef_matrix_ridge.apply(lambda x: sum(x.values==0),axis=1)"
   ]
  },
  {
   "cell_type": "markdown",
   "metadata": {
    "id": "XGu9GXJ6BOTJ"
   },
   "source": [
    "From the data we can see that the data is non-linear and linear algorithms won't be very effective."
   ]
  }
 ],
 "metadata": {
  "accelerator": "GPU",
  "colab": {
   "authorship_tag": "ABX9TyOxX27wSnWm2KqPYJRSOZuj",
   "collapsed_sections": [
    "e-VPUKYy4O0z",
    "YyLNnjZs4RTB",
    "kzzIPBCMvZKp",
    "KSdYMK-tyjdB",
    "exwL4r9Nq3mV",
    "x0VyT51Ay3ii",
    "zP1pBqEkHIjt",
    "C5iL8YiMC4Vi",
    "iXKzYsHtUDO1",
    "v6VDaaonJhaA",
    "3vAIRMJLmMf9",
    "vawORJ7mKv05",
    "p1Q0_NqkJhTD",
    "koZHcNc5E0SX",
    "lGSRVAwhZLvP",
    "hCS-OofhnzlL",
    "Qj4TXrv0nkWT",
    "KKk3Kd5jY6n1",
    "ezPjO22Kpq7v",
    "y_ull_aGYPwi",
    "7usEVH_GqyQH",
    "ZolZ_bsLOi2C",
    "ks5Zl7JuU_sx",
    "Gj_HvNWnVCGb",
    "31U87jZ8UxK0"
   ],
   "machine_shape": "hm",
   "name": "NYC Trip - Linear Models Final.ipynb",
   "provenance": []
  },
  "kernelspec": {
   "display_name": "Python 3",
   "language": "python",
   "name": "python3"
  },
  "language_info": {
   "codemirror_mode": {
    "name": "ipython",
    "version": 3
   },
   "file_extension": ".py",
   "mimetype": "text/x-python",
   "name": "python",
   "nbconvert_exporter": "python",
   "pygments_lexer": "ipython3",
   "version": "3.7.3"
  }
 },
 "nbformat": 4,
 "nbformat_minor": 1
}
